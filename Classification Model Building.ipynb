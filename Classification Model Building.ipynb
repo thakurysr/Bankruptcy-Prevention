{
 "cells": [
  {
   "cell_type": "markdown",
   "id": "f89ebdc0",
   "metadata": {},
   "source": [
    "# Model Building\n",
    "After the EDA, we will proceed with training different machine learning models with the data. The training is done by splitting the data into training and testing sets. The key metric to determine the best model in case of classification problems is the **F1 Score**. So the models with highest training and testing F1 Scores will be chosen as the best ones.\n",
    "\n",
    "## Importing the libraries"
   ]
  },
  {
   "cell_type": "code",
   "execution_count": 15,
   "id": "b568bdb3",
   "metadata": {
    "ExecuteTime": {
     "end_time": "2023-08-06T13:23:34.696162Z",
     "start_time": "2023-08-06T13:23:32.691413Z"
    }
   },
   "outputs": [],
   "source": [
    "import pandas as pd\n",
    "import numpy as np\n",
    "import matplotlib.pyplot as plt\n",
    "import seaborn as sns\n",
    "import warnings\n",
    "warnings.filterwarnings('ignore')\n",
    "\n",
    "from sklearn.model_selection import train_test_split\n",
    "from sklearn.metrics import accuracy_score, confusion_matrix, f1_score, precision_score, classification_report, roc_auc_score, roc_curve"
   ]
  },
  {
   "cell_type": "code",
   "execution_count": 16,
   "id": "94c4dfa2",
   "metadata": {
    "ExecuteTime": {
     "end_time": "2023-08-06T13:23:34.742041Z",
     "start_time": "2023-08-06T13:23:34.698170Z"
    }
   },
   "outputs": [
    {
     "data": {
      "text/html": [
       "<div>\n",
       "<style scoped>\n",
       "    .dataframe tbody tr th:only-of-type {\n",
       "        vertical-align: middle;\n",
       "    }\n",
       "\n",
       "    .dataframe tbody tr th {\n",
       "        vertical-align: top;\n",
       "    }\n",
       "\n",
       "    .dataframe thead th {\n",
       "        text-align: right;\n",
       "    }\n",
       "</style>\n",
       "<table border=\"1\" class=\"dataframe\">\n",
       "  <thead>\n",
       "    <tr style=\"text-align: right;\">\n",
       "      <th></th>\n",
       "      <th>Industrial Risk</th>\n",
       "      <th>Management Risk</th>\n",
       "      <th>Financial Flexibility</th>\n",
       "      <th>Credibility</th>\n",
       "      <th>Competitiveness</th>\n",
       "      <th>Operating Risk</th>\n",
       "      <th>Class</th>\n",
       "      <th>Class Code</th>\n",
       "    </tr>\n",
       "  </thead>\n",
       "  <tbody>\n",
       "    <tr>\n",
       "      <th>0</th>\n",
       "      <td>0.5</td>\n",
       "      <td>1.0</td>\n",
       "      <td>0.0</td>\n",
       "      <td>0.0</td>\n",
       "      <td>0.0</td>\n",
       "      <td>0.5</td>\n",
       "      <td>bankruptcy</td>\n",
       "      <td>0</td>\n",
       "    </tr>\n",
       "    <tr>\n",
       "      <th>1</th>\n",
       "      <td>0.0</td>\n",
       "      <td>1.0</td>\n",
       "      <td>0.0</td>\n",
       "      <td>0.0</td>\n",
       "      <td>0.0</td>\n",
       "      <td>1.0</td>\n",
       "      <td>bankruptcy</td>\n",
       "      <td>0</td>\n",
       "    </tr>\n",
       "    <tr>\n",
       "      <th>2</th>\n",
       "      <td>1.0</td>\n",
       "      <td>0.0</td>\n",
       "      <td>0.0</td>\n",
       "      <td>0.0</td>\n",
       "      <td>0.0</td>\n",
       "      <td>1.0</td>\n",
       "      <td>bankruptcy</td>\n",
       "      <td>0</td>\n",
       "    </tr>\n",
       "    <tr>\n",
       "      <th>3</th>\n",
       "      <td>0.5</td>\n",
       "      <td>0.0</td>\n",
       "      <td>0.0</td>\n",
       "      <td>0.5</td>\n",
       "      <td>0.0</td>\n",
       "      <td>1.0</td>\n",
       "      <td>bankruptcy</td>\n",
       "      <td>0</td>\n",
       "    </tr>\n",
       "    <tr>\n",
       "      <th>4</th>\n",
       "      <td>1.0</td>\n",
       "      <td>1.0</td>\n",
       "      <td>0.0</td>\n",
       "      <td>0.0</td>\n",
       "      <td>0.0</td>\n",
       "      <td>1.0</td>\n",
       "      <td>bankruptcy</td>\n",
       "      <td>0</td>\n",
       "    </tr>\n",
       "    <tr>\n",
       "      <th>...</th>\n",
       "      <td>...</td>\n",
       "      <td>...</td>\n",
       "      <td>...</td>\n",
       "      <td>...</td>\n",
       "      <td>...</td>\n",
       "      <td>...</td>\n",
       "      <td>...</td>\n",
       "      <td>...</td>\n",
       "    </tr>\n",
       "    <tr>\n",
       "      <th>245</th>\n",
       "      <td>0.0</td>\n",
       "      <td>1.0</td>\n",
       "      <td>1.0</td>\n",
       "      <td>1.0</td>\n",
       "      <td>1.0</td>\n",
       "      <td>1.0</td>\n",
       "      <td>non-bankruptcy</td>\n",
       "      <td>1</td>\n",
       "    </tr>\n",
       "    <tr>\n",
       "      <th>246</th>\n",
       "      <td>1.0</td>\n",
       "      <td>1.0</td>\n",
       "      <td>0.5</td>\n",
       "      <td>1.0</td>\n",
       "      <td>1.0</td>\n",
       "      <td>0.0</td>\n",
       "      <td>non-bankruptcy</td>\n",
       "      <td>1</td>\n",
       "    </tr>\n",
       "    <tr>\n",
       "      <th>247</th>\n",
       "      <td>0.0</td>\n",
       "      <td>1.0</td>\n",
       "      <td>1.0</td>\n",
       "      <td>0.5</td>\n",
       "      <td>0.5</td>\n",
       "      <td>0.0</td>\n",
       "      <td>non-bankruptcy</td>\n",
       "      <td>1</td>\n",
       "    </tr>\n",
       "    <tr>\n",
       "      <th>248</th>\n",
       "      <td>1.0</td>\n",
       "      <td>0.0</td>\n",
       "      <td>0.5</td>\n",
       "      <td>1.0</td>\n",
       "      <td>0.5</td>\n",
       "      <td>0.0</td>\n",
       "      <td>non-bankruptcy</td>\n",
       "      <td>1</td>\n",
       "    </tr>\n",
       "    <tr>\n",
       "      <th>249</th>\n",
       "      <td>1.0</td>\n",
       "      <td>0.0</td>\n",
       "      <td>0.5</td>\n",
       "      <td>0.5</td>\n",
       "      <td>1.0</td>\n",
       "      <td>1.0</td>\n",
       "      <td>non-bankruptcy</td>\n",
       "      <td>1</td>\n",
       "    </tr>\n",
       "  </tbody>\n",
       "</table>\n",
       "<p>250 rows × 8 columns</p>\n",
       "</div>"
      ],
      "text/plain": [
       "     Industrial Risk  Management Risk  Financial Flexibility  Credibility  \\\n",
       "0                0.5              1.0                    0.0          0.0   \n",
       "1                0.0              1.0                    0.0          0.0   \n",
       "2                1.0              0.0                    0.0          0.0   \n",
       "3                0.5              0.0                    0.0          0.5   \n",
       "4                1.0              1.0                    0.0          0.0   \n",
       "..               ...              ...                    ...          ...   \n",
       "245              0.0              1.0                    1.0          1.0   \n",
       "246              1.0              1.0                    0.5          1.0   \n",
       "247              0.0              1.0                    1.0          0.5   \n",
       "248              1.0              0.0                    0.5          1.0   \n",
       "249              1.0              0.0                    0.5          0.5   \n",
       "\n",
       "     Competitiveness  Operating Risk           Class  Class Code  \n",
       "0                0.0             0.5      bankruptcy           0  \n",
       "1                0.0             1.0      bankruptcy           0  \n",
       "2                0.0             1.0      bankruptcy           0  \n",
       "3                0.0             1.0      bankruptcy           0  \n",
       "4                0.0             1.0      bankruptcy           0  \n",
       "..               ...             ...             ...         ...  \n",
       "245              1.0             1.0  non-bankruptcy           1  \n",
       "246              1.0             0.0  non-bankruptcy           1  \n",
       "247              0.5             0.0  non-bankruptcy           1  \n",
       "248              0.5             0.0  non-bankruptcy           1  \n",
       "249              1.0             1.0  non-bankruptcy           1  \n",
       "\n",
       "[250 rows x 8 columns]"
      ]
     },
     "execution_count": 16,
     "metadata": {},
     "output_type": "execute_result"
    }
   ],
   "source": [
    "data = pd.read_csv('bankruptcy-prevention_encoded.csv',index_col=0)\n",
    "data"
   ]
  },
  {
   "cell_type": "code",
   "execution_count": 17,
   "id": "64053c3f",
   "metadata": {
    "scrolled": true
   },
   "outputs": [
    {
     "data": {
      "text/html": [
       "<div>\n",
       "<style scoped>\n",
       "    .dataframe tbody tr th:only-of-type {\n",
       "        vertical-align: middle;\n",
       "    }\n",
       "\n",
       "    .dataframe tbody tr th {\n",
       "        vertical-align: top;\n",
       "    }\n",
       "\n",
       "    .dataframe thead th {\n",
       "        text-align: right;\n",
       "    }\n",
       "</style>\n",
       "<table border=\"1\" class=\"dataframe\">\n",
       "  <thead>\n",
       "    <tr style=\"text-align: right;\">\n",
       "      <th></th>\n",
       "      <th>Industrial Risk</th>\n",
       "      <th>Management Risk</th>\n",
       "      <th>Financial Flexibility</th>\n",
       "      <th>Credibility</th>\n",
       "      <th>Competitiveness</th>\n",
       "      <th>Operating Risk</th>\n",
       "      <th>Class</th>\n",
       "      <th>Class Code</th>\n",
       "    </tr>\n",
       "  </thead>\n",
       "  <tbody>\n",
       "    <tr>\n",
       "      <th>0</th>\n",
       "      <td>0.5</td>\n",
       "      <td>1.0</td>\n",
       "      <td>0.0</td>\n",
       "      <td>0.0</td>\n",
       "      <td>0.0</td>\n",
       "      <td>0.5</td>\n",
       "      <td>bankruptcy</td>\n",
       "      <td>0</td>\n",
       "    </tr>\n",
       "    <tr>\n",
       "      <th>1</th>\n",
       "      <td>0.0</td>\n",
       "      <td>1.0</td>\n",
       "      <td>0.0</td>\n",
       "      <td>0.0</td>\n",
       "      <td>0.0</td>\n",
       "      <td>1.0</td>\n",
       "      <td>bankruptcy</td>\n",
       "      <td>0</td>\n",
       "    </tr>\n",
       "    <tr>\n",
       "      <th>2</th>\n",
       "      <td>1.0</td>\n",
       "      <td>0.0</td>\n",
       "      <td>0.0</td>\n",
       "      <td>0.0</td>\n",
       "      <td>0.0</td>\n",
       "      <td>1.0</td>\n",
       "      <td>bankruptcy</td>\n",
       "      <td>0</td>\n",
       "    </tr>\n",
       "    <tr>\n",
       "      <th>3</th>\n",
       "      <td>0.5</td>\n",
       "      <td>0.0</td>\n",
       "      <td>0.0</td>\n",
       "      <td>0.5</td>\n",
       "      <td>0.0</td>\n",
       "      <td>1.0</td>\n",
       "      <td>bankruptcy</td>\n",
       "      <td>0</td>\n",
       "    </tr>\n",
       "    <tr>\n",
       "      <th>4</th>\n",
       "      <td>1.0</td>\n",
       "      <td>1.0</td>\n",
       "      <td>0.0</td>\n",
       "      <td>0.0</td>\n",
       "      <td>0.0</td>\n",
       "      <td>1.0</td>\n",
       "      <td>bankruptcy</td>\n",
       "      <td>0</td>\n",
       "    </tr>\n",
       "    <tr>\n",
       "      <th>...</th>\n",
       "      <td>...</td>\n",
       "      <td>...</td>\n",
       "      <td>...</td>\n",
       "      <td>...</td>\n",
       "      <td>...</td>\n",
       "      <td>...</td>\n",
       "      <td>...</td>\n",
       "      <td>...</td>\n",
       "    </tr>\n",
       "    <tr>\n",
       "      <th>245</th>\n",
       "      <td>0.0</td>\n",
       "      <td>1.0</td>\n",
       "      <td>1.0</td>\n",
       "      <td>1.0</td>\n",
       "      <td>1.0</td>\n",
       "      <td>1.0</td>\n",
       "      <td>non-bankruptcy</td>\n",
       "      <td>1</td>\n",
       "    </tr>\n",
       "    <tr>\n",
       "      <th>246</th>\n",
       "      <td>1.0</td>\n",
       "      <td>1.0</td>\n",
       "      <td>0.5</td>\n",
       "      <td>1.0</td>\n",
       "      <td>1.0</td>\n",
       "      <td>0.0</td>\n",
       "      <td>non-bankruptcy</td>\n",
       "      <td>1</td>\n",
       "    </tr>\n",
       "    <tr>\n",
       "      <th>247</th>\n",
       "      <td>0.0</td>\n",
       "      <td>1.0</td>\n",
       "      <td>1.0</td>\n",
       "      <td>0.5</td>\n",
       "      <td>0.5</td>\n",
       "      <td>0.0</td>\n",
       "      <td>non-bankruptcy</td>\n",
       "      <td>1</td>\n",
       "    </tr>\n",
       "    <tr>\n",
       "      <th>248</th>\n",
       "      <td>1.0</td>\n",
       "      <td>0.0</td>\n",
       "      <td>0.5</td>\n",
       "      <td>1.0</td>\n",
       "      <td>0.5</td>\n",
       "      <td>0.0</td>\n",
       "      <td>non-bankruptcy</td>\n",
       "      <td>1</td>\n",
       "    </tr>\n",
       "    <tr>\n",
       "      <th>249</th>\n",
       "      <td>1.0</td>\n",
       "      <td>0.0</td>\n",
       "      <td>0.5</td>\n",
       "      <td>0.5</td>\n",
       "      <td>1.0</td>\n",
       "      <td>1.0</td>\n",
       "      <td>non-bankruptcy</td>\n",
       "      <td>1</td>\n",
       "    </tr>\n",
       "  </tbody>\n",
       "</table>\n",
       "<p>250 rows × 8 columns</p>\n",
       "</div>"
      ],
      "text/plain": [
       "     Industrial Risk  Management Risk  Financial Flexibility  Credibility  \\\n",
       "0                0.5              1.0                    0.0          0.0   \n",
       "1                0.0              1.0                    0.0          0.0   \n",
       "2                1.0              0.0                    0.0          0.0   \n",
       "3                0.5              0.0                    0.0          0.5   \n",
       "4                1.0              1.0                    0.0          0.0   \n",
       "..               ...              ...                    ...          ...   \n",
       "245              0.0              1.0                    1.0          1.0   \n",
       "246              1.0              1.0                    0.5          1.0   \n",
       "247              0.0              1.0                    1.0          0.5   \n",
       "248              1.0              0.0                    0.5          1.0   \n",
       "249              1.0              0.0                    0.5          0.5   \n",
       "\n",
       "     Competitiveness  Operating Risk           Class  Class Code  \n",
       "0                0.0             0.5      bankruptcy           0  \n",
       "1                0.0             1.0      bankruptcy           0  \n",
       "2                0.0             1.0      bankruptcy           0  \n",
       "3                0.0             1.0      bankruptcy           0  \n",
       "4                0.0             1.0      bankruptcy           0  \n",
       "..               ...             ...             ...         ...  \n",
       "245              1.0             1.0  non-bankruptcy           1  \n",
       "246              1.0             0.0  non-bankruptcy           1  \n",
       "247              0.5             0.0  non-bankruptcy           1  \n",
       "248              0.5             0.0  non-bankruptcy           1  \n",
       "249              1.0             1.0  non-bankruptcy           1  \n",
       "\n",
       "[250 rows x 8 columns]"
      ]
     },
     "execution_count": 17,
     "metadata": {},
     "output_type": "execute_result"
    }
   ],
   "source": [
    "from sklearn.preprocessing import LabelEncoder\n",
    "le = LabelEncoder()\n",
    "data['Class Code'] = le.fit_transform(data.Class)\n",
    "data"
   ]
  },
  {
   "cell_type": "code",
   "execution_count": 18,
   "id": "7e598b13",
   "metadata": {
    "ExecuteTime": {
     "end_time": "2023-08-06T13:23:34.772202Z",
     "start_time": "2023-08-06T13:23:34.751019Z"
    }
   },
   "outputs": [],
   "source": [
    "x = data.iloc[:, :-2]\n",
    "y = data[['Class Code']]"
   ]
  },
  {
   "cell_type": "code",
   "execution_count": 19,
   "id": "d8ff3dc5",
   "metadata": {
    "ExecuteTime": {
     "end_time": "2023-08-06T13:23:34.802946Z",
     "start_time": "2023-08-06T13:23:34.777234Z"
    }
   },
   "outputs": [],
   "source": [
    "x_train, x_test, y_train, y_test = train_test_split(x, y, test_size = 0.3, random_state = 42)"
   ]
  },
  {
   "cell_type": "markdown",
   "id": "8f409150",
   "metadata": {},
   "source": [
    "## Logistic Regression"
   ]
  },
  {
   "cell_type": "code",
   "execution_count": 20,
   "id": "fe8066f1",
   "metadata": {
    "ExecuteTime": {
     "end_time": "2023-08-06T13:23:34.895247Z",
     "start_time": "2023-08-06T13:23:34.807014Z"
    }
   },
   "outputs": [
    {
     "data": {
      "text/html": [
       "<style>#sk-container-id-3 {color: black;background-color: white;}#sk-container-id-3 pre{padding: 0;}#sk-container-id-3 div.sk-toggleable {background-color: white;}#sk-container-id-3 label.sk-toggleable__label {cursor: pointer;display: block;width: 100%;margin-bottom: 0;padding: 0.3em;box-sizing: border-box;text-align: center;}#sk-container-id-3 label.sk-toggleable__label-arrow:before {content: \"▸\";float: left;margin-right: 0.25em;color: #696969;}#sk-container-id-3 label.sk-toggleable__label-arrow:hover:before {color: black;}#sk-container-id-3 div.sk-estimator:hover label.sk-toggleable__label-arrow:before {color: black;}#sk-container-id-3 div.sk-toggleable__content {max-height: 0;max-width: 0;overflow: hidden;text-align: left;background-color: #f0f8ff;}#sk-container-id-3 div.sk-toggleable__content pre {margin: 0.2em;color: black;border-radius: 0.25em;background-color: #f0f8ff;}#sk-container-id-3 input.sk-toggleable__control:checked~div.sk-toggleable__content {max-height: 200px;max-width: 100%;overflow: auto;}#sk-container-id-3 input.sk-toggleable__control:checked~label.sk-toggleable__label-arrow:before {content: \"▾\";}#sk-container-id-3 div.sk-estimator input.sk-toggleable__control:checked~label.sk-toggleable__label {background-color: #d4ebff;}#sk-container-id-3 div.sk-label input.sk-toggleable__control:checked~label.sk-toggleable__label {background-color: #d4ebff;}#sk-container-id-3 input.sk-hidden--visually {border: 0;clip: rect(1px 1px 1px 1px);clip: rect(1px, 1px, 1px, 1px);height: 1px;margin: -1px;overflow: hidden;padding: 0;position: absolute;width: 1px;}#sk-container-id-3 div.sk-estimator {font-family: monospace;background-color: #f0f8ff;border: 1px dotted black;border-radius: 0.25em;box-sizing: border-box;margin-bottom: 0.5em;}#sk-container-id-3 div.sk-estimator:hover {background-color: #d4ebff;}#sk-container-id-3 div.sk-parallel-item::after {content: \"\";width: 100%;border-bottom: 1px solid gray;flex-grow: 1;}#sk-container-id-3 div.sk-label:hover label.sk-toggleable__label {background-color: #d4ebff;}#sk-container-id-3 div.sk-serial::before {content: \"\";position: absolute;border-left: 1px solid gray;box-sizing: border-box;top: 0;bottom: 0;left: 50%;z-index: 0;}#sk-container-id-3 div.sk-serial {display: flex;flex-direction: column;align-items: center;background-color: white;padding-right: 0.2em;padding-left: 0.2em;position: relative;}#sk-container-id-3 div.sk-item {position: relative;z-index: 1;}#sk-container-id-3 div.sk-parallel {display: flex;align-items: stretch;justify-content: center;background-color: white;position: relative;}#sk-container-id-3 div.sk-item::before, #sk-container-id-3 div.sk-parallel-item::before {content: \"\";position: absolute;border-left: 1px solid gray;box-sizing: border-box;top: 0;bottom: 0;left: 50%;z-index: -1;}#sk-container-id-3 div.sk-parallel-item {display: flex;flex-direction: column;z-index: 1;position: relative;background-color: white;}#sk-container-id-3 div.sk-parallel-item:first-child::after {align-self: flex-end;width: 50%;}#sk-container-id-3 div.sk-parallel-item:last-child::after {align-self: flex-start;width: 50%;}#sk-container-id-3 div.sk-parallel-item:only-child::after {width: 0;}#sk-container-id-3 div.sk-dashed-wrapped {border: 1px dashed gray;margin: 0 0.4em 0.5em 0.4em;box-sizing: border-box;padding-bottom: 0.4em;background-color: white;}#sk-container-id-3 div.sk-label label {font-family: monospace;font-weight: bold;display: inline-block;line-height: 1.2em;}#sk-container-id-3 div.sk-label-container {text-align: center;}#sk-container-id-3 div.sk-container {/* jupyter's `normalize.less` sets `[hidden] { display: none; }` but bootstrap.min.css set `[hidden] { display: none !important; }` so we also need the `!important` here to be able to override the default hidden behavior on the sphinx rendered scikit-learn.org. See: https://github.com/scikit-learn/scikit-learn/issues/21755 */display: inline-block !important;position: relative;}#sk-container-id-3 div.sk-text-repr-fallback {display: none;}</style><div id=\"sk-container-id-3\" class=\"sk-top-container\"><div class=\"sk-text-repr-fallback\"><pre>LogisticRegression(max_iter=500)</pre><b>In a Jupyter environment, please rerun this cell to show the HTML representation or trust the notebook. <br />On GitHub, the HTML representation is unable to render, please try loading this page with nbviewer.org.</b></div><div class=\"sk-container\" hidden><div class=\"sk-item\"><div class=\"sk-estimator sk-toggleable\"><input class=\"sk-toggleable__control sk-hidden--visually\" id=\"sk-estimator-id-3\" type=\"checkbox\" checked><label for=\"sk-estimator-id-3\" class=\"sk-toggleable__label sk-toggleable__label-arrow\">LogisticRegression</label><div class=\"sk-toggleable__content\"><pre>LogisticRegression(max_iter=500)</pre></div></div></div></div></div>"
      ],
      "text/plain": [
       "LogisticRegression(max_iter=500)"
      ]
     },
     "execution_count": 20,
     "metadata": {},
     "output_type": "execute_result"
    }
   ],
   "source": [
    "from sklearn.linear_model import LogisticRegression\n",
    "model = LogisticRegression(max_iter=500)\n",
    "model.fit(x_train, y_train)"
   ]
  },
  {
   "cell_type": "code",
   "execution_count": 21,
   "id": "0d18a3da",
   "metadata": {
    "ExecuteTime": {
     "end_time": "2023-08-06T13:23:34.942159Z",
     "start_time": "2023-08-06T13:23:34.899247Z"
    }
   },
   "outputs": [
    {
     "name": "stdout",
     "output_type": "stream",
     "text": [
      "Logistic Regression training accuracy is 0.9942857142857143\n",
      "Logistic Regression testing accuracy is 1.0\n",
      "--------------------------------------------------------\n",
      "Logistic Regression training F1 Score is 0.9946524064171123\n",
      "Logistic Regression testing F1 Score is 1.0\n",
      "--------------------------------------------------------\n",
      "Logistic Regression training Precision is 0.9893617021276596\n",
      "Logistic Regression testing Precision is 1.0\n",
      "--------------------------------------------------------\n",
      "Logistic Regression training ROC-AUC Score is 0.9939024390243902\n",
      "Logistic Regression testing ROC-AUC Score is 1.0\n",
      "--------------------------------------------------------\n",
      "Logistic Regression training Confusion Matrix is\n",
      "[[81  1]\n",
      " [ 0 93]]\n",
      "--------------------------------------------------------\n",
      "Logistic Regression testing Confusion Matrix is\n",
      "[[25  0]\n",
      " [ 0 50]]\n"
     ]
    }
   ],
   "source": [
    "y_pred_train = model.predict(x_train)\n",
    "y_pred_test = model.predict(x_test)\n",
    "\n",
    "log_train_acc = accuracy_score(y_train, y_pred_train)\n",
    "log_test_acc = accuracy_score(y_test, y_pred_test)\n",
    "\n",
    "log_train_f1 = f1_score(y_train, y_pred_train)\n",
    "log_test_f1 = f1_score(y_test, y_pred_test)\n",
    "\n",
    "log_train_prec = precision_score(y_train, y_pred_train)\n",
    "log_test_prec = precision_score(y_test, y_pred_test)\n",
    "\n",
    "log_train_roc = roc_auc_score(y_train, y_pred_train)\n",
    "log_test_roc = roc_auc_score(y_test, y_pred_test)\n",
    "\n",
    "log_train_cm = confusion_matrix(y_train, y_pred_train)\n",
    "log_test_cm = confusion_matrix(y_test, y_pred_test)\n",
    "\n",
    "print('Logistic Regression training accuracy is', log_train_acc)\n",
    "print('Logistic Regression testing accuracy is', log_test_acc)\n",
    "print('--------------------------------------------------------')\n",
    "print('Logistic Regression training F1 Score is', log_train_f1)\n",
    "print('Logistic Regression testing F1 Score is', log_test_f1)\n",
    "print('--------------------------------------------------------')\n",
    "print('Logistic Regression training Precision is', log_train_prec)\n",
    "print('Logistic Regression testing Precision is', log_test_prec)\n",
    "print('--------------------------------------------------------')\n",
    "print('Logistic Regression training ROC-AUC Score is', log_train_roc)\n",
    "print('Logistic Regression testing ROC-AUC Score is', log_test_roc)\n",
    "print('--------------------------------------------------------')\n",
    "print('Logistic Regression training Confusion Matrix is')\n",
    "print(log_train_cm)\n",
    "print('--------------------------------------------------------')\n",
    "print('Logistic Regression testing Confusion Matrix is')\n",
    "print(log_test_cm)"
   ]
  },
  {
   "cell_type": "markdown",
   "id": "ae152caa",
   "metadata": {},
   "source": [
    "## Decision Tree Model\n",
    "This model works on the construction of trees that contains different branches at different splits. And these branches contains leaves or nodes which are the end points. A split occurs at a node based on a certain condition which the model will make based on the data.\n",
    "\n",
    "This model is normally used for classification purposes. But it can also be used for regression."
   ]
  },
  {
   "cell_type": "code",
   "execution_count": 22,
   "id": "00a98be0",
   "metadata": {
    "ExecuteTime": {
     "end_time": "2023-08-06T13:23:35.004000Z",
     "start_time": "2023-08-06T13:23:34.945133Z"
    }
   },
   "outputs": [
    {
     "data": {
      "text/html": [
       "<style>#sk-container-id-4 {color: black;background-color: white;}#sk-container-id-4 pre{padding: 0;}#sk-container-id-4 div.sk-toggleable {background-color: white;}#sk-container-id-4 label.sk-toggleable__label {cursor: pointer;display: block;width: 100%;margin-bottom: 0;padding: 0.3em;box-sizing: border-box;text-align: center;}#sk-container-id-4 label.sk-toggleable__label-arrow:before {content: \"▸\";float: left;margin-right: 0.25em;color: #696969;}#sk-container-id-4 label.sk-toggleable__label-arrow:hover:before {color: black;}#sk-container-id-4 div.sk-estimator:hover label.sk-toggleable__label-arrow:before {color: black;}#sk-container-id-4 div.sk-toggleable__content {max-height: 0;max-width: 0;overflow: hidden;text-align: left;background-color: #f0f8ff;}#sk-container-id-4 div.sk-toggleable__content pre {margin: 0.2em;color: black;border-radius: 0.25em;background-color: #f0f8ff;}#sk-container-id-4 input.sk-toggleable__control:checked~div.sk-toggleable__content {max-height: 200px;max-width: 100%;overflow: auto;}#sk-container-id-4 input.sk-toggleable__control:checked~label.sk-toggleable__label-arrow:before {content: \"▾\";}#sk-container-id-4 div.sk-estimator input.sk-toggleable__control:checked~label.sk-toggleable__label {background-color: #d4ebff;}#sk-container-id-4 div.sk-label input.sk-toggleable__control:checked~label.sk-toggleable__label {background-color: #d4ebff;}#sk-container-id-4 input.sk-hidden--visually {border: 0;clip: rect(1px 1px 1px 1px);clip: rect(1px, 1px, 1px, 1px);height: 1px;margin: -1px;overflow: hidden;padding: 0;position: absolute;width: 1px;}#sk-container-id-4 div.sk-estimator {font-family: monospace;background-color: #f0f8ff;border: 1px dotted black;border-radius: 0.25em;box-sizing: border-box;margin-bottom: 0.5em;}#sk-container-id-4 div.sk-estimator:hover {background-color: #d4ebff;}#sk-container-id-4 div.sk-parallel-item::after {content: \"\";width: 100%;border-bottom: 1px solid gray;flex-grow: 1;}#sk-container-id-4 div.sk-label:hover label.sk-toggleable__label {background-color: #d4ebff;}#sk-container-id-4 div.sk-serial::before {content: \"\";position: absolute;border-left: 1px solid gray;box-sizing: border-box;top: 0;bottom: 0;left: 50%;z-index: 0;}#sk-container-id-4 div.sk-serial {display: flex;flex-direction: column;align-items: center;background-color: white;padding-right: 0.2em;padding-left: 0.2em;position: relative;}#sk-container-id-4 div.sk-item {position: relative;z-index: 1;}#sk-container-id-4 div.sk-parallel {display: flex;align-items: stretch;justify-content: center;background-color: white;position: relative;}#sk-container-id-4 div.sk-item::before, #sk-container-id-4 div.sk-parallel-item::before {content: \"\";position: absolute;border-left: 1px solid gray;box-sizing: border-box;top: 0;bottom: 0;left: 50%;z-index: -1;}#sk-container-id-4 div.sk-parallel-item {display: flex;flex-direction: column;z-index: 1;position: relative;background-color: white;}#sk-container-id-4 div.sk-parallel-item:first-child::after {align-self: flex-end;width: 50%;}#sk-container-id-4 div.sk-parallel-item:last-child::after {align-self: flex-start;width: 50%;}#sk-container-id-4 div.sk-parallel-item:only-child::after {width: 0;}#sk-container-id-4 div.sk-dashed-wrapped {border: 1px dashed gray;margin: 0 0.4em 0.5em 0.4em;box-sizing: border-box;padding-bottom: 0.4em;background-color: white;}#sk-container-id-4 div.sk-label label {font-family: monospace;font-weight: bold;display: inline-block;line-height: 1.2em;}#sk-container-id-4 div.sk-label-container {text-align: center;}#sk-container-id-4 div.sk-container {/* jupyter's `normalize.less` sets `[hidden] { display: none; }` but bootstrap.min.css set `[hidden] { display: none !important; }` so we also need the `!important` here to be able to override the default hidden behavior on the sphinx rendered scikit-learn.org. See: https://github.com/scikit-learn/scikit-learn/issues/21755 */display: inline-block !important;position: relative;}#sk-container-id-4 div.sk-text-repr-fallback {display: none;}</style><div id=\"sk-container-id-4\" class=\"sk-top-container\"><div class=\"sk-text-repr-fallback\"><pre>DecisionTreeClassifier(max_depth=5)</pre><b>In a Jupyter environment, please rerun this cell to show the HTML representation or trust the notebook. <br />On GitHub, the HTML representation is unable to render, please try loading this page with nbviewer.org.</b></div><div class=\"sk-container\" hidden><div class=\"sk-item\"><div class=\"sk-estimator sk-toggleable\"><input class=\"sk-toggleable__control sk-hidden--visually\" id=\"sk-estimator-id-4\" type=\"checkbox\" checked><label for=\"sk-estimator-id-4\" class=\"sk-toggleable__label sk-toggleable__label-arrow\">DecisionTreeClassifier</label><div class=\"sk-toggleable__content\"><pre>DecisionTreeClassifier(max_depth=5)</pre></div></div></div></div></div>"
      ],
      "text/plain": [
       "DecisionTreeClassifier(max_depth=5)"
      ]
     },
     "execution_count": 22,
     "metadata": {},
     "output_type": "execute_result"
    }
   ],
   "source": [
    "from sklearn.tree import DecisionTreeClassifier\n",
    "dec = DecisionTreeClassifier(max_depth=5)\n",
    "dec.fit(x_train, y_train)"
   ]
  },
  {
   "cell_type": "code",
   "execution_count": 23,
   "id": "8a241f07",
   "metadata": {
    "ExecuteTime": {
     "end_time": "2023-08-06T13:23:35.050868Z",
     "start_time": "2023-08-06T13:23:35.006955Z"
    }
   },
   "outputs": [
    {
     "name": "stdout",
     "output_type": "stream",
     "text": [
      "Decision tree training accuracy is 1.0\n",
      "Decision tree testing accuracy is 0.9866666666666667\n",
      "--------------------------------------------------------\n",
      "Decision tree training F1 Score is 1.0\n",
      "Decision tree testing F1 Score is 0.98989898989899\n",
      "--------------------------------------------------------\n",
      "Decision tree training Precision is 1.0\n",
      "Decision tree testing Precision is 1.0\n",
      "--------------------------------------------------------\n",
      "Decision tree training ROC-AUC Score is 1.0\n",
      "Decision tree testing ROC-AUC Score is 0.99\n",
      "--------------------------------------------------------\n",
      "Decision tree training Confusion Matrix is\n",
      "[[82  0]\n",
      " [ 0 93]]\n",
      "--------------------------------------------------------\n",
      "Decision tree testing Confusion Matrix is\n",
      "[[25  0]\n",
      " [ 1 49]]\n"
     ]
    }
   ],
   "source": [
    "y_pred_train = dec.predict(x_train)\n",
    "y_pred_test = dec.predict(x_test)\n",
    "\n",
    "dec_train_acc = accuracy_score(y_train, y_pred_train)\n",
    "dec_test_acc = accuracy_score(y_test, y_pred_test)\n",
    "\n",
    "dec_train_f1 = f1_score(y_train, y_pred_train)\n",
    "dec_test_f1 = f1_score(y_test, y_pred_test)\n",
    "\n",
    "dec_train_prec = precision_score(y_train, y_pred_train)\n",
    "dec_test_prec = precision_score(y_test, y_pred_test)\n",
    "\n",
    "dec_train_roc = roc_auc_score(y_train, y_pred_train)\n",
    "dec_test_roc = roc_auc_score(y_test, y_pred_test)\n",
    "\n",
    "dec_train_cm = confusion_matrix(y_train, y_pred_train)\n",
    "dec_test_cm = confusion_matrix(y_test, y_pred_test)\n",
    "\n",
    "print('Decision tree training accuracy is', dec_train_acc)\n",
    "print('Decision tree testing accuracy is', dec_test_acc)\n",
    "print('--------------------------------------------------------')\n",
    "print('Decision tree training F1 Score is', dec_train_f1)\n",
    "print('Decision tree testing F1 Score is', dec_test_f1)\n",
    "print('--------------------------------------------------------')\n",
    "print('Decision tree training Precision is', dec_train_prec)\n",
    "print('Decision tree testing Precision is', dec_test_prec)\n",
    "print('--------------------------------------------------------')\n",
    "print('Decision tree training ROC-AUC Score is', dec_train_roc)\n",
    "print('Decision tree testing ROC-AUC Score is', dec_test_roc)\n",
    "print('--------------------------------------------------------')\n",
    "print('Decision tree training Confusion Matrix is')\n",
    "print(dec_train_cm)\n",
    "print('--------------------------------------------------------')\n",
    "print('Decision tree testing Confusion Matrix is')\n",
    "print(dec_test_cm)"
   ]
  },
  {
   "cell_type": "markdown",
   "id": "64e6f6d3",
   "metadata": {},
   "source": [
    "## KNN Classifier"
   ]
  },
  {
   "cell_type": "code",
   "execution_count": 24,
   "id": "e1c0b66b",
   "metadata": {
    "ExecuteTime": {
     "end_time": "2023-08-06T13:23:36.768326Z",
     "start_time": "2023-08-06T13:23:35.055824Z"
    }
   },
   "outputs": [
    {
     "data": {
      "image/png": "[encoded data removed]",
      "text/plain": [
       "<Figure size 640x480 with 1 Axes>"
      ]
     },
     "metadata": {},
     "output_type": "display_data"
    }
   ],
   "source": [
    "from sklearn.neighbors import KNeighborsClassifier\n",
    "from sklearn.model_selection import KFold\n",
    "from sklearn.model_selection import cross_val_score\n",
    "import matplotlib.pyplot as plt \n",
    "%matplotlib inline\n",
    "# choose k between 1 to 41\n",
    "k_range = range(1, 41)\n",
    "k_scores = []\n",
    "# use iteration to caclulator different k in models, then return the average accuracy based on the cross validation\n",
    "for k in k_range:\n",
    "    knn = KNeighborsClassifier(n_neighbors=k)\n",
    "    scores = cross_val_score(knn, x_train, y_train, cv=5)\n",
    "    k_scores.append(scores.mean())\n",
    "# plot to see clearly\n",
    "plt.plot(k_range, k_scores)\n",
    "plt.xlabel('Value of K for KNN')\n",
    "plt.ylabel('Cross-Validated Accuracy')\n",
    "plt.show()"
   ]
  },
  {
   "cell_type": "code",
   "execution_count": 25,
   "id": "b81b75ca",
   "metadata": {
    "ExecuteTime": {
     "end_time": "2023-08-06T13:23:36.784279Z",
     "start_time": "2023-08-06T13:23:36.770318Z"
    },
    "scrolled": true
   },
   "outputs": [
    {
     "data": {
      "text/html": [
       "<style>#sk-container-id-5 {color: black;background-color: white;}#sk-container-id-5 pre{padding: 0;}#sk-container-id-5 div.sk-toggleable {background-color: white;}#sk-container-id-5 label.sk-toggleable__label {cursor: pointer;display: block;width: 100%;margin-bottom: 0;padding: 0.3em;box-sizing: border-box;text-align: center;}#sk-container-id-5 label.sk-toggleable__label-arrow:before {content: \"▸\";float: left;margin-right: 0.25em;color: #696969;}#sk-container-id-5 label.sk-toggleable__label-arrow:hover:before {color: black;}#sk-container-id-5 div.sk-estimator:hover label.sk-toggleable__label-arrow:before {color: black;}#sk-container-id-5 div.sk-toggleable__content {max-height: 0;max-width: 0;overflow: hidden;text-align: left;background-color: #f0f8ff;}#sk-container-id-5 div.sk-toggleable__content pre {margin: 0.2em;color: black;border-radius: 0.25em;background-color: #f0f8ff;}#sk-container-id-5 input.sk-toggleable__control:checked~div.sk-toggleable__content {max-height: 200px;max-width: 100%;overflow: auto;}#sk-container-id-5 input.sk-toggleable__control:checked~label.sk-toggleable__label-arrow:before {content: \"▾\";}#sk-container-id-5 div.sk-estimator input.sk-toggleable__control:checked~label.sk-toggleable__label {background-color: #d4ebff;}#sk-container-id-5 div.sk-label input.sk-toggleable__control:checked~label.sk-toggleable__label {background-color: #d4ebff;}#sk-container-id-5 input.sk-hidden--visually {border: 0;clip: rect(1px 1px 1px 1px);clip: rect(1px, 1px, 1px, 1px);height: 1px;margin: -1px;overflow: hidden;padding: 0;position: absolute;width: 1px;}#sk-container-id-5 div.sk-estimator {font-family: monospace;background-color: #f0f8ff;border: 1px dotted black;border-radius: 0.25em;box-sizing: border-box;margin-bottom: 0.5em;}#sk-container-id-5 div.sk-estimator:hover {background-color: #d4ebff;}#sk-container-id-5 div.sk-parallel-item::after {content: \"\";width: 100%;border-bottom: 1px solid gray;flex-grow: 1;}#sk-container-id-5 div.sk-label:hover label.sk-toggleable__label {background-color: #d4ebff;}#sk-container-id-5 div.sk-serial::before {content: \"\";position: absolute;border-left: 1px solid gray;box-sizing: border-box;top: 0;bottom: 0;left: 50%;z-index: 0;}#sk-container-id-5 div.sk-serial {display: flex;flex-direction: column;align-items: center;background-color: white;padding-right: 0.2em;padding-left: 0.2em;position: relative;}#sk-container-id-5 div.sk-item {position: relative;z-index: 1;}#sk-container-id-5 div.sk-parallel {display: flex;align-items: stretch;justify-content: center;background-color: white;position: relative;}#sk-container-id-5 div.sk-item::before, #sk-container-id-5 div.sk-parallel-item::before {content: \"\";position: absolute;border-left: 1px solid gray;box-sizing: border-box;top: 0;bottom: 0;left: 50%;z-index: -1;}#sk-container-id-5 div.sk-parallel-item {display: flex;flex-direction: column;z-index: 1;position: relative;background-color: white;}#sk-container-id-5 div.sk-parallel-item:first-child::after {align-self: flex-end;width: 50%;}#sk-container-id-5 div.sk-parallel-item:last-child::after {align-self: flex-start;width: 50%;}#sk-container-id-5 div.sk-parallel-item:only-child::after {width: 0;}#sk-container-id-5 div.sk-dashed-wrapped {border: 1px dashed gray;margin: 0 0.4em 0.5em 0.4em;box-sizing: border-box;padding-bottom: 0.4em;background-color: white;}#sk-container-id-5 div.sk-label label {font-family: monospace;font-weight: bold;display: inline-block;line-height: 1.2em;}#sk-container-id-5 div.sk-label-container {text-align: center;}#sk-container-id-5 div.sk-container {/* jupyter's `normalize.less` sets `[hidden] { display: none; }` but bootstrap.min.css set `[hidden] { display: none !important; }` so we also need the `!important` here to be able to override the default hidden behavior on the sphinx rendered scikit-learn.org. See: https://github.com/scikit-learn/scikit-learn/issues/21755 */display: inline-block !important;position: relative;}#sk-container-id-5 div.sk-text-repr-fallback {display: none;}</style><div id=\"sk-container-id-5\" class=\"sk-top-container\"><div class=\"sk-text-repr-fallback\"><pre>KNeighborsClassifier(n_neighbors=1)</pre><b>In a Jupyter environment, please rerun this cell to show the HTML representation or trust the notebook. <br />On GitHub, the HTML representation is unable to render, please try loading this page with nbviewer.org.</b></div><div class=\"sk-container\" hidden><div class=\"sk-item\"><div class=\"sk-estimator sk-toggleable\"><input class=\"sk-toggleable__control sk-hidden--visually\" id=\"sk-estimator-id-5\" type=\"checkbox\" checked><label for=\"sk-estimator-id-5\" class=\"sk-toggleable__label sk-toggleable__label-arrow\">KNeighborsClassifier</label><div class=\"sk-toggleable__content\"><pre>KNeighborsClassifier(n_neighbors=1)</pre></div></div></div></div></div>"
      ],
      "text/plain": [
       "KNeighborsClassifier(n_neighbors=1)"
      ]
     },
     "execution_count": 25,
     "metadata": {},
     "output_type": "execute_result"
    }
   ],
   "source": [
    "from sklearn.neighbors import KNeighborsClassifier\n",
    "knn = KNeighborsClassifier(n_neighbors=1)\n",
    "knn.fit(x_train, y_train)"
   ]
  },
  {
   "cell_type": "code",
   "execution_count": 26,
   "id": "456bcd67",
   "metadata": {
    "ExecuteTime": {
     "end_time": "2023-08-06T13:23:36.831179Z",
     "start_time": "2023-08-06T13:23:36.786289Z"
    }
   },
   "outputs": [
    {
     "name": "stdout",
     "output_type": "stream",
     "text": [
      "KNN training accuracy is 1.0\n",
      "KNN testing accuracy is 1.0\n",
      "--------------------------------------------------------\n",
      "KNN training F1 Score is 1.0\n",
      "KNN testing F1 Score is 1.0\n",
      "--------------------------------------------------------\n",
      "KNN training Precision is 1.0\n",
      "KNN testing Precision is 1.0\n",
      "--------------------------------------------------------\n",
      "KNN training ROC-AUC Score is 1.0\n",
      "KNN testing ROC-AUC Score is 1.0\n",
      "--------------------------------------------------------\n",
      "KNN training Confusion Matrix is\n",
      "[[82  0]\n",
      " [ 0 93]]\n",
      "--------------------------------------------------------\n",
      "KNN testing Confusion Matrix is\n",
      "[[25  0]\n",
      " [ 0 50]]\n"
     ]
    }
   ],
   "source": [
    "y_pred_train = knn.predict(x_train)\n",
    "y_pred_test = knn.predict(x_test)\n",
    "\n",
    "knn_train_acc = accuracy_score(y_train, y_pred_train)\n",
    "knn_test_acc = accuracy_score(y_test, y_pred_test)\n",
    "\n",
    "knn_train_f1 = f1_score(y_train, y_pred_train)\n",
    "knn_test_f1 = f1_score(y_test, y_pred_test)\n",
    "\n",
    "knn_train_prec = precision_score(y_train, y_pred_train)\n",
    "knn_test_prec = precision_score(y_test, y_pred_test)\n",
    "\n",
    "knn_train_roc = roc_auc_score(y_train, y_pred_train)\n",
    "knn_test_roc = roc_auc_score(y_test, y_pred_test)\n",
    "\n",
    "knn_train_cm = confusion_matrix(y_train, y_pred_train)\n",
    "knn_test_cm = confusion_matrix(y_test, y_pred_test)\n",
    "\n",
    "print('KNN training accuracy is', knn_train_acc)\n",
    "print('KNN testing accuracy is', knn_test_acc)\n",
    "print('--------------------------------------------------------')\n",
    "print('KNN training F1 Score is', knn_train_f1)\n",
    "print('KNN testing F1 Score is', knn_test_f1)\n",
    "print('--------------------------------------------------------')\n",
    "print('KNN training Precision is', knn_train_prec)\n",
    "print('KNN testing Precision is', knn_test_prec)\n",
    "print('--------------------------------------------------------')\n",
    "print('KNN training ROC-AUC Score is', knn_train_roc)\n",
    "print('KNN testing ROC-AUC Score is', knn_test_roc)\n",
    "print('--------------------------------------------------------')\n",
    "print('KNN training Confusion Matrix is')\n",
    "print(knn_train_cm)\n",
    "print('--------------------------------------------------------')\n",
    "print('KNN testing Confusion Matrix is')\n",
    "print(knn_test_cm)"
   ]
  },
  {
   "cell_type": "markdown",
   "id": "10519b39",
   "metadata": {},
   "source": [
    "## Random Forest Classifier"
   ]
  },
  {
   "cell_type": "code",
   "execution_count": 27,
   "id": "39edb7df",
   "metadata": {
    "ExecuteTime": {
     "end_time": "2023-08-06T13:23:37.158973Z",
     "start_time": "2023-08-06T13:23:36.834146Z"
    },
    "scrolled": true
   },
   "outputs": [
    {
     "data": {
      "text/html": [
       "<style>#sk-container-id-6 {color: black;background-color: white;}#sk-container-id-6 pre{padding: 0;}#sk-container-id-6 div.sk-toggleable {background-color: white;}#sk-container-id-6 label.sk-toggleable__label {cursor: pointer;display: block;width: 100%;margin-bottom: 0;padding: 0.3em;box-sizing: border-box;text-align: center;}#sk-container-id-6 label.sk-toggleable__label-arrow:before {content: \"▸\";float: left;margin-right: 0.25em;color: #696969;}#sk-container-id-6 label.sk-toggleable__label-arrow:hover:before {color: black;}#sk-container-id-6 div.sk-estimator:hover label.sk-toggleable__label-arrow:before {color: black;}#sk-container-id-6 div.sk-toggleable__content {max-height: 0;max-width: 0;overflow: hidden;text-align: left;background-color: #f0f8ff;}#sk-container-id-6 div.sk-toggleable__content pre {margin: 0.2em;color: black;border-radius: 0.25em;background-color: #f0f8ff;}#sk-container-id-6 input.sk-toggleable__control:checked~div.sk-toggleable__content {max-height: 200px;max-width: 100%;overflow: auto;}#sk-container-id-6 input.sk-toggleable__control:checked~label.sk-toggleable__label-arrow:before {content: \"▾\";}#sk-container-id-6 div.sk-estimator input.sk-toggleable__control:checked~label.sk-toggleable__label {background-color: #d4ebff;}#sk-container-id-6 div.sk-label input.sk-toggleable__control:checked~label.sk-toggleable__label {background-color: #d4ebff;}#sk-container-id-6 input.sk-hidden--visually {border: 0;clip: rect(1px 1px 1px 1px);clip: rect(1px, 1px, 1px, 1px);height: 1px;margin: -1px;overflow: hidden;padding: 0;position: absolute;width: 1px;}#sk-container-id-6 div.sk-estimator {font-family: monospace;background-color: #f0f8ff;border: 1px dotted black;border-radius: 0.25em;box-sizing: border-box;margin-bottom: 0.5em;}#sk-container-id-6 div.sk-estimator:hover {background-color: #d4ebff;}#sk-container-id-6 div.sk-parallel-item::after {content: \"\";width: 100%;border-bottom: 1px solid gray;flex-grow: 1;}#sk-container-id-6 div.sk-label:hover label.sk-toggleable__label {background-color: #d4ebff;}#sk-container-id-6 div.sk-serial::before {content: \"\";position: absolute;border-left: 1px solid gray;box-sizing: border-box;top: 0;bottom: 0;left: 50%;z-index: 0;}#sk-container-id-6 div.sk-serial {display: flex;flex-direction: column;align-items: center;background-color: white;padding-right: 0.2em;padding-left: 0.2em;position: relative;}#sk-container-id-6 div.sk-item {position: relative;z-index: 1;}#sk-container-id-6 div.sk-parallel {display: flex;align-items: stretch;justify-content: center;background-color: white;position: relative;}#sk-container-id-6 div.sk-item::before, #sk-container-id-6 div.sk-parallel-item::before {content: \"\";position: absolute;border-left: 1px solid gray;box-sizing: border-box;top: 0;bottom: 0;left: 50%;z-index: -1;}#sk-container-id-6 div.sk-parallel-item {display: flex;flex-direction: column;z-index: 1;position: relative;background-color: white;}#sk-container-id-6 div.sk-parallel-item:first-child::after {align-self: flex-end;width: 50%;}#sk-container-id-6 div.sk-parallel-item:last-child::after {align-self: flex-start;width: 50%;}#sk-container-id-6 div.sk-parallel-item:only-child::after {width: 0;}#sk-container-id-6 div.sk-dashed-wrapped {border: 1px dashed gray;margin: 0 0.4em 0.5em 0.4em;box-sizing: border-box;padding-bottom: 0.4em;background-color: white;}#sk-container-id-6 div.sk-label label {font-family: monospace;font-weight: bold;display: inline-block;line-height: 1.2em;}#sk-container-id-6 div.sk-label-container {text-align: center;}#sk-container-id-6 div.sk-container {/* jupyter's `normalize.less` sets `[hidden] { display: none; }` but bootstrap.min.css set `[hidden] { display: none !important; }` so we also need the `!important` here to be able to override the default hidden behavior on the sphinx rendered scikit-learn.org. See: https://github.com/scikit-learn/scikit-learn/issues/21755 */display: inline-block !important;position: relative;}#sk-container-id-6 div.sk-text-repr-fallback {display: none;}</style><div id=\"sk-container-id-6\" class=\"sk-top-container\"><div class=\"sk-text-repr-fallback\"><pre>RandomForestClassifier(max_depth=5)</pre><b>In a Jupyter environment, please rerun this cell to show the HTML representation or trust the notebook. <br />On GitHub, the HTML representation is unable to render, please try loading this page with nbviewer.org.</b></div><div class=\"sk-container\" hidden><div class=\"sk-item\"><div class=\"sk-estimator sk-toggleable\"><input class=\"sk-toggleable__control sk-hidden--visually\" id=\"sk-estimator-id-6\" type=\"checkbox\" checked><label for=\"sk-estimator-id-6\" class=\"sk-toggleable__label sk-toggleable__label-arrow\">RandomForestClassifier</label><div class=\"sk-toggleable__content\"><pre>RandomForestClassifier(max_depth=5)</pre></div></div></div></div></div>"
      ],
      "text/plain": [
       "RandomForestClassifier(max_depth=5)"
      ]
     },
     "execution_count": 27,
     "metadata": {},
     "output_type": "execute_result"
    }
   ],
   "source": [
    "from sklearn.ensemble import RandomForestClassifier\n",
    "rnd = RandomForestClassifier(max_depth=5)\n",
    "rnd.fit(x_train, y_train)"
   ]
  },
  {
   "cell_type": "code",
   "execution_count": 28,
   "id": "a6b61274",
   "metadata": {
    "ExecuteTime": {
     "end_time": "2023-08-06T13:23:37.221819Z",
     "start_time": "2023-08-06T13:23:37.161948Z"
    }
   },
   "outputs": [
    {
     "name": "stdout",
     "output_type": "stream",
     "text": [
      "Random Forest training accuracy is 1.0\n",
      "Random Forest testing accuracy is 1.0\n",
      "--------------------------------------------------------\n",
      "Random Forest training F1 Score is 1.0\n",
      "Random Forest testing F1 Score is 1.0\n",
      "--------------------------------------------------------\n",
      "Random Forest training Precision is 1.0\n",
      "Random Forest testing Precision is 1.0\n",
      "--------------------------------------------------------\n",
      "Random Forest training ROC-AUC Score is 1.0\n",
      "Random Forest testing ROC-AUC Score is 1.0\n",
      "--------------------------------------------------------\n",
      "Random Forest training Confusion Matrix is\n",
      "[[82  0]\n",
      " [ 0 93]]\n",
      "--------------------------------------------------------\n",
      "Random Forest testing Confusion Matrix is\n",
      "[[25  0]\n",
      " [ 0 50]]\n"
     ]
    }
   ],
   "source": [
    "y_pred_train = rnd.predict(x_train)\n",
    "y_pred_test = rnd.predict(x_test)\n",
    "\n",
    "rnd_train_acc = accuracy_score(y_train, y_pred_train)\n",
    "rnd_test_acc = accuracy_score(y_test, y_pred_test)\n",
    "\n",
    "rnd_train_f1 = f1_score(y_train, y_pred_train)\n",
    "rnd_test_f1 = f1_score(y_test, y_pred_test)\n",
    "\n",
    "rnd_train_prec = precision_score(y_train, y_pred_train)\n",
    "rnd_test_prec = precision_score(y_test, y_pred_test)\n",
    "\n",
    "rnd_train_roc = roc_auc_score(y_train, y_pred_train)\n",
    "rnd_test_roc = roc_auc_score(y_test, y_pred_test)\n",
    "\n",
    "rnd_train_cm = confusion_matrix(y_train, y_pred_train)\n",
    "rnd_test_cm = confusion_matrix(y_test, y_pred_test)\n",
    "\n",
    "print('Random Forest training accuracy is', rnd_train_acc)\n",
    "print('Random Forest testing accuracy is', rnd_test_acc)\n",
    "print('--------------------------------------------------------')\n",
    "print('Random Forest training F1 Score is', rnd_train_f1)\n",
    "print('Random Forest testing F1 Score is', rnd_test_f1)\n",
    "print('--------------------------------------------------------')\n",
    "print('Random Forest training Precision is', rnd_train_prec)\n",
    "print('Random Forest testing Precision is', rnd_test_prec)\n",
    "print('--------------------------------------------------------')\n",
    "print('Random Forest training ROC-AUC Score is', rnd_train_roc)\n",
    "print('Random Forest testing ROC-AUC Score is', rnd_test_roc)\n",
    "print('--------------------------------------------------------')\n",
    "print('Random Forest training Confusion Matrix is')\n",
    "print(rnd_train_cm)\n",
    "print('--------------------------------------------------------')\n",
    "print('Random Forest testing Confusion Matrix is')\n",
    "print(rnd_test_cm)"
   ]
  },
  {
   "cell_type": "code",
   "execution_count": 29,
   "id": "0105921e",
   "metadata": {
    "ExecuteTime": {
     "end_time": "2023-08-06T13:23:38.048103Z",
     "start_time": "2023-08-06T13:23:37.224107Z"
    }
   },
   "outputs": [
    {
     "data": {
      "image/png": "[encoded data removed]",
      "text/plain": [
       "<Figure size 2500x1000 with 1 Axes>"
      ]
     },
     "metadata": {},
     "output_type": "display_data"
    }
   ],
   "source": [
    "from sklearn import tree\n",
    "fig = plt.figure(figsize=(25,10))\n",
    "_ = tree.plot_tree(rnd.estimators_[9], feature_names= list(x),filled=True, max_depth=5)"
   ]
  },
  {
   "cell_type": "markdown",
   "id": "8046352f",
   "metadata": {},
   "source": [
    "## Bagging Classifier"
   ]
  },
  {
   "cell_type": "code",
   "execution_count": 30,
   "id": "a82a1749",
   "metadata": {
    "ExecuteTime": {
     "end_time": "2023-08-06T13:23:39.423458Z",
     "start_time": "2023-08-06T13:23:38.050098Z"
    }
   },
   "outputs": [
    {
     "data": {
      "text/html": [
       "<style>#sk-container-id-7 {color: black;background-color: white;}#sk-container-id-7 pre{padding: 0;}#sk-container-id-7 div.sk-toggleable {background-color: white;}#sk-container-id-7 label.sk-toggleable__label {cursor: pointer;display: block;width: 100%;margin-bottom: 0;padding: 0.3em;box-sizing: border-box;text-align: center;}#sk-container-id-7 label.sk-toggleable__label-arrow:before {content: \"▸\";float: left;margin-right: 0.25em;color: #696969;}#sk-container-id-7 label.sk-toggleable__label-arrow:hover:before {color: black;}#sk-container-id-7 div.sk-estimator:hover label.sk-toggleable__label-arrow:before {color: black;}#sk-container-id-7 div.sk-toggleable__content {max-height: 0;max-width: 0;overflow: hidden;text-align: left;background-color: #f0f8ff;}#sk-container-id-7 div.sk-toggleable__content pre {margin: 0.2em;color: black;border-radius: 0.25em;background-color: #f0f8ff;}#sk-container-id-7 input.sk-toggleable__control:checked~div.sk-toggleable__content {max-height: 200px;max-width: 100%;overflow: auto;}#sk-container-id-7 input.sk-toggleable__control:checked~label.sk-toggleable__label-arrow:before {content: \"▾\";}#sk-container-id-7 div.sk-estimator input.sk-toggleable__control:checked~label.sk-toggleable__label {background-color: #d4ebff;}#sk-container-id-7 div.sk-label input.sk-toggleable__control:checked~label.sk-toggleable__label {background-color: #d4ebff;}#sk-container-id-7 input.sk-hidden--visually {border: 0;clip: rect(1px 1px 1px 1px);clip: rect(1px, 1px, 1px, 1px);height: 1px;margin: -1px;overflow: hidden;padding: 0;position: absolute;width: 1px;}#sk-container-id-7 div.sk-estimator {font-family: monospace;background-color: #f0f8ff;border: 1px dotted black;border-radius: 0.25em;box-sizing: border-box;margin-bottom: 0.5em;}#sk-container-id-7 div.sk-estimator:hover {background-color: #d4ebff;}#sk-container-id-7 div.sk-parallel-item::after {content: \"\";width: 100%;border-bottom: 1px solid gray;flex-grow: 1;}#sk-container-id-7 div.sk-label:hover label.sk-toggleable__label {background-color: #d4ebff;}#sk-container-id-7 div.sk-serial::before {content: \"\";position: absolute;border-left: 1px solid gray;box-sizing: border-box;top: 0;bottom: 0;left: 50%;z-index: 0;}#sk-container-id-7 div.sk-serial {display: flex;flex-direction: column;align-items: center;background-color: white;padding-right: 0.2em;padding-left: 0.2em;position: relative;}#sk-container-id-7 div.sk-item {position: relative;z-index: 1;}#sk-container-id-7 div.sk-parallel {display: flex;align-items: stretch;justify-content: center;background-color: white;position: relative;}#sk-container-id-7 div.sk-item::before, #sk-container-id-7 div.sk-parallel-item::before {content: \"\";position: absolute;border-left: 1px solid gray;box-sizing: border-box;top: 0;bottom: 0;left: 50%;z-index: -1;}#sk-container-id-7 div.sk-parallel-item {display: flex;flex-direction: column;z-index: 1;position: relative;background-color: white;}#sk-container-id-7 div.sk-parallel-item:first-child::after {align-self: flex-end;width: 50%;}#sk-container-id-7 div.sk-parallel-item:last-child::after {align-self: flex-start;width: 50%;}#sk-container-id-7 div.sk-parallel-item:only-child::after {width: 0;}#sk-container-id-7 div.sk-dashed-wrapped {border: 1px dashed gray;margin: 0 0.4em 0.5em 0.4em;box-sizing: border-box;padding-bottom: 0.4em;background-color: white;}#sk-container-id-7 div.sk-label label {font-family: monospace;font-weight: bold;display: inline-block;line-height: 1.2em;}#sk-container-id-7 div.sk-label-container {text-align: center;}#sk-container-id-7 div.sk-container {/* jupyter's `normalize.less` sets `[hidden] { display: none; }` but bootstrap.min.css set `[hidden] { display: none !important; }` so we also need the `!important` here to be able to override the default hidden behavior on the sphinx rendered scikit-learn.org. See: https://github.com/scikit-learn/scikit-learn/issues/21755 */display: inline-block !important;position: relative;}#sk-container-id-7 div.sk-text-repr-fallback {display: none;}</style><div id=\"sk-container-id-7\" class=\"sk-top-container\"><div class=\"sk-text-repr-fallback\"><pre>BaggingClassifier(estimator=RandomForestClassifier(max_depth=5))</pre><b>In a Jupyter environment, please rerun this cell to show the HTML representation or trust the notebook. <br />On GitHub, the HTML representation is unable to render, please try loading this page with nbviewer.org.</b></div><div class=\"sk-container\" hidden><div class=\"sk-item sk-dashed-wrapped\"><div class=\"sk-label-container\"><div class=\"sk-label sk-toggleable\"><input class=\"sk-toggleable__control sk-hidden--visually\" id=\"sk-estimator-id-7\" type=\"checkbox\" ><label for=\"sk-estimator-id-7\" class=\"sk-toggleable__label sk-toggleable__label-arrow\">BaggingClassifier</label><div class=\"sk-toggleable__content\"><pre>BaggingClassifier(estimator=RandomForestClassifier(max_depth=5))</pre></div></div></div><div class=\"sk-parallel\"><div class=\"sk-parallel-item\"><div class=\"sk-item\"><div class=\"sk-label-container\"><div class=\"sk-label sk-toggleable\"><input class=\"sk-toggleable__control sk-hidden--visually\" id=\"sk-estimator-id-8\" type=\"checkbox\" ><label for=\"sk-estimator-id-8\" class=\"sk-toggleable__label sk-toggleable__label-arrow\">estimator: RandomForestClassifier</label><div class=\"sk-toggleable__content\"><pre>RandomForestClassifier(max_depth=5)</pre></div></div></div><div class=\"sk-serial\"><div class=\"sk-item\"><div class=\"sk-estimator sk-toggleable\"><input class=\"sk-toggleable__control sk-hidden--visually\" id=\"sk-estimator-id-9\" type=\"checkbox\" ><label for=\"sk-estimator-id-9\" class=\"sk-toggleable__label sk-toggleable__label-arrow\">RandomForestClassifier</label><div class=\"sk-toggleable__content\"><pre>RandomForestClassifier(max_depth=5)</pre></div></div></div></div></div></div></div></div></div></div>"
      ],
      "text/plain": [
       "BaggingClassifier(estimator=RandomForestClassifier(max_depth=5))"
      ]
     },
     "execution_count": 30,
     "metadata": {},
     "output_type": "execute_result"
    }
   ],
   "source": [
    "from sklearn.ensemble import BaggingClassifier\n",
    "bag = BaggingClassifier(estimator=RandomForestClassifier(max_depth = 5), n_estimators=10)\n",
    "bag.fit(x_train, y_train)"
   ]
  },
  {
   "cell_type": "code",
   "execution_count": 31,
   "id": "4bfcb7e9",
   "metadata": {
    "ExecuteTime": {
     "end_time": "2023-08-06T13:23:39.658797Z",
     "start_time": "2023-08-06T13:23:39.426429Z"
    }
   },
   "outputs": [
    {
     "name": "stdout",
     "output_type": "stream",
     "text": [
      "Bagging training accuracy is 1.0\n",
      "Bagging testing accuracy is 1.0\n",
      "--------------------------------------------------------\n",
      "Bagging training F1 Score is 1.0\n",
      "Bagging testing F1 Score is 1.0\n",
      "--------------------------------------------------------\n",
      "Bagging training Precision is 1.0\n",
      "Bagging testing Precision is 1.0\n",
      "--------------------------------------------------------\n",
      "Bagging training ROC-AUC Score is 1.0\n",
      "Bagging testing ROC-AUC Score is 1.0\n",
      "--------------------------------------------------------\n",
      "Bagging training Confusion Matrix is\n",
      "[[82  0]\n",
      " [ 0 93]]\n",
      "--------------------------------------------------------\n",
      "Bagging testing Confusion Matrix is\n",
      "[[25  0]\n",
      " [ 0 50]]\n"
     ]
    }
   ],
   "source": [
    "y_pred_train = bag.predict(x_train)\n",
    "y_pred_test = bag.predict(x_test)\n",
    "\n",
    "bag_train_acc = accuracy_score(y_train, y_pred_train)\n",
    "bag_test_acc = accuracy_score(y_test, y_pred_test)\n",
    "\n",
    "bag_train_f1 = f1_score(y_train, y_pred_train)\n",
    "bag_test_f1 = f1_score(y_test, y_pred_test)\n",
    "\n",
    "bag_train_prec = precision_score(y_train, y_pred_train)\n",
    "bag_test_prec = precision_score(y_test, y_pred_test)\n",
    "\n",
    "bag_train_roc = roc_auc_score(y_train, y_pred_train)\n",
    "bag_test_roc = roc_auc_score(y_test, y_pred_test)\n",
    "\n",
    "bag_train_cm = confusion_matrix(y_train, y_pred_train)\n",
    "bag_test_cm = confusion_matrix(y_test, y_pred_test)\n",
    "\n",
    "print('Bagging training accuracy is', bag_train_acc)\n",
    "print('Bagging testing accuracy is', bag_test_acc)\n",
    "print('--------------------------------------------------------')\n",
    "print('Bagging training F1 Score is', bag_train_f1)\n",
    "print('Bagging testing F1 Score is', bag_test_f1)\n",
    "print('--------------------------------------------------------')\n",
    "print('Bagging training Precision is', bag_train_prec)\n",
    "print('Bagging testing Precision is', bag_test_prec)\n",
    "print('--------------------------------------------------------')\n",
    "print('Bagging training ROC-AUC Score is', bag_train_roc)\n",
    "print('Bagging testing ROC-AUC Score is', bag_test_roc)\n",
    "print('--------------------------------------------------------')\n",
    "print('Bagging training Confusion Matrix is')\n",
    "print(bag_train_cm)\n",
    "print('--------------------------------------------------------')\n",
    "print('Bagging testing Confusion Matrix is')\n",
    "print(bag_test_cm)"
   ]
  },
  {
   "cell_type": "markdown",
   "id": "e02e6626",
   "metadata": {},
   "source": [
    "## AdaBoost\n",
    "This is another ensemble technique that assigns the weights to the parameters depending the errors. Higher weights are assigned to the incorrect predictions and lower weights are assigned to the correct predictions in each iteration. This will help it reach the convergence much faster."
   ]
  },
  {
   "cell_type": "code",
   "execution_count": 32,
   "id": "2a59048d",
   "metadata": {
    "ExecuteTime": {
     "end_time": "2023-08-06T13:25:11.554642Z",
     "start_time": "2023-08-06T13:25:11.376111Z"
    }
   },
   "outputs": [
    {
     "data": {
      "text/html": [
       "<style>#sk-container-id-8 {color: black;background-color: white;}#sk-container-id-8 pre{padding: 0;}#sk-container-id-8 div.sk-toggleable {background-color: white;}#sk-container-id-8 label.sk-toggleable__label {cursor: pointer;display: block;width: 100%;margin-bottom: 0;padding: 0.3em;box-sizing: border-box;text-align: center;}#sk-container-id-8 label.sk-toggleable__label-arrow:before {content: \"▸\";float: left;margin-right: 0.25em;color: #696969;}#sk-container-id-8 label.sk-toggleable__label-arrow:hover:before {color: black;}#sk-container-id-8 div.sk-estimator:hover label.sk-toggleable__label-arrow:before {color: black;}#sk-container-id-8 div.sk-toggleable__content {max-height: 0;max-width: 0;overflow: hidden;text-align: left;background-color: #f0f8ff;}#sk-container-id-8 div.sk-toggleable__content pre {margin: 0.2em;color: black;border-radius: 0.25em;background-color: #f0f8ff;}#sk-container-id-8 input.sk-toggleable__control:checked~div.sk-toggleable__content {max-height: 200px;max-width: 100%;overflow: auto;}#sk-container-id-8 input.sk-toggleable__control:checked~label.sk-toggleable__label-arrow:before {content: \"▾\";}#sk-container-id-8 div.sk-estimator input.sk-toggleable__control:checked~label.sk-toggleable__label {background-color: #d4ebff;}#sk-container-id-8 div.sk-label input.sk-toggleable__control:checked~label.sk-toggleable__label {background-color: #d4ebff;}#sk-container-id-8 input.sk-hidden--visually {border: 0;clip: rect(1px 1px 1px 1px);clip: rect(1px, 1px, 1px, 1px);height: 1px;margin: -1px;overflow: hidden;padding: 0;position: absolute;width: 1px;}#sk-container-id-8 div.sk-estimator {font-family: monospace;background-color: #f0f8ff;border: 1px dotted black;border-radius: 0.25em;box-sizing: border-box;margin-bottom: 0.5em;}#sk-container-id-8 div.sk-estimator:hover {background-color: #d4ebff;}#sk-container-id-8 div.sk-parallel-item::after {content: \"\";width: 100%;border-bottom: 1px solid gray;flex-grow: 1;}#sk-container-id-8 div.sk-label:hover label.sk-toggleable__label {background-color: #d4ebff;}#sk-container-id-8 div.sk-serial::before {content: \"\";position: absolute;border-left: 1px solid gray;box-sizing: border-box;top: 0;bottom: 0;left: 50%;z-index: 0;}#sk-container-id-8 div.sk-serial {display: flex;flex-direction: column;align-items: center;background-color: white;padding-right: 0.2em;padding-left: 0.2em;position: relative;}#sk-container-id-8 div.sk-item {position: relative;z-index: 1;}#sk-container-id-8 div.sk-parallel {display: flex;align-items: stretch;justify-content: center;background-color: white;position: relative;}#sk-container-id-8 div.sk-item::before, #sk-container-id-8 div.sk-parallel-item::before {content: \"\";position: absolute;border-left: 1px solid gray;box-sizing: border-box;top: 0;bottom: 0;left: 50%;z-index: -1;}#sk-container-id-8 div.sk-parallel-item {display: flex;flex-direction: column;z-index: 1;position: relative;background-color: white;}#sk-container-id-8 div.sk-parallel-item:first-child::after {align-self: flex-end;width: 50%;}#sk-container-id-8 div.sk-parallel-item:last-child::after {align-self: flex-start;width: 50%;}#sk-container-id-8 div.sk-parallel-item:only-child::after {width: 0;}#sk-container-id-8 div.sk-dashed-wrapped {border: 1px dashed gray;margin: 0 0.4em 0.5em 0.4em;box-sizing: border-box;padding-bottom: 0.4em;background-color: white;}#sk-container-id-8 div.sk-label label {font-family: monospace;font-weight: bold;display: inline-block;line-height: 1.2em;}#sk-container-id-8 div.sk-label-container {text-align: center;}#sk-container-id-8 div.sk-container {/* jupyter's `normalize.less` sets `[hidden] { display: none; }` but bootstrap.min.css set `[hidden] { display: none !important; }` so we also need the `!important` here to be able to override the default hidden behavior on the sphinx rendered scikit-learn.org. See: https://github.com/scikit-learn/scikit-learn/issues/21755 */display: inline-block !important;position: relative;}#sk-container-id-8 div.sk-text-repr-fallback {display: none;}</style><div id=\"sk-container-id-8\" class=\"sk-top-container\"><div class=\"sk-text-repr-fallback\"><pre>AdaBoostClassifier(estimator=RandomForestClassifier(max_depth=5))</pre><b>In a Jupyter environment, please rerun this cell to show the HTML representation or trust the notebook. <br />On GitHub, the HTML representation is unable to render, please try loading this page with nbviewer.org.</b></div><div class=\"sk-container\" hidden><div class=\"sk-item sk-dashed-wrapped\"><div class=\"sk-label-container\"><div class=\"sk-label sk-toggleable\"><input class=\"sk-toggleable__control sk-hidden--visually\" id=\"sk-estimator-id-10\" type=\"checkbox\" ><label for=\"sk-estimator-id-10\" class=\"sk-toggleable__label sk-toggleable__label-arrow\">AdaBoostClassifier</label><div class=\"sk-toggleable__content\"><pre>AdaBoostClassifier(estimator=RandomForestClassifier(max_depth=5))</pre></div></div></div><div class=\"sk-parallel\"><div class=\"sk-parallel-item\"><div class=\"sk-item\"><div class=\"sk-label-container\"><div class=\"sk-label sk-toggleable\"><input class=\"sk-toggleable__control sk-hidden--visually\" id=\"sk-estimator-id-11\" type=\"checkbox\" ><label for=\"sk-estimator-id-11\" class=\"sk-toggleable__label sk-toggleable__label-arrow\">estimator: RandomForestClassifier</label><div class=\"sk-toggleable__content\"><pre>RandomForestClassifier(max_depth=5)</pre></div></div></div><div class=\"sk-serial\"><div class=\"sk-item\"><div class=\"sk-estimator sk-toggleable\"><input class=\"sk-toggleable__control sk-hidden--visually\" id=\"sk-estimator-id-12\" type=\"checkbox\" ><label for=\"sk-estimator-id-12\" class=\"sk-toggleable__label sk-toggleable__label-arrow\">RandomForestClassifier</label><div class=\"sk-toggleable__content\"><pre>RandomForestClassifier(max_depth=5)</pre></div></div></div></div></div></div></div></div></div></div>"
      ],
      "text/plain": [
       "AdaBoostClassifier(estimator=RandomForestClassifier(max_depth=5))"
      ]
     },
     "execution_count": 32,
     "metadata": {},
     "output_type": "execute_result"
    }
   ],
   "source": [
    "from sklearn.ensemble import AdaBoostClassifier\n",
    "ada = AdaBoostClassifier(estimator=RandomForestClassifier(max_depth=5))\n",
    "ada.fit(x_train, y_train)"
   ]
  },
  {
   "cell_type": "code",
   "execution_count": 33,
   "id": "e88894dd",
   "metadata": {
    "ExecuteTime": {
     "end_time": "2023-08-06T13:25:12.813106Z",
     "start_time": "2023-08-06T13:25:12.748281Z"
    }
   },
   "outputs": [
    {
     "name": "stdout",
     "output_type": "stream",
     "text": [
      "AdaBoost training accuracy is 1.0\n",
      "AdaBoost testing accuracy is 1.0\n",
      "--------------------------------------------------------\n",
      "AdaBoost training F1 Score is 1.0\n",
      "AdaBoost testing F1 Score is 1.0\n",
      "--------------------------------------------------------\n",
      "AdaBoost training Precision is 1.0\n",
      "AdaBoost testing Precision is 1.0\n",
      "--------------------------------------------------------\n",
      "AdaBoost training ROC-AUC Score is 1.0\n",
      "AdaBoost testing ROC-AUC Score is 1.0\n",
      "--------------------------------------------------------\n",
      "AdaBoost training Confusion Matrix is\n",
      "[[82  0]\n",
      " [ 0 93]]\n",
      "--------------------------------------------------------\n",
      "AdaBoost testing Confusion Matrix is\n",
      "[[25  0]\n",
      " [ 0 50]]\n"
     ]
    }
   ],
   "source": [
    "y_pred_train = ada.predict(x_train)\n",
    "y_pred_test = ada.predict(x_test)\n",
    "\n",
    "ada_train_acc = accuracy_score(y_train, y_pred_train)\n",
    "ada_test_acc = accuracy_score(y_test, y_pred_test)\n",
    "\n",
    "ada_train_f1 = f1_score(y_train, y_pred_train)\n",
    "ada_test_f1 = f1_score(y_test, y_pred_test)\n",
    "\n",
    "ada_train_prec = precision_score(y_train, y_pred_train)\n",
    "ada_test_prec = precision_score(y_test, y_pred_test)\n",
    "\n",
    "ada_train_roc = roc_auc_score(y_train, y_pred_train)\n",
    "ada_test_roc = roc_auc_score(y_test, y_pred_test)\n",
    "\n",
    "ada_train_cm = confusion_matrix(y_train, y_pred_train)\n",
    "ada_test_cm = confusion_matrix(y_test, y_pred_test)\n",
    "\n",
    "print('AdaBoost training accuracy is', ada_train_acc)\n",
    "print('AdaBoost testing accuracy is', ada_test_acc)\n",
    "print('--------------------------------------------------------')\n",
    "print('AdaBoost training F1 Score is', ada_train_f1)\n",
    "print('AdaBoost testing F1 Score is', ada_test_f1)\n",
    "print('--------------------------------------------------------')\n",
    "print('AdaBoost training Precision is', ada_train_prec)\n",
    "print('AdaBoost testing Precision is', ada_test_prec)\n",
    "print('--------------------------------------------------------')\n",
    "print('AdaBoost training ROC-AUC Score is', ada_train_roc)\n",
    "print('AdaBoost testing ROC-AUC Score is', ada_test_roc)\n",
    "print('--------------------------------------------------------')\n",
    "print('AdaBoost training Confusion Matrix is')\n",
    "print(ada_train_cm)\n",
    "print('--------------------------------------------------------')\n",
    "print('AdaBoost testing Confusion Matrix is')\n",
    "print(ada_test_cm)"
   ]
  },
  {
   "cell_type": "markdown",
   "id": "f6650e11",
   "metadata": {},
   "source": [
    "## Gradient Boosting Classifier\n",
    "This is an ensemble technique that uses the Gradient Descent algorithm in changing the weights."
   ]
  },
  {
   "cell_type": "code",
   "execution_count": 34,
   "id": "5f0ec8a2",
   "metadata": {
    "ExecuteTime": {
     "end_time": "2023-08-06T13:23:40.048250Z",
     "start_time": "2023-08-06T13:23:39.957469Z"
    }
   },
   "outputs": [
    {
     "data": {
      "text/html": [
       "<style>#sk-container-id-9 {color: black;background-color: white;}#sk-container-id-9 pre{padding: 0;}#sk-container-id-9 div.sk-toggleable {background-color: white;}#sk-container-id-9 label.sk-toggleable__label {cursor: pointer;display: block;width: 100%;margin-bottom: 0;padding: 0.3em;box-sizing: border-box;text-align: center;}#sk-container-id-9 label.sk-toggleable__label-arrow:before {content: \"▸\";float: left;margin-right: 0.25em;color: #696969;}#sk-container-id-9 label.sk-toggleable__label-arrow:hover:before {color: black;}#sk-container-id-9 div.sk-estimator:hover label.sk-toggleable__label-arrow:before {color: black;}#sk-container-id-9 div.sk-toggleable__content {max-height: 0;max-width: 0;overflow: hidden;text-align: left;background-color: #f0f8ff;}#sk-container-id-9 div.sk-toggleable__content pre {margin: 0.2em;color: black;border-radius: 0.25em;background-color: #f0f8ff;}#sk-container-id-9 input.sk-toggleable__control:checked~div.sk-toggleable__content {max-height: 200px;max-width: 100%;overflow: auto;}#sk-container-id-9 input.sk-toggleable__control:checked~label.sk-toggleable__label-arrow:before {content: \"▾\";}#sk-container-id-9 div.sk-estimator input.sk-toggleable__control:checked~label.sk-toggleable__label {background-color: #d4ebff;}#sk-container-id-9 div.sk-label input.sk-toggleable__control:checked~label.sk-toggleable__label {background-color: #d4ebff;}#sk-container-id-9 input.sk-hidden--visually {border: 0;clip: rect(1px 1px 1px 1px);clip: rect(1px, 1px, 1px, 1px);height: 1px;margin: -1px;overflow: hidden;padding: 0;position: absolute;width: 1px;}#sk-container-id-9 div.sk-estimator {font-family: monospace;background-color: #f0f8ff;border: 1px dotted black;border-radius: 0.25em;box-sizing: border-box;margin-bottom: 0.5em;}#sk-container-id-9 div.sk-estimator:hover {background-color: #d4ebff;}#sk-container-id-9 div.sk-parallel-item::after {content: \"\";width: 100%;border-bottom: 1px solid gray;flex-grow: 1;}#sk-container-id-9 div.sk-label:hover label.sk-toggleable__label {background-color: #d4ebff;}#sk-container-id-9 div.sk-serial::before {content: \"\";position: absolute;border-left: 1px solid gray;box-sizing: border-box;top: 0;bottom: 0;left: 50%;z-index: 0;}#sk-container-id-9 div.sk-serial {display: flex;flex-direction: column;align-items: center;background-color: white;padding-right: 0.2em;padding-left: 0.2em;position: relative;}#sk-container-id-9 div.sk-item {position: relative;z-index: 1;}#sk-container-id-9 div.sk-parallel {display: flex;align-items: stretch;justify-content: center;background-color: white;position: relative;}#sk-container-id-9 div.sk-item::before, #sk-container-id-9 div.sk-parallel-item::before {content: \"\";position: absolute;border-left: 1px solid gray;box-sizing: border-box;top: 0;bottom: 0;left: 50%;z-index: -1;}#sk-container-id-9 div.sk-parallel-item {display: flex;flex-direction: column;z-index: 1;position: relative;background-color: white;}#sk-container-id-9 div.sk-parallel-item:first-child::after {align-self: flex-end;width: 50%;}#sk-container-id-9 div.sk-parallel-item:last-child::after {align-self: flex-start;width: 50%;}#sk-container-id-9 div.sk-parallel-item:only-child::after {width: 0;}#sk-container-id-9 div.sk-dashed-wrapped {border: 1px dashed gray;margin: 0 0.4em 0.5em 0.4em;box-sizing: border-box;padding-bottom: 0.4em;background-color: white;}#sk-container-id-9 div.sk-label label {font-family: monospace;font-weight: bold;display: inline-block;line-height: 1.2em;}#sk-container-id-9 div.sk-label-container {text-align: center;}#sk-container-id-9 div.sk-container {/* jupyter's `normalize.less` sets `[hidden] { display: none; }` but bootstrap.min.css set `[hidden] { display: none !important; }` so we also need the `!important` here to be able to override the default hidden behavior on the sphinx rendered scikit-learn.org. See: https://github.com/scikit-learn/scikit-learn/issues/21755 */display: inline-block !important;position: relative;}#sk-container-id-9 div.sk-text-repr-fallback {display: none;}</style><div id=\"sk-container-id-9\" class=\"sk-top-container\"><div class=\"sk-text-repr-fallback\"><pre>GradientBoostingClassifier(learning_rate=0.01)</pre><b>In a Jupyter environment, please rerun this cell to show the HTML representation or trust the notebook. <br />On GitHub, the HTML representation is unable to render, please try loading this page with nbviewer.org.</b></div><div class=\"sk-container\" hidden><div class=\"sk-item\"><div class=\"sk-estimator sk-toggleable\"><input class=\"sk-toggleable__control sk-hidden--visually\" id=\"sk-estimator-id-13\" type=\"checkbox\" checked><label for=\"sk-estimator-id-13\" class=\"sk-toggleable__label sk-toggleable__label-arrow\">GradientBoostingClassifier</label><div class=\"sk-toggleable__content\"><pre>GradientBoostingClassifier(learning_rate=0.01)</pre></div></div></div></div></div>"
      ],
      "text/plain": [
       "GradientBoostingClassifier(learning_rate=0.01)"
      ]
     },
     "execution_count": 34,
     "metadata": {},
     "output_type": "execute_result"
    }
   ],
   "source": [
    "from sklearn.ensemble import GradientBoostingClassifier\n",
    "grad = GradientBoostingClassifier(learning_rate=0.01)\n",
    "grad.fit(x_train, y_train)"
   ]
  },
  {
   "cell_type": "code",
   "execution_count": 35,
   "id": "fd369314",
   "metadata": {
    "ExecuteTime": {
     "end_time": "2023-08-06T13:23:40.095074Z",
     "start_time": "2023-08-06T13:23:40.051218Z"
    }
   },
   "outputs": [
    {
     "name": "stdout",
     "output_type": "stream",
     "text": [
      "Gradient Boost training accuracy is 1.0\n",
      "Gradient Boost testing accuracy is 0.9866666666666667\n",
      "--------------------------------------------------------\n",
      "Gradient Boost training F1 Score is 1.0\n",
      "Gradient Boost testing F1 Score is 0.98989898989899\n",
      "--------------------------------------------------------\n",
      "Gradient Boost training Precision is 1.0\n",
      "Gradient Boost testing Precision is 1.0\n",
      "--------------------------------------------------------\n",
      "Gradient Boost training ROC-AUC Score is 1.0\n",
      "Gradient Boost testing ROC-AUC Score is 0.99\n",
      "--------------------------------------------------------\n",
      "Gradient Boost training Confusion Matrix is\n",
      "[[82  0]\n",
      " [ 0 93]]\n",
      "--------------------------------------------------------\n",
      "Gradient Boost testing Confusion Matrix is\n",
      "[[25  0]\n",
      " [ 1 49]]\n"
     ]
    }
   ],
   "source": [
    "y_pred_train = grad.predict(x_train)\n",
    "y_pred_test = grad.predict(x_test)\n",
    "\n",
    "grad_train_acc = accuracy_score(y_train, y_pred_train)\n",
    "grad_test_acc = accuracy_score(y_test, y_pred_test)\n",
    "\n",
    "grad_train_f1 = f1_score(y_train, y_pred_train)\n",
    "grad_test_f1 = f1_score(y_test, y_pred_test)\n",
    "\n",
    "grad_train_prec = precision_score(y_train, y_pred_train)\n",
    "grad_test_prec = precision_score(y_test, y_pred_test)\n",
    "\n",
    "grad_train_roc = roc_auc_score(y_train, y_pred_train)\n",
    "grad_test_roc = roc_auc_score(y_test, y_pred_test)\n",
    "\n",
    "grad_train_cm = confusion_matrix(y_train, y_pred_train)\n",
    "grad_test_cm = confusion_matrix(y_test, y_pred_test)\n",
    "\n",
    "print('Gradient Boost training accuracy is', grad_train_acc)\n",
    "print('Gradient Boost testing accuracy is', grad_test_acc)\n",
    "print('--------------------------------------------------------')\n",
    "print('Gradient Boost training F1 Score is', grad_train_f1)\n",
    "print('Gradient Boost testing F1 Score is', grad_test_f1)\n",
    "print('--------------------------------------------------------')\n",
    "print('Gradient Boost training Precision is', grad_train_prec)\n",
    "print('Gradient Boost testing Precision is', grad_test_prec)\n",
    "print('--------------------------------------------------------')\n",
    "print('Gradient Boost training ROC-AUC Score is', grad_train_roc)\n",
    "print('Gradient Boost testing ROC-AUC Score is', grad_test_roc)\n",
    "print('--------------------------------------------------------')\n",
    "print('Gradient Boost training Confusion Matrix is')\n",
    "print(grad_train_cm)\n",
    "print('--------------------------------------------------------')\n",
    "print('Gradient Boost testing Confusion Matrix is')\n",
    "print(grad_test_cm)"
   ]
  },
  {
   "cell_type": "markdown",
   "id": "b9803b39",
   "metadata": {},
   "source": [
    "## SVR\n",
    "This model uses the support vector concept. There are 3 kernels which are linear, polynomial, and rbf."
   ]
  },
  {
   "cell_type": "markdown",
   "id": "d61a07d3",
   "metadata": {},
   "source": [
    "### Linear Kernel"
   ]
  },
  {
   "cell_type": "code",
   "execution_count": 36,
   "id": "dc712c00",
   "metadata": {
    "ExecuteTime": {
     "end_time": "2023-08-06T13:23:40.110935Z",
     "start_time": "2023-08-06T13:23:40.097970Z"
    }
   },
   "outputs": [
    {
     "data": {
      "text/html": [
       "<style>#sk-container-id-10 {color: black;background-color: white;}#sk-container-id-10 pre{padding: 0;}#sk-container-id-10 div.sk-toggleable {background-color: white;}#sk-container-id-10 label.sk-toggleable__label {cursor: pointer;display: block;width: 100%;margin-bottom: 0;padding: 0.3em;box-sizing: border-box;text-align: center;}#sk-container-id-10 label.sk-toggleable__label-arrow:before {content: \"▸\";float: left;margin-right: 0.25em;color: #696969;}#sk-container-id-10 label.sk-toggleable__label-arrow:hover:before {color: black;}#sk-container-id-10 div.sk-estimator:hover label.sk-toggleable__label-arrow:before {color: black;}#sk-container-id-10 div.sk-toggleable__content {max-height: 0;max-width: 0;overflow: hidden;text-align: left;background-color: #f0f8ff;}#sk-container-id-10 div.sk-toggleable__content pre {margin: 0.2em;color: black;border-radius: 0.25em;background-color: #f0f8ff;}#sk-container-id-10 input.sk-toggleable__control:checked~div.sk-toggleable__content {max-height: 200px;max-width: 100%;overflow: auto;}#sk-container-id-10 input.sk-toggleable__control:checked~label.sk-toggleable__label-arrow:before {content: \"▾\";}#sk-container-id-10 div.sk-estimator input.sk-toggleable__control:checked~label.sk-toggleable__label {background-color: #d4ebff;}#sk-container-id-10 div.sk-label input.sk-toggleable__control:checked~label.sk-toggleable__label {background-color: #d4ebff;}#sk-container-id-10 input.sk-hidden--visually {border: 0;clip: rect(1px 1px 1px 1px);clip: rect(1px, 1px, 1px, 1px);height: 1px;margin: -1px;overflow: hidden;padding: 0;position: absolute;width: 1px;}#sk-container-id-10 div.sk-estimator {font-family: monospace;background-color: #f0f8ff;border: 1px dotted black;border-radius: 0.25em;box-sizing: border-box;margin-bottom: 0.5em;}#sk-container-id-10 div.sk-estimator:hover {background-color: #d4ebff;}#sk-container-id-10 div.sk-parallel-item::after {content: \"\";width: 100%;border-bottom: 1px solid gray;flex-grow: 1;}#sk-container-id-10 div.sk-label:hover label.sk-toggleable__label {background-color: #d4ebff;}#sk-container-id-10 div.sk-serial::before {content: \"\";position: absolute;border-left: 1px solid gray;box-sizing: border-box;top: 0;bottom: 0;left: 50%;z-index: 0;}#sk-container-id-10 div.sk-serial {display: flex;flex-direction: column;align-items: center;background-color: white;padding-right: 0.2em;padding-left: 0.2em;position: relative;}#sk-container-id-10 div.sk-item {position: relative;z-index: 1;}#sk-container-id-10 div.sk-parallel {display: flex;align-items: stretch;justify-content: center;background-color: white;position: relative;}#sk-container-id-10 div.sk-item::before, #sk-container-id-10 div.sk-parallel-item::before {content: \"\";position: absolute;border-left: 1px solid gray;box-sizing: border-box;top: 0;bottom: 0;left: 50%;z-index: -1;}#sk-container-id-10 div.sk-parallel-item {display: flex;flex-direction: column;z-index: 1;position: relative;background-color: white;}#sk-container-id-10 div.sk-parallel-item:first-child::after {align-self: flex-end;width: 50%;}#sk-container-id-10 div.sk-parallel-item:last-child::after {align-self: flex-start;width: 50%;}#sk-container-id-10 div.sk-parallel-item:only-child::after {width: 0;}#sk-container-id-10 div.sk-dashed-wrapped {border: 1px dashed gray;margin: 0 0.4em 0.5em 0.4em;box-sizing: border-box;padding-bottom: 0.4em;background-color: white;}#sk-container-id-10 div.sk-label label {font-family: monospace;font-weight: bold;display: inline-block;line-height: 1.2em;}#sk-container-id-10 div.sk-label-container {text-align: center;}#sk-container-id-10 div.sk-container {/* jupyter's `normalize.less` sets `[hidden] { display: none; }` but bootstrap.min.css set `[hidden] { display: none !important; }` so we also need the `!important` here to be able to override the default hidden behavior on the sphinx rendered scikit-learn.org. See: https://github.com/scikit-learn/scikit-learn/issues/21755 */display: inline-block !important;position: relative;}#sk-container-id-10 div.sk-text-repr-fallback {display: none;}</style><div id=\"sk-container-id-10\" class=\"sk-top-container\"><div class=\"sk-text-repr-fallback\"><pre>SVC(kernel=&#x27;linear&#x27;)</pre><b>In a Jupyter environment, please rerun this cell to show the HTML representation or trust the notebook. <br />On GitHub, the HTML representation is unable to render, please try loading this page with nbviewer.org.</b></div><div class=\"sk-container\" hidden><div class=\"sk-item\"><div class=\"sk-estimator sk-toggleable\"><input class=\"sk-toggleable__control sk-hidden--visually\" id=\"sk-estimator-id-14\" type=\"checkbox\" checked><label for=\"sk-estimator-id-14\" class=\"sk-toggleable__label sk-toggleable__label-arrow\">SVC</label><div class=\"sk-toggleable__content\"><pre>SVC(kernel=&#x27;linear&#x27;)</pre></div></div></div></div></div>"
      ],
      "text/plain": [
       "SVC(kernel='linear')"
      ]
     },
     "execution_count": 36,
     "metadata": {},
     "output_type": "execute_result"
    }
   ],
   "source": [
    "from sklearn.svm import SVC\n",
    "\n",
    "svcl = SVC(kernel= \"linear\") \n",
    "svcl.fit(x_train , y_train) "
   ]
  },
  {
   "cell_type": "code",
   "execution_count": 37,
   "id": "364eeae9",
   "metadata": {
    "ExecuteTime": {
     "end_time": "2023-08-06T13:23:40.157945Z",
     "start_time": "2023-08-06T13:23:40.113957Z"
    }
   },
   "outputs": [
    {
     "name": "stdout",
     "output_type": "stream",
     "text": [
      "SVC Linear Kernel training accuracy is 0.9942857142857143\n",
      "SVC Linear Kernel testing accuracy is 0.9866666666666667\n",
      "--------------------------------------------------------\n",
      "SVC Linear Kernel training F1 Score is 0.9946524064171123\n",
      "SVC Linear Kernel testing F1 Score is 0.98989898989899\n",
      "--------------------------------------------------------\n",
      "SVC Linear Kernel training Precision is 0.9893617021276596\n",
      "SVC Linear Kernel testing Precision is 1.0\n",
      "--------------------------------------------------------\n",
      "SVC Linear Kernel training ROC-AUC Score is 0.9939024390243902\n",
      "SVC Linear Kernel testing ROC-AUC Score is 0.99\n",
      "--------------------------------------------------------\n",
      "SVC Linear Kernel training Confusion Matrix is\n",
      "[[81  1]\n",
      " [ 0 93]]\n",
      "--------------------------------------------------------\n",
      "SVC Linear Kernel testing Confusion Matrix is\n",
      "[[25  0]\n",
      " [ 1 49]]\n"
     ]
    }
   ],
   "source": [
    "y_pred_train = svcl.predict(x_train)\n",
    "y_pred_test = svcl.predict(x_test)\n",
    "\n",
    "svcl_train_acc = accuracy_score(y_train, y_pred_train)\n",
    "svcl_test_acc = accuracy_score(y_test, y_pred_test)\n",
    "\n",
    "svcl_train_f1 = f1_score(y_train, y_pred_train)\n",
    "svcl_test_f1 = f1_score(y_test, y_pred_test)\n",
    "\n",
    "svcl_train_prec = precision_score(y_train, y_pred_train)\n",
    "svcl_test_prec = precision_score(y_test, y_pred_test)\n",
    "\n",
    "svcl_train_roc = roc_auc_score(y_train, y_pred_train)\n",
    "svcl_test_roc = roc_auc_score(y_test, y_pred_test)\n",
    "\n",
    "svcl_train_cm = confusion_matrix(y_train, y_pred_train)\n",
    "svcl_test_cm = confusion_matrix(y_test, y_pred_test)\n",
    "\n",
    "print('SVC Linear Kernel training accuracy is', svcl_train_acc)\n",
    "print('SVC Linear Kernel testing accuracy is', svcl_test_acc)\n",
    "print('--------------------------------------------------------')\n",
    "print('SVC Linear Kernel training F1 Score is', svcl_train_f1)\n",
    "print('SVC Linear Kernel testing F1 Score is', svcl_test_f1)\n",
    "print('--------------------------------------------------------')\n",
    "print('SVC Linear Kernel training Precision is', svcl_train_prec)\n",
    "print('SVC Linear Kernel testing Precision is', svcl_test_prec)\n",
    "print('--------------------------------------------------------')\n",
    "print('SVC Linear Kernel training ROC-AUC Score is', svcl_train_roc)\n",
    "print('SVC Linear Kernel testing ROC-AUC Score is', svcl_test_roc)\n",
    "print('--------------------------------------------------------')\n",
    "print('SVC Linear Kernel training Confusion Matrix is')\n",
    "print(svcl_train_cm)\n",
    "print('--------------------------------------------------------')\n",
    "print('SVC Linear Kernel testing Confusion Matrix is')\n",
    "print(svcl_test_cm)"
   ]
  },
  {
   "cell_type": "markdown",
   "id": "ca7fe67b",
   "metadata": {},
   "source": [
    "### Polynomial Kernel"
   ]
  },
  {
   "cell_type": "code",
   "execution_count": 38,
   "id": "ccd86cdb",
   "metadata": {
    "ExecuteTime": {
     "end_time": "2023-08-06T13:23:40.173779Z",
     "start_time": "2023-08-06T13:23:40.160812Z"
    }
   },
   "outputs": [
    {
     "data": {
      "text/html": [
       "<style>#sk-container-id-11 {color: black;background-color: white;}#sk-container-id-11 pre{padding: 0;}#sk-container-id-11 div.sk-toggleable {background-color: white;}#sk-container-id-11 label.sk-toggleable__label {cursor: pointer;display: block;width: 100%;margin-bottom: 0;padding: 0.3em;box-sizing: border-box;text-align: center;}#sk-container-id-11 label.sk-toggleable__label-arrow:before {content: \"▸\";float: left;margin-right: 0.25em;color: #696969;}#sk-container-id-11 label.sk-toggleable__label-arrow:hover:before {color: black;}#sk-container-id-11 div.sk-estimator:hover label.sk-toggleable__label-arrow:before {color: black;}#sk-container-id-11 div.sk-toggleable__content {max-height: 0;max-width: 0;overflow: hidden;text-align: left;background-color: #f0f8ff;}#sk-container-id-11 div.sk-toggleable__content pre {margin: 0.2em;color: black;border-radius: 0.25em;background-color: #f0f8ff;}#sk-container-id-11 input.sk-toggleable__control:checked~div.sk-toggleable__content {max-height: 200px;max-width: 100%;overflow: auto;}#sk-container-id-11 input.sk-toggleable__control:checked~label.sk-toggleable__label-arrow:before {content: \"▾\";}#sk-container-id-11 div.sk-estimator input.sk-toggleable__control:checked~label.sk-toggleable__label {background-color: #d4ebff;}#sk-container-id-11 div.sk-label input.sk-toggleable__control:checked~label.sk-toggleable__label {background-color: #d4ebff;}#sk-container-id-11 input.sk-hidden--visually {border: 0;clip: rect(1px 1px 1px 1px);clip: rect(1px, 1px, 1px, 1px);height: 1px;margin: -1px;overflow: hidden;padding: 0;position: absolute;width: 1px;}#sk-container-id-11 div.sk-estimator {font-family: monospace;background-color: #f0f8ff;border: 1px dotted black;border-radius: 0.25em;box-sizing: border-box;margin-bottom: 0.5em;}#sk-container-id-11 div.sk-estimator:hover {background-color: #d4ebff;}#sk-container-id-11 div.sk-parallel-item::after {content: \"\";width: 100%;border-bottom: 1px solid gray;flex-grow: 1;}#sk-container-id-11 div.sk-label:hover label.sk-toggleable__label {background-color: #d4ebff;}#sk-container-id-11 div.sk-serial::before {content: \"\";position: absolute;border-left: 1px solid gray;box-sizing: border-box;top: 0;bottom: 0;left: 50%;z-index: 0;}#sk-container-id-11 div.sk-serial {display: flex;flex-direction: column;align-items: center;background-color: white;padding-right: 0.2em;padding-left: 0.2em;position: relative;}#sk-container-id-11 div.sk-item {position: relative;z-index: 1;}#sk-container-id-11 div.sk-parallel {display: flex;align-items: stretch;justify-content: center;background-color: white;position: relative;}#sk-container-id-11 div.sk-item::before, #sk-container-id-11 div.sk-parallel-item::before {content: \"\";position: absolute;border-left: 1px solid gray;box-sizing: border-box;top: 0;bottom: 0;left: 50%;z-index: -1;}#sk-container-id-11 div.sk-parallel-item {display: flex;flex-direction: column;z-index: 1;position: relative;background-color: white;}#sk-container-id-11 div.sk-parallel-item:first-child::after {align-self: flex-end;width: 50%;}#sk-container-id-11 div.sk-parallel-item:last-child::after {align-self: flex-start;width: 50%;}#sk-container-id-11 div.sk-parallel-item:only-child::after {width: 0;}#sk-container-id-11 div.sk-dashed-wrapped {border: 1px dashed gray;margin: 0 0.4em 0.5em 0.4em;box-sizing: border-box;padding-bottom: 0.4em;background-color: white;}#sk-container-id-11 div.sk-label label {font-family: monospace;font-weight: bold;display: inline-block;line-height: 1.2em;}#sk-container-id-11 div.sk-label-container {text-align: center;}#sk-container-id-11 div.sk-container {/* jupyter's `normalize.less` sets `[hidden] { display: none; }` but bootstrap.min.css set `[hidden] { display: none !important; }` so we also need the `!important` here to be able to override the default hidden behavior on the sphinx rendered scikit-learn.org. See: https://github.com/scikit-learn/scikit-learn/issues/21755 */display: inline-block !important;position: relative;}#sk-container-id-11 div.sk-text-repr-fallback {display: none;}</style><div id=\"sk-container-id-11\" class=\"sk-top-container\"><div class=\"sk-text-repr-fallback\"><pre>SVC(kernel=&#x27;poly&#x27;)</pre><b>In a Jupyter environment, please rerun this cell to show the HTML representation or trust the notebook. <br />On GitHub, the HTML representation is unable to render, please try loading this page with nbviewer.org.</b></div><div class=\"sk-container\" hidden><div class=\"sk-item\"><div class=\"sk-estimator sk-toggleable\"><input class=\"sk-toggleable__control sk-hidden--visually\" id=\"sk-estimator-id-15\" type=\"checkbox\" checked><label for=\"sk-estimator-id-15\" class=\"sk-toggleable__label sk-toggleable__label-arrow\">SVC</label><div class=\"sk-toggleable__content\"><pre>SVC(kernel=&#x27;poly&#x27;)</pre></div></div></div></div></div>"
      ],
      "text/plain": [
       "SVC(kernel='poly')"
      ]
     },
     "execution_count": 38,
     "metadata": {},
     "output_type": "execute_result"
    }
   ],
   "source": [
    "svcp = SVC(kernel= \"poly\") \n",
    "svcp.fit(x_train , y_train) "
   ]
  },
  {
   "cell_type": "code",
   "execution_count": 39,
   "id": "f51339d9",
   "metadata": {
    "ExecuteTime": {
     "end_time": "2023-08-06T13:23:40.220783Z",
     "start_time": "2023-08-06T13:23:40.176759Z"
    }
   },
   "outputs": [
    {
     "name": "stdout",
     "output_type": "stream",
     "text": [
      "SVC Polynomial Kernel training accuracy is 1.0\n",
      "SVC Polynomial Kernel testing accuracy is 0.9866666666666667\n",
      "--------------------------------------------------------\n",
      "SVC Polynomial Kernel training F1 Score is 1.0\n",
      "SVC Polynomial Kernel testing F1 Score is 0.98989898989899\n",
      "--------------------------------------------------------\n",
      "SVC Polynomial Kernel training Precision is 1.0\n",
      "SVC Polynomial Kernel testing Precision is 1.0\n",
      "--------------------------------------------------------\n",
      "SVC Polynomial Kernel training ROC-AUC Score is 1.0\n",
      "SVC Polynomial Kernel testing ROC-AUC Score is 0.99\n",
      "--------------------------------------------------------\n",
      "SVC Polynomial Kernel training Confusion Matrix is\n",
      "[[82  0]\n",
      " [ 0 93]]\n",
      "--------------------------------------------------------\n",
      "SVC Polynomial Kernel testing Confusion Matrix is\n",
      "[[25  0]\n",
      " [ 1 49]]\n"
     ]
    }
   ],
   "source": [
    "y_pred_train = svcp.predict(x_train)\n",
    "y_pred_test = svcp.predict(x_test)\n",
    "\n",
    "svcp_train_acc = accuracy_score(y_train, y_pred_train)\n",
    "svcp_test_acc = accuracy_score(y_test, y_pred_test)\n",
    "\n",
    "svcp_train_f1 = f1_score(y_train, y_pred_train)\n",
    "svcp_test_f1 = f1_score(y_test, y_pred_test)\n",
    "\n",
    "svcp_train_prec = precision_score(y_train, y_pred_train)\n",
    "svcp_test_prec = precision_score(y_test, y_pred_test)\n",
    "\n",
    "svcp_train_roc = roc_auc_score(y_train, y_pred_train)\n",
    "svcp_test_roc = roc_auc_score(y_test, y_pred_test)\n",
    "\n",
    "svcp_train_cm = confusion_matrix(y_train, y_pred_train)\n",
    "svcp_test_cm = confusion_matrix(y_test, y_pred_test)\n",
    "\n",
    "print('SVC Polynomial Kernel training accuracy is', svcp_train_acc)\n",
    "print('SVC Polynomial Kernel testing accuracy is', svcp_test_acc)\n",
    "print('--------------------------------------------------------')\n",
    "print('SVC Polynomial Kernel training F1 Score is', svcp_train_f1)\n",
    "print('SVC Polynomial Kernel testing F1 Score is', svcp_test_f1)\n",
    "print('--------------------------------------------------------')\n",
    "print('SVC Polynomial Kernel training Precision is', svcp_train_prec)\n",
    "print('SVC Polynomial Kernel testing Precision is', svcp_test_prec)\n",
    "print('--------------------------------------------------------')\n",
    "print('SVC Polynomial Kernel training ROC-AUC Score is', svcp_train_roc)\n",
    "print('SVC Polynomial Kernel testing ROC-AUC Score is', svcp_test_roc)\n",
    "print('--------------------------------------------------------')\n",
    "print('SVC Polynomial Kernel training Confusion Matrix is')\n",
    "print(svcp_train_cm)\n",
    "print('--------------------------------------------------------')\n",
    "print('SVC Polynomial Kernel testing Confusion Matrix is')\n",
    "print(svcp_test_cm)"
   ]
  },
  {
   "cell_type": "markdown",
   "id": "cac7be82",
   "metadata": {},
   "source": [
    "### RBF Kernel"
   ]
  },
  {
   "cell_type": "code",
   "execution_count": 40,
   "id": "99b68a59",
   "metadata": {
    "ExecuteTime": {
     "end_time": "2023-08-06T13:23:40.236300Z",
     "start_time": "2023-08-06T13:23:40.223335Z"
    }
   },
   "outputs": [
    {
     "data": {
      "text/html": [
       "<style>#sk-container-id-12 {color: black;background-color: white;}#sk-container-id-12 pre{padding: 0;}#sk-container-id-12 div.sk-toggleable {background-color: white;}#sk-container-id-12 label.sk-toggleable__label {cursor: pointer;display: block;width: 100%;margin-bottom: 0;padding: 0.3em;box-sizing: border-box;text-align: center;}#sk-container-id-12 label.sk-toggleable__label-arrow:before {content: \"▸\";float: left;margin-right: 0.25em;color: #696969;}#sk-container-id-12 label.sk-toggleable__label-arrow:hover:before {color: black;}#sk-container-id-12 div.sk-estimator:hover label.sk-toggleable__label-arrow:before {color: black;}#sk-container-id-12 div.sk-toggleable__content {max-height: 0;max-width: 0;overflow: hidden;text-align: left;background-color: #f0f8ff;}#sk-container-id-12 div.sk-toggleable__content pre {margin: 0.2em;color: black;border-radius: 0.25em;background-color: #f0f8ff;}#sk-container-id-12 input.sk-toggleable__control:checked~div.sk-toggleable__content {max-height: 200px;max-width: 100%;overflow: auto;}#sk-container-id-12 input.sk-toggleable__control:checked~label.sk-toggleable__label-arrow:before {content: \"▾\";}#sk-container-id-12 div.sk-estimator input.sk-toggleable__control:checked~label.sk-toggleable__label {background-color: #d4ebff;}#sk-container-id-12 div.sk-label input.sk-toggleable__control:checked~label.sk-toggleable__label {background-color: #d4ebff;}#sk-container-id-12 input.sk-hidden--visually {border: 0;clip: rect(1px 1px 1px 1px);clip: rect(1px, 1px, 1px, 1px);height: 1px;margin: -1px;overflow: hidden;padding: 0;position: absolute;width: 1px;}#sk-container-id-12 div.sk-estimator {font-family: monospace;background-color: #f0f8ff;border: 1px dotted black;border-radius: 0.25em;box-sizing: border-box;margin-bottom: 0.5em;}#sk-container-id-12 div.sk-estimator:hover {background-color: #d4ebff;}#sk-container-id-12 div.sk-parallel-item::after {content: \"\";width: 100%;border-bottom: 1px solid gray;flex-grow: 1;}#sk-container-id-12 div.sk-label:hover label.sk-toggleable__label {background-color: #d4ebff;}#sk-container-id-12 div.sk-serial::before {content: \"\";position: absolute;border-left: 1px solid gray;box-sizing: border-box;top: 0;bottom: 0;left: 50%;z-index: 0;}#sk-container-id-12 div.sk-serial {display: flex;flex-direction: column;align-items: center;background-color: white;padding-right: 0.2em;padding-left: 0.2em;position: relative;}#sk-container-id-12 div.sk-item {position: relative;z-index: 1;}#sk-container-id-12 div.sk-parallel {display: flex;align-items: stretch;justify-content: center;background-color: white;position: relative;}#sk-container-id-12 div.sk-item::before, #sk-container-id-12 div.sk-parallel-item::before {content: \"\";position: absolute;border-left: 1px solid gray;box-sizing: border-box;top: 0;bottom: 0;left: 50%;z-index: -1;}#sk-container-id-12 div.sk-parallel-item {display: flex;flex-direction: column;z-index: 1;position: relative;background-color: white;}#sk-container-id-12 div.sk-parallel-item:first-child::after {align-self: flex-end;width: 50%;}#sk-container-id-12 div.sk-parallel-item:last-child::after {align-self: flex-start;width: 50%;}#sk-container-id-12 div.sk-parallel-item:only-child::after {width: 0;}#sk-container-id-12 div.sk-dashed-wrapped {border: 1px dashed gray;margin: 0 0.4em 0.5em 0.4em;box-sizing: border-box;padding-bottom: 0.4em;background-color: white;}#sk-container-id-12 div.sk-label label {font-family: monospace;font-weight: bold;display: inline-block;line-height: 1.2em;}#sk-container-id-12 div.sk-label-container {text-align: center;}#sk-container-id-12 div.sk-container {/* jupyter's `normalize.less` sets `[hidden] { display: none; }` but bootstrap.min.css set `[hidden] { display: none !important; }` so we also need the `!important` here to be able to override the default hidden behavior on the sphinx rendered scikit-learn.org. See: https://github.com/scikit-learn/scikit-learn/issues/21755 */display: inline-block !important;position: relative;}#sk-container-id-12 div.sk-text-repr-fallback {display: none;}</style><div id=\"sk-container-id-12\" class=\"sk-top-container\"><div class=\"sk-text-repr-fallback\"><pre>SVC(C=20, gamma=50)</pre><b>In a Jupyter environment, please rerun this cell to show the HTML representation or trust the notebook. <br />On GitHub, the HTML representation is unable to render, please try loading this page with nbviewer.org.</b></div><div class=\"sk-container\" hidden><div class=\"sk-item\"><div class=\"sk-estimator sk-toggleable\"><input class=\"sk-toggleable__control sk-hidden--visually\" id=\"sk-estimator-id-16\" type=\"checkbox\" checked><label for=\"sk-estimator-id-16\" class=\"sk-toggleable__label sk-toggleable__label-arrow\">SVC</label><div class=\"sk-toggleable__content\"><pre>SVC(C=20, gamma=50)</pre></div></div></div></div></div>"
      ],
      "text/plain": [
       "SVC(C=20, gamma=50)"
      ]
     },
     "execution_count": 40,
     "metadata": {},
     "output_type": "execute_result"
    }
   ],
   "source": [
    "svcr = SVC(C= 20, gamma = 50) \n",
    "svcr.fit(x_train , y_train) "
   ]
  },
  {
   "cell_type": "code",
   "execution_count": 41,
   "id": "4fa77273",
   "metadata": {
    "ExecuteTime": {
     "end_time": "2023-08-06T13:23:40.283174Z",
     "start_time": "2023-08-06T13:23:40.238311Z"
    }
   },
   "outputs": [
    {
     "name": "stdout",
     "output_type": "stream",
     "text": [
      "SVC RBF Kernel training accuracy is 1.0\n",
      "SVC RBF Kernel testing accuracy is 1.0\n",
      "--------------------------------------------------------\n",
      "SVC RBF Kernel training F1 Score is 1.0\n",
      "SVC RBF Kernel testing F1 Score is 1.0\n",
      "--------------------------------------------------------\n",
      "SVC RBF Kernel training Precision is 1.0\n",
      "SVC RBF Kernel testing Precision is 1.0\n",
      "--------------------------------------------------------\n",
      "SVC RBF Kernel training ROC-AUC Score is 1.0\n",
      "SVC RBF Kernel testing ROC-AUC Score is 1.0\n",
      "--------------------------------------------------------\n",
      "SVC RBF Kernel training Confusion Matrix is\n",
      "[[82  0]\n",
      " [ 0 93]]\n",
      "--------------------------------------------------------\n",
      "SVC RBF Kernel testing Confusion Matrix is\n",
      "[[25  0]\n",
      " [ 0 50]]\n"
     ]
    }
   ],
   "source": [
    "y_pred_train = svcr.predict(x_train)\n",
    "y_pred_test = svcr.predict(x_test)\n",
    "\n",
    "svcr_train_acc = accuracy_score(y_train, y_pred_train)\n",
    "svcr_test_acc = accuracy_score(y_test, y_pred_test)\n",
    "\n",
    "svcr_train_f1 = f1_score(y_train, y_pred_train)\n",
    "svcr_test_f1 = f1_score(y_test, y_pred_test)\n",
    "\n",
    "svcr_train_prec = precision_score(y_train, y_pred_train)\n",
    "svcr_test_prec = precision_score(y_test, y_pred_test)\n",
    "\n",
    "svcr_train_roc = roc_auc_score(y_train, y_pred_train)\n",
    "svcr_test_roc = roc_auc_score(y_test, y_pred_test)\n",
    "\n",
    "svcr_train_cm = confusion_matrix(y_train, y_pred_train)\n",
    "svcr_test_cm = confusion_matrix(y_test, y_pred_test)\n",
    "\n",
    "print('SVC RBF Kernel training accuracy is', svcr_train_acc)\n",
    "print('SVC RBF Kernel testing accuracy is', svcr_test_acc)\n",
    "print('--------------------------------------------------------')\n",
    "print('SVC RBF Kernel training F1 Score is', svcr_train_f1)\n",
    "print('SVC RBF Kernel testing F1 Score is', svcr_test_f1)\n",
    "print('--------------------------------------------------------')\n",
    "print('SVC RBF Kernel training Precision is', svcr_train_prec)\n",
    "print('SVC RBF Kernel testing Precision is', svcr_test_prec)\n",
    "print('--------------------------------------------------------')\n",
    "print('SVC RBF Kernel training ROC-AUC Score is', svcr_train_roc)\n",
    "print('SVC RBF Kernel testing ROC-AUC Score is', svcr_test_roc)\n",
    "print('--------------------------------------------------------')\n",
    "print('SVC RBF Kernel training Confusion Matrix is')\n",
    "print(svcr_train_cm)\n",
    "print('--------------------------------------------------------')\n",
    "print('SVC RBF Kernel testing Confusion Matrix is')\n",
    "print(svcr_test_cm)"
   ]
  },
  {
   "cell_type": "markdown",
   "id": "ca5a4551",
   "metadata": {},
   "source": [
    "## Stacking\n",
    "In this technique different types of estimators or even ensembles can be used stacked upon each other to get the results.\n",
    "\n",
    "Here the logistic regressor, decision tree classifier, and the gradient boosting classifier are stacked together."
   ]
  },
  {
   "cell_type": "code",
   "execution_count": 42,
   "id": "742abaad",
   "metadata": {
    "ExecuteTime": {
     "end_time": "2023-08-06T13:23:41.281972Z",
     "start_time": "2023-08-06T13:23:40.293149Z"
    }
   },
   "outputs": [
    {
     "data": {
      "text/html": [
       "<style>#sk-container-id-13 {color: black;background-color: white;}#sk-container-id-13 pre{padding: 0;}#sk-container-id-13 div.sk-toggleable {background-color: white;}#sk-container-id-13 label.sk-toggleable__label {cursor: pointer;display: block;width: 100%;margin-bottom: 0;padding: 0.3em;box-sizing: border-box;text-align: center;}#sk-container-id-13 label.sk-toggleable__label-arrow:before {content: \"▸\";float: left;margin-right: 0.25em;color: #696969;}#sk-container-id-13 label.sk-toggleable__label-arrow:hover:before {color: black;}#sk-container-id-13 div.sk-estimator:hover label.sk-toggleable__label-arrow:before {color: black;}#sk-container-id-13 div.sk-toggleable__content {max-height: 0;max-width: 0;overflow: hidden;text-align: left;background-color: #f0f8ff;}#sk-container-id-13 div.sk-toggleable__content pre {margin: 0.2em;color: black;border-radius: 0.25em;background-color: #f0f8ff;}#sk-container-id-13 input.sk-toggleable__control:checked~div.sk-toggleable__content {max-height: 200px;max-width: 100%;overflow: auto;}#sk-container-id-13 input.sk-toggleable__control:checked~label.sk-toggleable__label-arrow:before {content: \"▾\";}#sk-container-id-13 div.sk-estimator input.sk-toggleable__control:checked~label.sk-toggleable__label {background-color: #d4ebff;}#sk-container-id-13 div.sk-label input.sk-toggleable__control:checked~label.sk-toggleable__label {background-color: #d4ebff;}#sk-container-id-13 input.sk-hidden--visually {border: 0;clip: rect(1px 1px 1px 1px);clip: rect(1px, 1px, 1px, 1px);height: 1px;margin: -1px;overflow: hidden;padding: 0;position: absolute;width: 1px;}#sk-container-id-13 div.sk-estimator {font-family: monospace;background-color: #f0f8ff;border: 1px dotted black;border-radius: 0.25em;box-sizing: border-box;margin-bottom: 0.5em;}#sk-container-id-13 div.sk-estimator:hover {background-color: #d4ebff;}#sk-container-id-13 div.sk-parallel-item::after {content: \"\";width: 100%;border-bottom: 1px solid gray;flex-grow: 1;}#sk-container-id-13 div.sk-label:hover label.sk-toggleable__label {background-color: #d4ebff;}#sk-container-id-13 div.sk-serial::before {content: \"\";position: absolute;border-left: 1px solid gray;box-sizing: border-box;top: 0;bottom: 0;left: 50%;z-index: 0;}#sk-container-id-13 div.sk-serial {display: flex;flex-direction: column;align-items: center;background-color: white;padding-right: 0.2em;padding-left: 0.2em;position: relative;}#sk-container-id-13 div.sk-item {position: relative;z-index: 1;}#sk-container-id-13 div.sk-parallel {display: flex;align-items: stretch;justify-content: center;background-color: white;position: relative;}#sk-container-id-13 div.sk-item::before, #sk-container-id-13 div.sk-parallel-item::before {content: \"\";position: absolute;border-left: 1px solid gray;box-sizing: border-box;top: 0;bottom: 0;left: 50%;z-index: -1;}#sk-container-id-13 div.sk-parallel-item {display: flex;flex-direction: column;z-index: 1;position: relative;background-color: white;}#sk-container-id-13 div.sk-parallel-item:first-child::after {align-self: flex-end;width: 50%;}#sk-container-id-13 div.sk-parallel-item:last-child::after {align-self: flex-start;width: 50%;}#sk-container-id-13 div.sk-parallel-item:only-child::after {width: 0;}#sk-container-id-13 div.sk-dashed-wrapped {border: 1px dashed gray;margin: 0 0.4em 0.5em 0.4em;box-sizing: border-box;padding-bottom: 0.4em;background-color: white;}#sk-container-id-13 div.sk-label label {font-family: monospace;font-weight: bold;display: inline-block;line-height: 1.2em;}#sk-container-id-13 div.sk-label-container {text-align: center;}#sk-container-id-13 div.sk-container {/* jupyter's `normalize.less` sets `[hidden] { display: none; }` but bootstrap.min.css set `[hidden] { display: none !important; }` so we also need the `!important` here to be able to override the default hidden behavior on the sphinx rendered scikit-learn.org. See: https://github.com/scikit-learn/scikit-learn/issues/21755 */display: inline-block !important;position: relative;}#sk-container-id-13 div.sk-text-repr-fallback {display: none;}</style><div id=\"sk-container-id-13\" class=\"sk-top-container\"><div class=\"sk-text-repr-fallback\"><pre>StackingClassifier(estimators=[(&#x27;log&#x27;, LogisticRegression(max_iter=500)),\n",
       "                               (&#x27;rnd&#x27;, RandomForestClassifier(max_depth=5)),\n",
       "                               (&#x27;svcr&#x27;, SVC(C=20, gamma=50))])</pre><b>In a Jupyter environment, please rerun this cell to show the HTML representation or trust the notebook. <br />On GitHub, the HTML representation is unable to render, please try loading this page with nbviewer.org.</b></div><div class=\"sk-container\" hidden><div class=\"sk-item sk-dashed-wrapped\"><div class=\"sk-label-container\"><div class=\"sk-label sk-toggleable\"><input class=\"sk-toggleable__control sk-hidden--visually\" id=\"sk-estimator-id-17\" type=\"checkbox\" ><label for=\"sk-estimator-id-17\" class=\"sk-toggleable__label sk-toggleable__label-arrow\">StackingClassifier</label><div class=\"sk-toggleable__content\"><pre>StackingClassifier(estimators=[(&#x27;log&#x27;, LogisticRegression(max_iter=500)),\n",
       "                               (&#x27;rnd&#x27;, RandomForestClassifier(max_depth=5)),\n",
       "                               (&#x27;svcr&#x27;, SVC(C=20, gamma=50))])</pre></div></div></div><div class=\"sk-serial\"><div class=\"sk-item\"><div class=\"sk-parallel\"><div class=\"sk-parallel-item\"><div class=\"sk-item\"><div class=\"sk-label-container\"><div class=\"sk-label sk-toggleable\"><label>log</label></div></div><div class=\"sk-serial\"><div class=\"sk-item\"><div class=\"sk-estimator sk-toggleable\"><input class=\"sk-toggleable__control sk-hidden--visually\" id=\"sk-estimator-id-18\" type=\"checkbox\" ><label for=\"sk-estimator-id-18\" class=\"sk-toggleable__label sk-toggleable__label-arrow\">LogisticRegression</label><div class=\"sk-toggleable__content\"><pre>LogisticRegression(max_iter=500)</pre></div></div></div></div></div></div><div class=\"sk-parallel-item\"><div class=\"sk-item\"><div class=\"sk-label-container\"><div class=\"sk-label sk-toggleable\"><label>rnd</label></div></div><div class=\"sk-serial\"><div class=\"sk-item\"><div class=\"sk-estimator sk-toggleable\"><input class=\"sk-toggleable__control sk-hidden--visually\" id=\"sk-estimator-id-19\" type=\"checkbox\" ><label for=\"sk-estimator-id-19\" class=\"sk-toggleable__label sk-toggleable__label-arrow\">RandomForestClassifier</label><div class=\"sk-toggleable__content\"><pre>RandomForestClassifier(max_depth=5)</pre></div></div></div></div></div></div><div class=\"sk-parallel-item\"><div class=\"sk-item\"><div class=\"sk-label-container\"><div class=\"sk-label sk-toggleable\"><label>svcr</label></div></div><div class=\"sk-serial\"><div class=\"sk-item\"><div class=\"sk-estimator sk-toggleable\"><input class=\"sk-toggleable__control sk-hidden--visually\" id=\"sk-estimator-id-20\" type=\"checkbox\" ><label for=\"sk-estimator-id-20\" class=\"sk-toggleable__label sk-toggleable__label-arrow\">SVC</label><div class=\"sk-toggleable__content\"><pre>SVC(C=20, gamma=50)</pre></div></div></div></div></div></div></div></div><div class=\"sk-item\"><div class=\"sk-parallel\"><div class=\"sk-parallel-item\"><div class=\"sk-item\"><div class=\"sk-label-container\"><div class=\"sk-label sk-toggleable\"><label>final_estimator</label></div></div><div class=\"sk-serial\"><div class=\"sk-item\"><div class=\"sk-estimator sk-toggleable\"><input class=\"sk-toggleable__control sk-hidden--visually\" id=\"sk-estimator-id-21\" type=\"checkbox\" ><label for=\"sk-estimator-id-21\" class=\"sk-toggleable__label sk-toggleable__label-arrow\">LogisticRegression</label><div class=\"sk-toggleable__content\"><pre>LogisticRegression()</pre></div></div></div></div></div></div></div></div></div></div></div></div>"
      ],
      "text/plain": [
       "StackingClassifier(estimators=[('log', LogisticRegression(max_iter=500)),\n",
       "                               ('rnd', RandomForestClassifier(max_depth=5)),\n",
       "                               ('svcr', SVC(C=20, gamma=50))])"
      ]
     },
     "execution_count": 42,
     "metadata": {},
     "output_type": "execute_result"
    }
   ],
   "source": [
    "from sklearn.ensemble import StackingClassifier\n",
    "\n",
    "estimators = [('log', LogisticRegression(max_iter=500)), ('rnd', RandomForestClassifier(max_depth=5)), ('svcr', SVC(C= 20, gamma = 50))]\n",
    "stack = StackingClassifier(estimators=estimators)\n",
    "stack.fit(x_train, y_train)"
   ]
  },
  {
   "cell_type": "code",
   "execution_count": 43,
   "id": "36246a99",
   "metadata": {
    "ExecuteTime": {
     "end_time": "2023-08-06T13:23:41.359808Z",
     "start_time": "2023-08-06T13:23:41.284931Z"
    }
   },
   "outputs": [
    {
     "name": "stdout",
     "output_type": "stream",
     "text": [
      "Stacking training accuracy is 1.0\n",
      "Stacking testing accuracy is 1.0\n",
      "--------------------------------------------------------\n",
      "Stacking training F1 Score is 1.0\n",
      "Stacking testing F1 Score is 1.0\n",
      "--------------------------------------------------------\n",
      "Stacking training Precision is 1.0\n",
      "Stacking testing Precision is 1.0\n",
      "--------------------------------------------------------\n",
      "Stacking training ROC-AUC Score is 1.0\n",
      "Stacking testing ROC-AUC Score is 1.0\n",
      "--------------------------------------------------------\n",
      "Stacking training Confusion Matrix is\n",
      "[[82  0]\n",
      " [ 0 93]]\n",
      "--------------------------------------------------------\n",
      "Stacking testing Confusion Matrix is\n",
      "[[25  0]\n",
      " [ 0 50]]\n"
     ]
    }
   ],
   "source": [
    "y_pred_train = stack.predict(x_train)\n",
    "y_pred_test = stack.predict(x_test)\n",
    "\n",
    "stack_train_acc = accuracy_score(y_train, y_pred_train)\n",
    "stack_test_acc = accuracy_score(y_test, y_pred_test)\n",
    "\n",
    "stack_train_f1 = f1_score(y_train, y_pred_train)\n",
    "stack_test_f1 = f1_score(y_test, y_pred_test)\n",
    "\n",
    "stack_train_prec = precision_score(y_train, y_pred_train)\n",
    "stack_test_prec = precision_score(y_test, y_pred_test)\n",
    "\n",
    "stack_train_roc = roc_auc_score(y_train, y_pred_train)\n",
    "stack_test_roc = roc_auc_score(y_test, y_pred_test)\n",
    "\n",
    "stack_train_cm = confusion_matrix(y_train, y_pred_train)\n",
    "stack_test_cm = confusion_matrix(y_test, y_pred_test)\n",
    "\n",
    "print('Stacking training accuracy is', stack_train_acc)\n",
    "print('Stacking testing accuracy is', stack_test_acc)\n",
    "print('--------------------------------------------------------')\n",
    "print('Stacking training F1 Score is', stack_train_f1)\n",
    "print('Stacking testing F1 Score is', stack_test_f1)\n",
    "print('--------------------------------------------------------')\n",
    "print('Stacking training Precision is', stack_train_prec)\n",
    "print('Stacking testing Precision is', stack_test_prec)\n",
    "print('--------------------------------------------------------')\n",
    "print('Stacking training ROC-AUC Score is', stack_train_roc)\n",
    "print('Stacking testing ROC-AUC Score is', stack_test_roc)\n",
    "print('--------------------------------------------------------')\n",
    "print('Stacking training Confusion Matrix is')\n",
    "print(stack_train_cm)\n",
    "print('--------------------------------------------------------')\n",
    "print('Stacking testing Confusion Matrix is')\n",
    "print(stack_test_cm)"
   ]
  },
  {
   "cell_type": "markdown",
   "id": "bbe56d20",
   "metadata": {},
   "source": [
    "## Artificial Neural Networks"
   ]
  },
  {
   "cell_type": "code",
   "execution_count": 44,
   "id": "52fe8eb2",
   "metadata": {
    "ExecuteTime": {
     "end_time": "2023-08-06T13:24:22.619826Z",
     "start_time": "2023-08-06T13:24:20.604411Z"
    }
   },
   "outputs": [
    {
     "name": "stdout",
     "output_type": "stream",
     "text": [
      "6/6 [==============================] - 0s 3ms/step\n",
      "3/3 [==============================] - 0s 3ms/step\n",
      "Artificial Neural Network training accuracy is 1.0\n",
      "Artificial Neural Network testing accuracy is 0.9866666666666667\n",
      "--------------------------------------------------------\n",
      "Artificial Neural Network training F1 Score is 1.0\n",
      "Artificial Neural Network testing F1 Score is 0.98989898989899\n",
      "--------------------------------------------------------\n",
      "Artificial Neural Network training Precision is 1.0\n",
      "Artificial Neural Network testing Precision is 1.0\n",
      "--------------------------------------------------------\n",
      "Artificial Neural Network training ROC-AUC Score is 1.0\n",
      "Artificial Neural Network testing ROC-AUC Score is 0.99\n",
      "--------------------------------------------------------\n",
      "Artificial Neural Network training Confusion Matrix is\n",
      "[[82  0]\n",
      " [ 0 93]]\n",
      "--------------------------------------------------------\n",
      "Artificial Neural Network testing Confusion Matrix is\n",
      "[[25  0]\n",
      " [ 1 49]]\n"
     ]
    }
   ],
   "source": [
    "from sklearn.model_selection import GridSearchCV, KFold\n",
    "from keras.models import Sequential\n",
    "from keras.layers import Dense\n",
    "from keras.wrappers.scikit_learn import KerasClassifier\n",
    "from tensorflow.keras.optimizers import Adam\n",
    "from keras.layers import Dropout\n",
    "\n",
    "# Defining the model\n",
    "\n",
    "def create_model():\n",
    "    model = Sequential()\n",
    "    model.add(Dense(16,input_dim = 6,kernel_initializer = 'uniform',activation = 'tanh'))\n",
    "    model.add(Dropout(0.1))\n",
    "    model.add(Dense(8,kernel_initializer = 'uniform',activation = 'tanh'))\n",
    "    model.add(Dropout(0.1))\n",
    "    model.add(Dense(1,activation = 'sigmoid'))\n",
    "    \n",
    "    adam = Adam(lr = 0.1) #sgd = SGD(lr=learning_rate, momentum=momentum, decay=decay_rate, nesterov=False)\n",
    "    model.compile(loss = 'binary_crossentropy',optimizer = adam,metrics = ['accuracy'])\n",
    "    return model\n",
    "\n",
    "# Create the model\n",
    "\n",
    "ann = KerasClassifier(build_fn = create_model,verbose = 0,batch_size = 20,epochs = 50)\n",
    "\n",
    "ann.fit(x_train, y_train)\n",
    "\n",
    "y_pred_train = ann.predict(x_train)\n",
    "y_pred_test = ann.predict(x_test)\n",
    "\n",
    "ann_train_acc = accuracy_score(y_train, y_pred_train)\n",
    "ann_test_acc = accuracy_score(y_test, y_pred_test)\n",
    "\n",
    "ann_train_f1 = f1_score(y_train, y_pred_train)\n",
    "ann_test_f1 = f1_score(y_test, y_pred_test)\n",
    "\n",
    "ann_train_prec = precision_score(y_train, y_pred_train)\n",
    "ann_test_prec = precision_score(y_test, y_pred_test)\n",
    "\n",
    "ann_train_roc = roc_auc_score(y_train, y_pred_train)\n",
    "ann_test_roc = roc_auc_score(y_test, y_pred_test)\n",
    "\n",
    "ann_train_cm = confusion_matrix(y_train, y_pred_train)\n",
    "ann_test_cm = confusion_matrix(y_test, y_pred_test)\n",
    "\n",
    "print('Artificial Neural Network training accuracy is', ann_train_acc)\n",
    "print('Artificial Neural Network testing accuracy is', ann_test_acc)\n",
    "print('--------------------------------------------------------')\n",
    "print('Artificial Neural Network training F1 Score is', ann_train_f1)\n",
    "print('Artificial Neural Network testing F1 Score is', ann_test_f1)\n",
    "print('--------------------------------------------------------')\n",
    "print('Artificial Neural Network training Precision is', ann_train_prec)\n",
    "print('Artificial Neural Network testing Precision is', ann_test_prec)\n",
    "print('--------------------------------------------------------')\n",
    "print('Artificial Neural Network training ROC-AUC Score is', ann_train_roc)\n",
    "print('Artificial Neural Network testing ROC-AUC Score is', ann_test_roc)\n",
    "print('--------------------------------------------------------')\n",
    "print('Artificial Neural Network training Confusion Matrix is')\n",
    "print(ann_train_cm)\n",
    "print('--------------------------------------------------------')\n",
    "print('Artificial Neural Network testing Confusion Matrix is')\n",
    "print(ann_test_cm)"
   ]
  },
  {
   "cell_type": "code",
   "execution_count": 45,
   "id": "06b72ccd",
   "metadata": {
    "ExecuteTime": {
     "end_time": "2023-08-06T13:25:18.173077Z",
     "start_time": "2023-08-06T13:25:18.137173Z"
    }
   },
   "outputs": [
    {
     "data": {
      "text/html": [
       "<div>\n",
       "<style scoped>\n",
       "    .dataframe tbody tr th:only-of-type {\n",
       "        vertical-align: middle;\n",
       "    }\n",
       "\n",
       "    .dataframe tbody tr th {\n",
       "        vertical-align: top;\n",
       "    }\n",
       "\n",
       "    .dataframe thead th {\n",
       "        text-align: right;\n",
       "    }\n",
       "</style>\n",
       "<table border=\"1\" class=\"dataframe\">\n",
       "  <thead>\n",
       "    <tr style=\"text-align: right;\">\n",
       "      <th></th>\n",
       "      <th>Model Name</th>\n",
       "      <th>Training Accuracy</th>\n",
       "      <th>Testing Accuracy</th>\n",
       "      <th>Training F1 Score</th>\n",
       "      <th>Testing F1 Score</th>\n",
       "      <th>Training Precision</th>\n",
       "      <th>Testing Precision</th>\n",
       "      <th>Training ROC-AUC Score</th>\n",
       "      <th>Testing ROC-AUC Score</th>\n",
       "    </tr>\n",
       "  </thead>\n",
       "  <tbody>\n",
       "    <tr>\n",
       "      <th>0</th>\n",
       "      <td>Logistic Regression</td>\n",
       "      <td>0.994286</td>\n",
       "      <td>1.000000</td>\n",
       "      <td>0.994652</td>\n",
       "      <td>1.000000</td>\n",
       "      <td>0.989362</td>\n",
       "      <td>1.0</td>\n",
       "      <td>0.993902</td>\n",
       "      <td>1.00</td>\n",
       "    </tr>\n",
       "    <tr>\n",
       "      <th>1</th>\n",
       "      <td>Decision Tree</td>\n",
       "      <td>1.000000</td>\n",
       "      <td>0.986667</td>\n",
       "      <td>1.000000</td>\n",
       "      <td>0.989899</td>\n",
       "      <td>1.000000</td>\n",
       "      <td>1.0</td>\n",
       "      <td>1.000000</td>\n",
       "      <td>0.99</td>\n",
       "    </tr>\n",
       "    <tr>\n",
       "      <th>2</th>\n",
       "      <td>KNN</td>\n",
       "      <td>1.000000</td>\n",
       "      <td>1.000000</td>\n",
       "      <td>1.000000</td>\n",
       "      <td>1.000000</td>\n",
       "      <td>1.000000</td>\n",
       "      <td>1.0</td>\n",
       "      <td>1.000000</td>\n",
       "      <td>1.00</td>\n",
       "    </tr>\n",
       "    <tr>\n",
       "      <th>3</th>\n",
       "      <td>Random Forest</td>\n",
       "      <td>1.000000</td>\n",
       "      <td>1.000000</td>\n",
       "      <td>1.000000</td>\n",
       "      <td>1.000000</td>\n",
       "      <td>1.000000</td>\n",
       "      <td>1.0</td>\n",
       "      <td>1.000000</td>\n",
       "      <td>1.00</td>\n",
       "    </tr>\n",
       "    <tr>\n",
       "      <th>4</th>\n",
       "      <td>Bagging</td>\n",
       "      <td>1.000000</td>\n",
       "      <td>1.000000</td>\n",
       "      <td>1.000000</td>\n",
       "      <td>1.000000</td>\n",
       "      <td>1.000000</td>\n",
       "      <td>1.0</td>\n",
       "      <td>1.000000</td>\n",
       "      <td>1.00</td>\n",
       "    </tr>\n",
       "    <tr>\n",
       "      <th>5</th>\n",
       "      <td>AdaBoost</td>\n",
       "      <td>1.000000</td>\n",
       "      <td>1.000000</td>\n",
       "      <td>1.000000</td>\n",
       "      <td>1.000000</td>\n",
       "      <td>1.000000</td>\n",
       "      <td>1.0</td>\n",
       "      <td>1.000000</td>\n",
       "      <td>1.00</td>\n",
       "    </tr>\n",
       "    <tr>\n",
       "      <th>6</th>\n",
       "      <td>Gradient Boost</td>\n",
       "      <td>1.000000</td>\n",
       "      <td>0.986667</td>\n",
       "      <td>1.000000</td>\n",
       "      <td>0.989899</td>\n",
       "      <td>1.000000</td>\n",
       "      <td>1.0</td>\n",
       "      <td>1.000000</td>\n",
       "      <td>0.99</td>\n",
       "    </tr>\n",
       "    <tr>\n",
       "      <th>7</th>\n",
       "      <td>SVC Linear Kernel</td>\n",
       "      <td>0.994286</td>\n",
       "      <td>0.986667</td>\n",
       "      <td>0.994652</td>\n",
       "      <td>0.989899</td>\n",
       "      <td>0.989362</td>\n",
       "      <td>1.0</td>\n",
       "      <td>0.993902</td>\n",
       "      <td>0.99</td>\n",
       "    </tr>\n",
       "    <tr>\n",
       "      <th>8</th>\n",
       "      <td>SVC Polynomial Kernel</td>\n",
       "      <td>1.000000</td>\n",
       "      <td>0.986667</td>\n",
       "      <td>1.000000</td>\n",
       "      <td>0.989899</td>\n",
       "      <td>1.000000</td>\n",
       "      <td>1.0</td>\n",
       "      <td>1.000000</td>\n",
       "      <td>0.99</td>\n",
       "    </tr>\n",
       "    <tr>\n",
       "      <th>9</th>\n",
       "      <td>SVC RBF Kernel</td>\n",
       "      <td>1.000000</td>\n",
       "      <td>1.000000</td>\n",
       "      <td>1.000000</td>\n",
       "      <td>1.000000</td>\n",
       "      <td>1.000000</td>\n",
       "      <td>1.0</td>\n",
       "      <td>1.000000</td>\n",
       "      <td>1.00</td>\n",
       "    </tr>\n",
       "    <tr>\n",
       "      <th>10</th>\n",
       "      <td>Stacking</td>\n",
       "      <td>1.000000</td>\n",
       "      <td>1.000000</td>\n",
       "      <td>1.000000</td>\n",
       "      <td>1.000000</td>\n",
       "      <td>1.000000</td>\n",
       "      <td>1.0</td>\n",
       "      <td>1.000000</td>\n",
       "      <td>1.00</td>\n",
       "    </tr>\n",
       "    <tr>\n",
       "      <th>11</th>\n",
       "      <td>Neural Networks</td>\n",
       "      <td>1.000000</td>\n",
       "      <td>0.986667</td>\n",
       "      <td>1.000000</td>\n",
       "      <td>0.989899</td>\n",
       "      <td>1.000000</td>\n",
       "      <td>1.0</td>\n",
       "      <td>1.000000</td>\n",
       "      <td>0.99</td>\n",
       "    </tr>\n",
       "  </tbody>\n",
       "</table>\n",
       "</div>"
      ],
      "text/plain": [
       "               Model Name  Training Accuracy  Testing Accuracy  \\\n",
       "0     Logistic Regression           0.994286          1.000000   \n",
       "1           Decision Tree           1.000000          0.986667   \n",
       "2                     KNN           1.000000          1.000000   \n",
       "3           Random Forest           1.000000          1.000000   \n",
       "4                 Bagging           1.000000          1.000000   \n",
       "5                AdaBoost           1.000000          1.000000   \n",
       "6          Gradient Boost           1.000000          0.986667   \n",
       "7       SVC Linear Kernel           0.994286          0.986667   \n",
       "8   SVC Polynomial Kernel           1.000000          0.986667   \n",
       "9          SVC RBF Kernel           1.000000          1.000000   \n",
       "10               Stacking           1.000000          1.000000   \n",
       "11        Neural Networks           1.000000          0.986667   \n",
       "\n",
       "    Training F1 Score  Testing F1 Score  Training Precision  \\\n",
       "0            0.994652          1.000000            0.989362   \n",
       "1            1.000000          0.989899            1.000000   \n",
       "2            1.000000          1.000000            1.000000   \n",
       "3            1.000000          1.000000            1.000000   \n",
       "4            1.000000          1.000000            1.000000   \n",
       "5            1.000000          1.000000            1.000000   \n",
       "6            1.000000          0.989899            1.000000   \n",
       "7            0.994652          0.989899            0.989362   \n",
       "8            1.000000          0.989899            1.000000   \n",
       "9            1.000000          1.000000            1.000000   \n",
       "10           1.000000          1.000000            1.000000   \n",
       "11           1.000000          0.989899            1.000000   \n",
       "\n",
       "    Testing Precision  Training ROC-AUC Score  Testing ROC-AUC Score  \n",
       "0                 1.0                0.993902                   1.00  \n",
       "1                 1.0                1.000000                   0.99  \n",
       "2                 1.0                1.000000                   1.00  \n",
       "3                 1.0                1.000000                   1.00  \n",
       "4                 1.0                1.000000                   1.00  \n",
       "5                 1.0                1.000000                   1.00  \n",
       "6                 1.0                1.000000                   0.99  \n",
       "7                 1.0                0.993902                   0.99  \n",
       "8                 1.0                1.000000                   0.99  \n",
       "9                 1.0                1.000000                   1.00  \n",
       "10                1.0                1.000000                   1.00  \n",
       "11                1.0                1.000000                   0.99  "
      ]
     },
     "execution_count": 45,
     "metadata": {},
     "output_type": "execute_result"
    }
   ],
   "source": [
    "results = {\n",
    "    'Model Name': ['Logistic Regression','Decision Tree', 'KNN', 'Random Forest', 'Bagging', 'AdaBoost', 'Gradient Boost', 'SVC Linear Kernel', 'SVC Polynomial Kernel', 'SVC RBF Kernel', 'Stacking', 'Neural Networks'],\n",
    "    'Training Accuracy': [log_train_acc, dec_train_acc, knn_train_acc, rnd_train_acc, bag_train_acc, ada_train_acc, grad_train_acc, svcl_train_acc, svcp_train_acc, svcr_train_acc, stack_train_acc, ann_train_acc],\n",
    "    'Testing Accuracy': [log_test_acc, dec_test_acc, knn_test_acc, rnd_test_acc, bag_test_acc, ada_test_acc, grad_test_acc, svcl_test_acc, svcp_test_acc, svcr_test_acc, stack_test_acc, ann_test_acc],\n",
    "    'Training F1 Score': [log_train_f1, dec_train_f1, knn_train_f1, rnd_train_f1, bag_train_f1, ada_train_f1, grad_train_f1, svcl_train_f1, svcp_train_f1, svcr_train_f1, stack_train_f1, ann_train_f1],\n",
    "    'Testing F1 Score': [log_test_f1, dec_test_f1, knn_test_f1, rnd_test_f1, bag_test_f1, ada_test_f1, grad_test_f1, svcl_test_f1, svcp_test_f1, svcr_test_f1, stack_test_f1, ann_test_f1],\n",
    "    'Training Precision': [log_train_prec, dec_train_prec, knn_train_prec, rnd_train_prec, bag_train_prec, ada_train_prec, grad_train_prec, svcl_train_prec, svcp_train_prec, svcr_train_prec, stack_train_prec, ann_train_prec],\n",
    "    'Testing Precision': [log_test_prec, dec_test_prec, knn_test_prec, rnd_test_prec, bag_test_prec, ada_test_prec, grad_test_prec, svcl_test_prec, svcp_test_prec, svcr_test_prec, stack_test_prec, ann_test_prec],\n",
    "    'Training ROC-AUC Score': [log_train_roc, dec_train_roc, knn_train_roc, rnd_train_roc, bag_train_roc, ada_train_roc, grad_train_roc, svcl_train_roc, svcp_train_roc, svcr_train_roc, stack_train_roc, ann_train_roc],\n",
    "    'Testing ROC-AUC Score': [log_test_roc, dec_test_roc, knn_test_roc, rnd_test_roc, bag_test_roc, ada_test_roc, grad_test_roc, svcl_test_roc, svcp_test_roc, svcr_test_roc, stack_test_roc, ann_test_roc]\n",
    "}\n",
    "\n",
    "results_df = pd.DataFrame(results)\n",
    "results_df"
   ]
  },
  {
   "cell_type": "code",
   "execution_count": 46,
   "id": "72a81268",
   "metadata": {
    "ExecuteTime": {
     "end_time": "2023-08-06T13:25:18.809737Z",
     "start_time": "2023-08-06T13:25:18.787783Z"
    }
   },
   "outputs": [
    {
     "data": {
      "text/html": [
       "<div>\n",
       "<style scoped>\n",
       "    .dataframe tbody tr th:only-of-type {\n",
       "        vertical-align: middle;\n",
       "    }\n",
       "\n",
       "    .dataframe tbody tr th {\n",
       "        vertical-align: top;\n",
       "    }\n",
       "\n",
       "    .dataframe thead th {\n",
       "        text-align: right;\n",
       "    }\n",
       "</style>\n",
       "<table border=\"1\" class=\"dataframe\">\n",
       "  <thead>\n",
       "    <tr style=\"text-align: right;\">\n",
       "      <th></th>\n",
       "      <th>Model Name</th>\n",
       "      <th>Training Accuracy</th>\n",
       "      <th>Testing Accuracy</th>\n",
       "      <th>Training F1 Score</th>\n",
       "      <th>Testing F1 Score</th>\n",
       "      <th>Training Precision</th>\n",
       "      <th>Testing Precision</th>\n",
       "      <th>Training ROC-AUC Score</th>\n",
       "      <th>Testing ROC-AUC Score</th>\n",
       "    </tr>\n",
       "  </thead>\n",
       "  <tbody>\n",
       "    <tr>\n",
       "      <th>2</th>\n",
       "      <td>KNN</td>\n",
       "      <td>1.000000</td>\n",
       "      <td>1.000000</td>\n",
       "      <td>1.000000</td>\n",
       "      <td>1.000000</td>\n",
       "      <td>1.000000</td>\n",
       "      <td>1.0</td>\n",
       "      <td>1.000000</td>\n",
       "      <td>1.00</td>\n",
       "    </tr>\n",
       "    <tr>\n",
       "      <th>3</th>\n",
       "      <td>Random Forest</td>\n",
       "      <td>1.000000</td>\n",
       "      <td>1.000000</td>\n",
       "      <td>1.000000</td>\n",
       "      <td>1.000000</td>\n",
       "      <td>1.000000</td>\n",
       "      <td>1.0</td>\n",
       "      <td>1.000000</td>\n",
       "      <td>1.00</td>\n",
       "    </tr>\n",
       "    <tr>\n",
       "      <th>4</th>\n",
       "      <td>Bagging</td>\n",
       "      <td>1.000000</td>\n",
       "      <td>1.000000</td>\n",
       "      <td>1.000000</td>\n",
       "      <td>1.000000</td>\n",
       "      <td>1.000000</td>\n",
       "      <td>1.0</td>\n",
       "      <td>1.000000</td>\n",
       "      <td>1.00</td>\n",
       "    </tr>\n",
       "    <tr>\n",
       "      <th>5</th>\n",
       "      <td>AdaBoost</td>\n",
       "      <td>1.000000</td>\n",
       "      <td>1.000000</td>\n",
       "      <td>1.000000</td>\n",
       "      <td>1.000000</td>\n",
       "      <td>1.000000</td>\n",
       "      <td>1.0</td>\n",
       "      <td>1.000000</td>\n",
       "      <td>1.00</td>\n",
       "    </tr>\n",
       "    <tr>\n",
       "      <th>9</th>\n",
       "      <td>SVC RBF Kernel</td>\n",
       "      <td>1.000000</td>\n",
       "      <td>1.000000</td>\n",
       "      <td>1.000000</td>\n",
       "      <td>1.000000</td>\n",
       "      <td>1.000000</td>\n",
       "      <td>1.0</td>\n",
       "      <td>1.000000</td>\n",
       "      <td>1.00</td>\n",
       "    </tr>\n",
       "    <tr>\n",
       "      <th>10</th>\n",
       "      <td>Stacking</td>\n",
       "      <td>1.000000</td>\n",
       "      <td>1.000000</td>\n",
       "      <td>1.000000</td>\n",
       "      <td>1.000000</td>\n",
       "      <td>1.000000</td>\n",
       "      <td>1.0</td>\n",
       "      <td>1.000000</td>\n",
       "      <td>1.00</td>\n",
       "    </tr>\n",
       "    <tr>\n",
       "      <th>1</th>\n",
       "      <td>Decision Tree</td>\n",
       "      <td>1.000000</td>\n",
       "      <td>0.986667</td>\n",
       "      <td>1.000000</td>\n",
       "      <td>0.989899</td>\n",
       "      <td>1.000000</td>\n",
       "      <td>1.0</td>\n",
       "      <td>1.000000</td>\n",
       "      <td>0.99</td>\n",
       "    </tr>\n",
       "    <tr>\n",
       "      <th>6</th>\n",
       "      <td>Gradient Boost</td>\n",
       "      <td>1.000000</td>\n",
       "      <td>0.986667</td>\n",
       "      <td>1.000000</td>\n",
       "      <td>0.989899</td>\n",
       "      <td>1.000000</td>\n",
       "      <td>1.0</td>\n",
       "      <td>1.000000</td>\n",
       "      <td>0.99</td>\n",
       "    </tr>\n",
       "    <tr>\n",
       "      <th>8</th>\n",
       "      <td>SVC Polynomial Kernel</td>\n",
       "      <td>1.000000</td>\n",
       "      <td>0.986667</td>\n",
       "      <td>1.000000</td>\n",
       "      <td>0.989899</td>\n",
       "      <td>1.000000</td>\n",
       "      <td>1.0</td>\n",
       "      <td>1.000000</td>\n",
       "      <td>0.99</td>\n",
       "    </tr>\n",
       "    <tr>\n",
       "      <th>11</th>\n",
       "      <td>Neural Networks</td>\n",
       "      <td>1.000000</td>\n",
       "      <td>0.986667</td>\n",
       "      <td>1.000000</td>\n",
       "      <td>0.989899</td>\n",
       "      <td>1.000000</td>\n",
       "      <td>1.0</td>\n",
       "      <td>1.000000</td>\n",
       "      <td>0.99</td>\n",
       "    </tr>\n",
       "    <tr>\n",
       "      <th>0</th>\n",
       "      <td>Logistic Regression</td>\n",
       "      <td>0.994286</td>\n",
       "      <td>1.000000</td>\n",
       "      <td>0.994652</td>\n",
       "      <td>1.000000</td>\n",
       "      <td>0.989362</td>\n",
       "      <td>1.0</td>\n",
       "      <td>0.993902</td>\n",
       "      <td>1.00</td>\n",
       "    </tr>\n",
       "    <tr>\n",
       "      <th>7</th>\n",
       "      <td>SVC Linear Kernel</td>\n",
       "      <td>0.994286</td>\n",
       "      <td>0.986667</td>\n",
       "      <td>0.994652</td>\n",
       "      <td>0.989899</td>\n",
       "      <td>0.989362</td>\n",
       "      <td>1.0</td>\n",
       "      <td>0.993902</td>\n",
       "      <td>0.99</td>\n",
       "    </tr>\n",
       "  </tbody>\n",
       "</table>\n",
       "</div>"
      ],
      "text/plain": [
       "               Model Name  Training Accuracy  Testing Accuracy  \\\n",
       "2                     KNN           1.000000          1.000000   \n",
       "3           Random Forest           1.000000          1.000000   \n",
       "4                 Bagging           1.000000          1.000000   \n",
       "5                AdaBoost           1.000000          1.000000   \n",
       "9          SVC RBF Kernel           1.000000          1.000000   \n",
       "10               Stacking           1.000000          1.000000   \n",
       "1           Decision Tree           1.000000          0.986667   \n",
       "6          Gradient Boost           1.000000          0.986667   \n",
       "8   SVC Polynomial Kernel           1.000000          0.986667   \n",
       "11        Neural Networks           1.000000          0.986667   \n",
       "0     Logistic Regression           0.994286          1.000000   \n",
       "7       SVC Linear Kernel           0.994286          0.986667   \n",
       "\n",
       "    Training F1 Score  Testing F1 Score  Training Precision  \\\n",
       "2            1.000000          1.000000            1.000000   \n",
       "3            1.000000          1.000000            1.000000   \n",
       "4            1.000000          1.000000            1.000000   \n",
       "5            1.000000          1.000000            1.000000   \n",
       "9            1.000000          1.000000            1.000000   \n",
       "10           1.000000          1.000000            1.000000   \n",
       "1            1.000000          0.989899            1.000000   \n",
       "6            1.000000          0.989899            1.000000   \n",
       "8            1.000000          0.989899            1.000000   \n",
       "11           1.000000          0.989899            1.000000   \n",
       "0            0.994652          1.000000            0.989362   \n",
       "7            0.994652          0.989899            0.989362   \n",
       "\n",
       "    Testing Precision  Training ROC-AUC Score  Testing ROC-AUC Score  \n",
       "2                 1.0                1.000000                   1.00  \n",
       "3                 1.0                1.000000                   1.00  \n",
       "4                 1.0                1.000000                   1.00  \n",
       "5                 1.0                1.000000                   1.00  \n",
       "9                 1.0                1.000000                   1.00  \n",
       "10                1.0                1.000000                   1.00  \n",
       "1                 1.0                1.000000                   0.99  \n",
       "6                 1.0                1.000000                   0.99  \n",
       "8                 1.0                1.000000                   0.99  \n",
       "11                1.0                1.000000                   0.99  \n",
       "0                 1.0                0.993902                   1.00  \n",
       "7                 1.0                0.993902                   0.99  "
      ]
     },
     "execution_count": 46,
     "metadata": {},
     "output_type": "execute_result"
    }
   ],
   "source": [
    "results_df.sort_values(by=['Training F1 Score', 'Testing F1 Score'], ascending=False)"
   ]
  },
  {
   "cell_type": "markdown",
   "id": "c8d575c3",
   "metadata": {},
   "source": [
    "--------------------------\n",
    "\n",
    "From the results table it is clear that the **KNN, Random Forest, Bagging, AdaBoost, SVC RBF Kernel, Stacking and the Neural Network classifiers** has the highest F1 Score of 100%."
   ]
  },
  {
   "cell_type": "code",
   "execution_count": null,
   "id": "967fc60e",
   "metadata": {},
   "outputs": [],
   "source": []
  }
 ],
 "metadata": {
  "kernelspec": {
   "display_name": "Python 3 (ipykernel)",
   "language": "python",
   "name": "python3"
  },
  "language_info": {
   "codemirror_mode": {
    "name": "ipython",
    "version": 3
   },
   "file_extension": ".py",
   "mimetype": "text/x-python",
   "name": "python",
   "nbconvert_exporter": "python",
   "pygments_lexer": "ipython3",
   "version": "3.9.13"
  },
  "varInspector": {
   "cols": {
    "lenName": 16,
    "lenType": 16,
    "lenVar": 40
   },
   "kernels_config": {
    "python": {
     "delete_cmd_postfix": "",
     "delete_cmd_prefix": "del ",
     "library": "var_list.py",
     "varRefreshCmd": "print(var_dic_list())"
    },
    "r": {
     "delete_cmd_postfix": ") ",
     "delete_cmd_prefix": "rm(",
     "library": "var_list.r",
     "varRefreshCmd": "cat(var_dic_list()) "
    }
   },
   "types_to_exclude": [
    "module",
    "function",
    "builtin_function_or_method",
    "instance",
    "_Feature"
   ],
   "window_display": false
  }
 },
 "nbformat": 4,
 "nbformat_minor": 5
}
