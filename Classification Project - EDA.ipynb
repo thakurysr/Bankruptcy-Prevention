{
 "cells": [
  {
   "cell_type": "markdown",
   "id": "ca9ccf49",
   "metadata": {},
   "source": [
    "# Classification Project - EDA"
   ]
  },
  {
   "cell_type": "markdown",
   "id": "fad0bbe0",
   "metadata": {},
   "source": [
    "# Introduction\n",
    "This is a classification project in which the predictions will be about knowing to which class a certain observation belongs to. There can be two classes or more than two classes. The current case involves only two classes which makes this a binary classification.\n",
    "\n",
    "As for any machine learning project, the first step will be the Exploratory Data Analysis or EDA. In EDA the data will be analyzed in detail. Here we will check for missing or null values, any errors in the entries or their data types, data distributions in all the columns, presence of any outliers, and check for correlations.\n",
    "\n",
    "If any of the above are found to be out of the normal, they will be dealt with here before proceeding to model building.\n",
    "\n",
    "## About the problem\n",
    "Here there are certain variables pertaining to 250 companies with each row or observation belonging to each company. These variables will tell us whether the company will go bankrupt or not. These variables are:\n",
    "1. Industrial Risk\n",
    "2. Management Risk\n",
    "3. Financial Flexibility\n",
    "4. Credibility\n",
    "5. Competitiveness\n",
    "6. Operating Risk\n",
    "\n",
    "These variables has values ranging between 0 to 1 with 0 being low, 0.5 being medium, and 1 being high based on the columns purpose. The combination of these variables will tell us whether that company will go bankrupt or not. And these results are stored in the Class column.\n",
    "\n",
    "The goal here is to build some classification models that will be trained on this data and will make predictions on new data."
   ]
  },
  {
   "cell_type": "markdown",
   "id": "47ab8c4d",
   "metadata": {},
   "source": [
    "## Importing the libraries\n",
    "\n",
    "For EDA, the important libraries are pandas for reading the file and for some dataframe operations, matplotlib and seaborn for making graphical analysis on the data."
   ]
  },
  {
   "cell_type": "code",
   "execution_count": 1,
   "id": "25bbb740",
   "metadata": {
    "ExecuteTime": {
     "end_time": "2023-08-07T07:14:26.052242Z",
     "start_time": "2023-08-07T07:14:24.155763Z"
    }
   },
   "outputs": [],
   "source": [
    "import pandas as pd\n",
    "import matplotlib.pyplot as plt\n",
    "import seaborn as sns\n",
    "import warnings\n",
    "warnings.filterwarnings(\"ignore\")"
   ]
  },
  {
   "cell_type": "code",
   "execution_count": 2,
   "id": "5765f005",
   "metadata": {
    "ExecuteTime": {
     "end_time": "2023-08-07T07:14:26.099102Z",
     "start_time": "2023-08-07T07:14:26.056184Z"
    },
    "scrolled": true
   },
   "outputs": [
    {
     "data": {
      "text/html": [
       "<div>\n",
       "<style scoped>\n",
       "    .dataframe tbody tr th:only-of-type {\n",
       "        vertical-align: middle;\n",
       "    }\n",
       "\n",
       "    .dataframe tbody tr th {\n",
       "        vertical-align: top;\n",
       "    }\n",
       "\n",
       "    .dataframe thead th {\n",
       "        text-align: right;\n",
       "    }\n",
       "</style>\n",
       "<table border=\"1\" class=\"dataframe\">\n",
       "  <thead>\n",
       "    <tr style=\"text-align: right;\">\n",
       "      <th></th>\n",
       "      <th>industrial_risk</th>\n",
       "      <th>management_risk</th>\n",
       "      <th>financial_flexibility</th>\n",
       "      <th>credibility</th>\n",
       "      <th>competitiveness</th>\n",
       "      <th>operating_risk</th>\n",
       "      <th>class</th>\n",
       "    </tr>\n",
       "  </thead>\n",
       "  <tbody>\n",
       "    <tr>\n",
       "      <th>0</th>\n",
       "      <td>0.5</td>\n",
       "      <td>1.0</td>\n",
       "      <td>0.0</td>\n",
       "      <td>0.0</td>\n",
       "      <td>0.0</td>\n",
       "      <td>0.5</td>\n",
       "      <td>bankruptcy</td>\n",
       "    </tr>\n",
       "    <tr>\n",
       "      <th>1</th>\n",
       "      <td>0.0</td>\n",
       "      <td>1.0</td>\n",
       "      <td>0.0</td>\n",
       "      <td>0.0</td>\n",
       "      <td>0.0</td>\n",
       "      <td>1.0</td>\n",
       "      <td>bankruptcy</td>\n",
       "    </tr>\n",
       "    <tr>\n",
       "      <th>2</th>\n",
       "      <td>1.0</td>\n",
       "      <td>0.0</td>\n",
       "      <td>0.0</td>\n",
       "      <td>0.0</td>\n",
       "      <td>0.0</td>\n",
       "      <td>1.0</td>\n",
       "      <td>bankruptcy</td>\n",
       "    </tr>\n",
       "    <tr>\n",
       "      <th>3</th>\n",
       "      <td>0.5</td>\n",
       "      <td>0.0</td>\n",
       "      <td>0.0</td>\n",
       "      <td>0.5</td>\n",
       "      <td>0.0</td>\n",
       "      <td>1.0</td>\n",
       "      <td>bankruptcy</td>\n",
       "    </tr>\n",
       "    <tr>\n",
       "      <th>4</th>\n",
       "      <td>1.0</td>\n",
       "      <td>1.0</td>\n",
       "      <td>0.0</td>\n",
       "      <td>0.0</td>\n",
       "      <td>0.0</td>\n",
       "      <td>1.0</td>\n",
       "      <td>bankruptcy</td>\n",
       "    </tr>\n",
       "    <tr>\n",
       "      <th>...</th>\n",
       "      <td>...</td>\n",
       "      <td>...</td>\n",
       "      <td>...</td>\n",
       "      <td>...</td>\n",
       "      <td>...</td>\n",
       "      <td>...</td>\n",
       "      <td>...</td>\n",
       "    </tr>\n",
       "    <tr>\n",
       "      <th>245</th>\n",
       "      <td>0.0</td>\n",
       "      <td>1.0</td>\n",
       "      <td>1.0</td>\n",
       "      <td>1.0</td>\n",
       "      <td>1.0</td>\n",
       "      <td>1.0</td>\n",
       "      <td>non-bankruptcy</td>\n",
       "    </tr>\n",
       "    <tr>\n",
       "      <th>246</th>\n",
       "      <td>1.0</td>\n",
       "      <td>1.0</td>\n",
       "      <td>0.5</td>\n",
       "      <td>1.0</td>\n",
       "      <td>1.0</td>\n",
       "      <td>0.0</td>\n",
       "      <td>non-bankruptcy</td>\n",
       "    </tr>\n",
       "    <tr>\n",
       "      <th>247</th>\n",
       "      <td>0.0</td>\n",
       "      <td>1.0</td>\n",
       "      <td>1.0</td>\n",
       "      <td>0.5</td>\n",
       "      <td>0.5</td>\n",
       "      <td>0.0</td>\n",
       "      <td>non-bankruptcy</td>\n",
       "    </tr>\n",
       "    <tr>\n",
       "      <th>248</th>\n",
       "      <td>1.0</td>\n",
       "      <td>0.0</td>\n",
       "      <td>0.5</td>\n",
       "      <td>1.0</td>\n",
       "      <td>0.5</td>\n",
       "      <td>0.0</td>\n",
       "      <td>non-bankruptcy</td>\n",
       "    </tr>\n",
       "    <tr>\n",
       "      <th>249</th>\n",
       "      <td>1.0</td>\n",
       "      <td>0.0</td>\n",
       "      <td>0.5</td>\n",
       "      <td>0.5</td>\n",
       "      <td>1.0</td>\n",
       "      <td>1.0</td>\n",
       "      <td>non-bankruptcy</td>\n",
       "    </tr>\n",
       "  </tbody>\n",
       "</table>\n",
       "<p>250 rows × 7 columns</p>\n",
       "</div>"
      ],
      "text/plain": [
       "     industrial_risk   management_risk   financial_flexibility   credibility  \\\n",
       "0                0.5               1.0                     0.0           0.0   \n",
       "1                0.0               1.0                     0.0           0.0   \n",
       "2                1.0               0.0                     0.0           0.0   \n",
       "3                0.5               0.0                     0.0           0.5   \n",
       "4                1.0               1.0                     0.0           0.0   \n",
       "..               ...               ...                     ...           ...   \n",
       "245              0.0               1.0                     1.0           1.0   \n",
       "246              1.0               1.0                     0.5           1.0   \n",
       "247              0.0               1.0                     1.0           0.5   \n",
       "248              1.0               0.0                     0.5           1.0   \n",
       "249              1.0               0.0                     0.5           0.5   \n",
       "\n",
       "      competitiveness   operating_risk           class  \n",
       "0                 0.0              0.5      bankruptcy  \n",
       "1                 0.0              1.0      bankruptcy  \n",
       "2                 0.0              1.0      bankruptcy  \n",
       "3                 0.0              1.0      bankruptcy  \n",
       "4                 0.0              1.0      bankruptcy  \n",
       "..                ...              ...             ...  \n",
       "245               1.0              1.0  non-bankruptcy  \n",
       "246               1.0              0.0  non-bankruptcy  \n",
       "247               0.5              0.0  non-bankruptcy  \n",
       "248               0.5              0.0  non-bankruptcy  \n",
       "249               1.0              1.0  non-bankruptcy  \n",
       "\n",
       "[250 rows x 7 columns]"
      ]
     },
     "execution_count": 2,
     "metadata": {},
     "output_type": "execute_result"
    }
   ],
   "source": [
    "data = pd.read_csv('bankruptcy-prevention.csv', sep = ';')\n",
    "data"
   ]
  },
  {
   "cell_type": "code",
   "execution_count": 3,
   "id": "6415e191",
   "metadata": {
    "ExecuteTime": {
     "end_time": "2023-08-07T07:14:26.146066Z",
     "start_time": "2023-08-07T07:14:26.106051Z"
    }
   },
   "outputs": [
    {
     "data": {
      "text/html": [
       "<div>\n",
       "<style scoped>\n",
       "    .dataframe tbody tr th:only-of-type {\n",
       "        vertical-align: middle;\n",
       "    }\n",
       "\n",
       "    .dataframe tbody tr th {\n",
       "        vertical-align: top;\n",
       "    }\n",
       "\n",
       "    .dataframe thead th {\n",
       "        text-align: right;\n",
       "    }\n",
       "</style>\n",
       "<table border=\"1\" class=\"dataframe\">\n",
       "  <thead>\n",
       "    <tr style=\"text-align: right;\">\n",
       "      <th></th>\n",
       "      <th>Industrial Risk</th>\n",
       "      <th>Management Risk</th>\n",
       "      <th>Financial Flexibility</th>\n",
       "      <th>Credibility</th>\n",
       "      <th>Competitiveness</th>\n",
       "      <th>Operating Risk</th>\n",
       "      <th>Class</th>\n",
       "    </tr>\n",
       "  </thead>\n",
       "  <tbody>\n",
       "    <tr>\n",
       "      <th>0</th>\n",
       "      <td>0.5</td>\n",
       "      <td>1.0</td>\n",
       "      <td>0.0</td>\n",
       "      <td>0.0</td>\n",
       "      <td>0.0</td>\n",
       "      <td>0.5</td>\n",
       "      <td>bankruptcy</td>\n",
       "    </tr>\n",
       "    <tr>\n",
       "      <th>1</th>\n",
       "      <td>0.0</td>\n",
       "      <td>1.0</td>\n",
       "      <td>0.0</td>\n",
       "      <td>0.0</td>\n",
       "      <td>0.0</td>\n",
       "      <td>1.0</td>\n",
       "      <td>bankruptcy</td>\n",
       "    </tr>\n",
       "    <tr>\n",
       "      <th>2</th>\n",
       "      <td>1.0</td>\n",
       "      <td>0.0</td>\n",
       "      <td>0.0</td>\n",
       "      <td>0.0</td>\n",
       "      <td>0.0</td>\n",
       "      <td>1.0</td>\n",
       "      <td>bankruptcy</td>\n",
       "    </tr>\n",
       "    <tr>\n",
       "      <th>3</th>\n",
       "      <td>0.5</td>\n",
       "      <td>0.0</td>\n",
       "      <td>0.0</td>\n",
       "      <td>0.5</td>\n",
       "      <td>0.0</td>\n",
       "      <td>1.0</td>\n",
       "      <td>bankruptcy</td>\n",
       "    </tr>\n",
       "    <tr>\n",
       "      <th>4</th>\n",
       "      <td>1.0</td>\n",
       "      <td>1.0</td>\n",
       "      <td>0.0</td>\n",
       "      <td>0.0</td>\n",
       "      <td>0.0</td>\n",
       "      <td>1.0</td>\n",
       "      <td>bankruptcy</td>\n",
       "    </tr>\n",
       "    <tr>\n",
       "      <th>...</th>\n",
       "      <td>...</td>\n",
       "      <td>...</td>\n",
       "      <td>...</td>\n",
       "      <td>...</td>\n",
       "      <td>...</td>\n",
       "      <td>...</td>\n",
       "      <td>...</td>\n",
       "    </tr>\n",
       "    <tr>\n",
       "      <th>245</th>\n",
       "      <td>0.0</td>\n",
       "      <td>1.0</td>\n",
       "      <td>1.0</td>\n",
       "      <td>1.0</td>\n",
       "      <td>1.0</td>\n",
       "      <td>1.0</td>\n",
       "      <td>non-bankruptcy</td>\n",
       "    </tr>\n",
       "    <tr>\n",
       "      <th>246</th>\n",
       "      <td>1.0</td>\n",
       "      <td>1.0</td>\n",
       "      <td>0.5</td>\n",
       "      <td>1.0</td>\n",
       "      <td>1.0</td>\n",
       "      <td>0.0</td>\n",
       "      <td>non-bankruptcy</td>\n",
       "    </tr>\n",
       "    <tr>\n",
       "      <th>247</th>\n",
       "      <td>0.0</td>\n",
       "      <td>1.0</td>\n",
       "      <td>1.0</td>\n",
       "      <td>0.5</td>\n",
       "      <td>0.5</td>\n",
       "      <td>0.0</td>\n",
       "      <td>non-bankruptcy</td>\n",
       "    </tr>\n",
       "    <tr>\n",
       "      <th>248</th>\n",
       "      <td>1.0</td>\n",
       "      <td>0.0</td>\n",
       "      <td>0.5</td>\n",
       "      <td>1.0</td>\n",
       "      <td>0.5</td>\n",
       "      <td>0.0</td>\n",
       "      <td>non-bankruptcy</td>\n",
       "    </tr>\n",
       "    <tr>\n",
       "      <th>249</th>\n",
       "      <td>1.0</td>\n",
       "      <td>0.0</td>\n",
       "      <td>0.5</td>\n",
       "      <td>0.5</td>\n",
       "      <td>1.0</td>\n",
       "      <td>1.0</td>\n",
       "      <td>non-bankruptcy</td>\n",
       "    </tr>\n",
       "  </tbody>\n",
       "</table>\n",
       "<p>250 rows × 7 columns</p>\n",
       "</div>"
      ],
      "text/plain": [
       "     Industrial Risk  Management Risk  Financial Flexibility  Credibility  \\\n",
       "0                0.5              1.0                    0.0          0.0   \n",
       "1                0.0              1.0                    0.0          0.0   \n",
       "2                1.0              0.0                    0.0          0.0   \n",
       "3                0.5              0.0                    0.0          0.5   \n",
       "4                1.0              1.0                    0.0          0.0   \n",
       "..               ...              ...                    ...          ...   \n",
       "245              0.0              1.0                    1.0          1.0   \n",
       "246              1.0              1.0                    0.5          1.0   \n",
       "247              0.0              1.0                    1.0          0.5   \n",
       "248              1.0              0.0                    0.5          1.0   \n",
       "249              1.0              0.0                    0.5          0.5   \n",
       "\n",
       "     Competitiveness  Operating Risk           Class  \n",
       "0                0.0             0.5      bankruptcy  \n",
       "1                0.0             1.0      bankruptcy  \n",
       "2                0.0             1.0      bankruptcy  \n",
       "3                0.0             1.0      bankruptcy  \n",
       "4                0.0             1.0      bankruptcy  \n",
       "..               ...             ...             ...  \n",
       "245              1.0             1.0  non-bankruptcy  \n",
       "246              1.0             0.0  non-bankruptcy  \n",
       "247              0.5             0.0  non-bankruptcy  \n",
       "248              0.5             0.0  non-bankruptcy  \n",
       "249              1.0             1.0  non-bankruptcy  \n",
       "\n",
       "[250 rows x 7 columns]"
      ]
     },
     "execution_count": 3,
     "metadata": {},
     "output_type": "execute_result"
    }
   ],
   "source": [
    "data.columns = ['Industrial Risk', 'Management Risk', 'Financial Flexibility', 'Credibility', 'Competitiveness', 'Operating Risk', 'Class']\n",
    "data"
   ]
  },
  {
   "cell_type": "markdown",
   "id": "58866a22",
   "metadata": {},
   "source": [
    "-----------\n",
    "\n",
    "### Checking for null values and data types"
   ]
  },
  {
   "cell_type": "code",
   "execution_count": 4,
   "id": "07f34b05",
   "metadata": {
    "ExecuteTime": {
     "end_time": "2023-08-07T07:14:26.176961Z",
     "start_time": "2023-08-07T07:14:26.152003Z"
    }
   },
   "outputs": [
    {
     "name": "stdout",
     "output_type": "stream",
     "text": [
      "<class 'pandas.core.frame.DataFrame'>\n",
      "RangeIndex: 250 entries, 0 to 249\n",
      "Data columns (total 7 columns):\n",
      " #   Column                 Non-Null Count  Dtype  \n",
      "---  ------                 --------------  -----  \n",
      " 0   Industrial Risk        250 non-null    float64\n",
      " 1   Management Risk        250 non-null    float64\n",
      " 2   Financial Flexibility  250 non-null    float64\n",
      " 3   Credibility            250 non-null    float64\n",
      " 4   Competitiveness        250 non-null    float64\n",
      " 5   Operating Risk         250 non-null    float64\n",
      " 6   Class                  250 non-null    object \n",
      "dtypes: float64(6), object(1)\n",
      "memory usage: 13.8+ KB\n"
     ]
    }
   ],
   "source": [
    "data.info()"
   ]
  },
  {
   "cell_type": "markdown",
   "id": "977e15f4",
   "metadata": {},
   "source": [
    "------------\n",
    "\n",
    "The data table has no null values and there are no errors in the data types as well.\n",
    "\n",
    "---------\n",
    "\n",
    "### Checking for statistical parameters of each column"
   ]
  },
  {
   "cell_type": "code",
   "execution_count": 5,
   "id": "97da94d7",
   "metadata": {
    "ExecuteTime": {
     "end_time": "2023-08-07T07:14:26.222873Z",
     "start_time": "2023-08-07T07:14:26.179958Z"
    },
    "scrolled": true
   },
   "outputs": [
    {
     "data": {
      "text/html": [
       "<div>\n",
       "<style scoped>\n",
       "    .dataframe tbody tr th:only-of-type {\n",
       "        vertical-align: middle;\n",
       "    }\n",
       "\n",
       "    .dataframe tbody tr th {\n",
       "        vertical-align: top;\n",
       "    }\n",
       "\n",
       "    .dataframe thead th {\n",
       "        text-align: right;\n",
       "    }\n",
       "</style>\n",
       "<table border=\"1\" class=\"dataframe\">\n",
       "  <thead>\n",
       "    <tr style=\"text-align: right;\">\n",
       "      <th></th>\n",
       "      <th>Industrial Risk</th>\n",
       "      <th>Management Risk</th>\n",
       "      <th>Financial Flexibility</th>\n",
       "      <th>Credibility</th>\n",
       "      <th>Competitiveness</th>\n",
       "      <th>Operating Risk</th>\n",
       "    </tr>\n",
       "  </thead>\n",
       "  <tbody>\n",
       "    <tr>\n",
       "      <th>count</th>\n",
       "      <td>250.000000</td>\n",
       "      <td>250.000000</td>\n",
       "      <td>250.000000</td>\n",
       "      <td>250.000000</td>\n",
       "      <td>250.000000</td>\n",
       "      <td>250.000000</td>\n",
       "    </tr>\n",
       "    <tr>\n",
       "      <th>mean</th>\n",
       "      <td>0.518000</td>\n",
       "      <td>0.614000</td>\n",
       "      <td>0.376000</td>\n",
       "      <td>0.470000</td>\n",
       "      <td>0.476000</td>\n",
       "      <td>0.570000</td>\n",
       "    </tr>\n",
       "    <tr>\n",
       "      <th>std</th>\n",
       "      <td>0.411526</td>\n",
       "      <td>0.410705</td>\n",
       "      <td>0.401583</td>\n",
       "      <td>0.415682</td>\n",
       "      <td>0.440682</td>\n",
       "      <td>0.434575</td>\n",
       "    </tr>\n",
       "    <tr>\n",
       "      <th>min</th>\n",
       "      <td>0.000000</td>\n",
       "      <td>0.000000</td>\n",
       "      <td>0.000000</td>\n",
       "      <td>0.000000</td>\n",
       "      <td>0.000000</td>\n",
       "      <td>0.000000</td>\n",
       "    </tr>\n",
       "    <tr>\n",
       "      <th>25%</th>\n",
       "      <td>0.000000</td>\n",
       "      <td>0.500000</td>\n",
       "      <td>0.000000</td>\n",
       "      <td>0.000000</td>\n",
       "      <td>0.000000</td>\n",
       "      <td>0.000000</td>\n",
       "    </tr>\n",
       "    <tr>\n",
       "      <th>50%</th>\n",
       "      <td>0.500000</td>\n",
       "      <td>0.500000</td>\n",
       "      <td>0.500000</td>\n",
       "      <td>0.500000</td>\n",
       "      <td>0.500000</td>\n",
       "      <td>0.500000</td>\n",
       "    </tr>\n",
       "    <tr>\n",
       "      <th>75%</th>\n",
       "      <td>1.000000</td>\n",
       "      <td>1.000000</td>\n",
       "      <td>0.500000</td>\n",
       "      <td>1.000000</td>\n",
       "      <td>1.000000</td>\n",
       "      <td>1.000000</td>\n",
       "    </tr>\n",
       "    <tr>\n",
       "      <th>max</th>\n",
       "      <td>1.000000</td>\n",
       "      <td>1.000000</td>\n",
       "      <td>1.000000</td>\n",
       "      <td>1.000000</td>\n",
       "      <td>1.000000</td>\n",
       "      <td>1.000000</td>\n",
       "    </tr>\n",
       "  </tbody>\n",
       "</table>\n",
       "</div>"
      ],
      "text/plain": [
       "       Industrial Risk  Management Risk  Financial Flexibility  Credibility  \\\n",
       "count       250.000000       250.000000             250.000000   250.000000   \n",
       "mean          0.518000         0.614000               0.376000     0.470000   \n",
       "std           0.411526         0.410705               0.401583     0.415682   \n",
       "min           0.000000         0.000000               0.000000     0.000000   \n",
       "25%           0.000000         0.500000               0.000000     0.000000   \n",
       "50%           0.500000         0.500000               0.500000     0.500000   \n",
       "75%           1.000000         1.000000               0.500000     1.000000   \n",
       "max           1.000000         1.000000               1.000000     1.000000   \n",
       "\n",
       "       Competitiveness  Operating Risk  \n",
       "count       250.000000      250.000000  \n",
       "mean          0.476000        0.570000  \n",
       "std           0.440682        0.434575  \n",
       "min           0.000000        0.000000  \n",
       "25%           0.000000        0.000000  \n",
       "50%           0.500000        0.500000  \n",
       "75%           1.000000        1.000000  \n",
       "max           1.000000        1.000000  "
      ]
     },
     "execution_count": 5,
     "metadata": {},
     "output_type": "execute_result"
    }
   ],
   "source": [
    "data.describe()"
   ]
  },
  {
   "cell_type": "markdown",
   "id": "0d240617",
   "metadata": {},
   "source": [
    "---------------\n",
    "\n",
    "### Converting the Class column into a Binary column\n",
    "Since the Class column is a categorical one we cannot use it in model building and further analysis. So, to do these we need to change into an integer column retaining its categorical properties.\n",
    "\n",
    "#### Using the label encoder"
   ]
  },
  {
   "cell_type": "code",
   "execution_count": 6,
   "id": "332dc2a5",
   "metadata": {
    "ExecuteTime": {
     "end_time": "2023-08-07T07:14:26.489616Z",
     "start_time": "2023-08-07T07:14:26.225835Z"
    }
   },
   "outputs": [
    {
     "data": {
      "text/html": [
       "<div>\n",
       "<style scoped>\n",
       "    .dataframe tbody tr th:only-of-type {\n",
       "        vertical-align: middle;\n",
       "    }\n",
       "\n",
       "    .dataframe tbody tr th {\n",
       "        vertical-align: top;\n",
       "    }\n",
       "\n",
       "    .dataframe thead th {\n",
       "        text-align: right;\n",
       "    }\n",
       "</style>\n",
       "<table border=\"1\" class=\"dataframe\">\n",
       "  <thead>\n",
       "    <tr style=\"text-align: right;\">\n",
       "      <th></th>\n",
       "      <th>Industrial Risk</th>\n",
       "      <th>Management Risk</th>\n",
       "      <th>Financial Flexibility</th>\n",
       "      <th>Credibility</th>\n",
       "      <th>Competitiveness</th>\n",
       "      <th>Operating Risk</th>\n",
       "      <th>Class</th>\n",
       "      <th>Class Code</th>\n",
       "    </tr>\n",
       "  </thead>\n",
       "  <tbody>\n",
       "    <tr>\n",
       "      <th>0</th>\n",
       "      <td>0.5</td>\n",
       "      <td>1.0</td>\n",
       "      <td>0.0</td>\n",
       "      <td>0.0</td>\n",
       "      <td>0.0</td>\n",
       "      <td>0.5</td>\n",
       "      <td>bankruptcy</td>\n",
       "      <td>0</td>\n",
       "    </tr>\n",
       "    <tr>\n",
       "      <th>1</th>\n",
       "      <td>0.0</td>\n",
       "      <td>1.0</td>\n",
       "      <td>0.0</td>\n",
       "      <td>0.0</td>\n",
       "      <td>0.0</td>\n",
       "      <td>1.0</td>\n",
       "      <td>bankruptcy</td>\n",
       "      <td>0</td>\n",
       "    </tr>\n",
       "    <tr>\n",
       "      <th>2</th>\n",
       "      <td>1.0</td>\n",
       "      <td>0.0</td>\n",
       "      <td>0.0</td>\n",
       "      <td>0.0</td>\n",
       "      <td>0.0</td>\n",
       "      <td>1.0</td>\n",
       "      <td>bankruptcy</td>\n",
       "      <td>0</td>\n",
       "    </tr>\n",
       "    <tr>\n",
       "      <th>3</th>\n",
       "      <td>0.5</td>\n",
       "      <td>0.0</td>\n",
       "      <td>0.0</td>\n",
       "      <td>0.5</td>\n",
       "      <td>0.0</td>\n",
       "      <td>1.0</td>\n",
       "      <td>bankruptcy</td>\n",
       "      <td>0</td>\n",
       "    </tr>\n",
       "    <tr>\n",
       "      <th>4</th>\n",
       "      <td>1.0</td>\n",
       "      <td>1.0</td>\n",
       "      <td>0.0</td>\n",
       "      <td>0.0</td>\n",
       "      <td>0.0</td>\n",
       "      <td>1.0</td>\n",
       "      <td>bankruptcy</td>\n",
       "      <td>0</td>\n",
       "    </tr>\n",
       "    <tr>\n",
       "      <th>...</th>\n",
       "      <td>...</td>\n",
       "      <td>...</td>\n",
       "      <td>...</td>\n",
       "      <td>...</td>\n",
       "      <td>...</td>\n",
       "      <td>...</td>\n",
       "      <td>...</td>\n",
       "      <td>...</td>\n",
       "    </tr>\n",
       "    <tr>\n",
       "      <th>245</th>\n",
       "      <td>0.0</td>\n",
       "      <td>1.0</td>\n",
       "      <td>1.0</td>\n",
       "      <td>1.0</td>\n",
       "      <td>1.0</td>\n",
       "      <td>1.0</td>\n",
       "      <td>non-bankruptcy</td>\n",
       "      <td>1</td>\n",
       "    </tr>\n",
       "    <tr>\n",
       "      <th>246</th>\n",
       "      <td>1.0</td>\n",
       "      <td>1.0</td>\n",
       "      <td>0.5</td>\n",
       "      <td>1.0</td>\n",
       "      <td>1.0</td>\n",
       "      <td>0.0</td>\n",
       "      <td>non-bankruptcy</td>\n",
       "      <td>1</td>\n",
       "    </tr>\n",
       "    <tr>\n",
       "      <th>247</th>\n",
       "      <td>0.0</td>\n",
       "      <td>1.0</td>\n",
       "      <td>1.0</td>\n",
       "      <td>0.5</td>\n",
       "      <td>0.5</td>\n",
       "      <td>0.0</td>\n",
       "      <td>non-bankruptcy</td>\n",
       "      <td>1</td>\n",
       "    </tr>\n",
       "    <tr>\n",
       "      <th>248</th>\n",
       "      <td>1.0</td>\n",
       "      <td>0.0</td>\n",
       "      <td>0.5</td>\n",
       "      <td>1.0</td>\n",
       "      <td>0.5</td>\n",
       "      <td>0.0</td>\n",
       "      <td>non-bankruptcy</td>\n",
       "      <td>1</td>\n",
       "    </tr>\n",
       "    <tr>\n",
       "      <th>249</th>\n",
       "      <td>1.0</td>\n",
       "      <td>0.0</td>\n",
       "      <td>0.5</td>\n",
       "      <td>0.5</td>\n",
       "      <td>1.0</td>\n",
       "      <td>1.0</td>\n",
       "      <td>non-bankruptcy</td>\n",
       "      <td>1</td>\n",
       "    </tr>\n",
       "  </tbody>\n",
       "</table>\n",
       "<p>250 rows × 8 columns</p>\n",
       "</div>"
      ],
      "text/plain": [
       "     Industrial Risk  Management Risk  Financial Flexibility  Credibility  \\\n",
       "0                0.5              1.0                    0.0          0.0   \n",
       "1                0.0              1.0                    0.0          0.0   \n",
       "2                1.0              0.0                    0.0          0.0   \n",
       "3                0.5              0.0                    0.0          0.5   \n",
       "4                1.0              1.0                    0.0          0.0   \n",
       "..               ...              ...                    ...          ...   \n",
       "245              0.0              1.0                    1.0          1.0   \n",
       "246              1.0              1.0                    0.5          1.0   \n",
       "247              0.0              1.0                    1.0          0.5   \n",
       "248              1.0              0.0                    0.5          1.0   \n",
       "249              1.0              0.0                    0.5          0.5   \n",
       "\n",
       "     Competitiveness  Operating Risk           Class  Class Code  \n",
       "0                0.0             0.5      bankruptcy           0  \n",
       "1                0.0             1.0      bankruptcy           0  \n",
       "2                0.0             1.0      bankruptcy           0  \n",
       "3                0.0             1.0      bankruptcy           0  \n",
       "4                0.0             1.0      bankruptcy           0  \n",
       "..               ...             ...             ...         ...  \n",
       "245              1.0             1.0  non-bankruptcy           1  \n",
       "246              1.0             0.0  non-bankruptcy           1  \n",
       "247              0.5             0.0  non-bankruptcy           1  \n",
       "248              0.5             0.0  non-bankruptcy           1  \n",
       "249              1.0             1.0  non-bankruptcy           1  \n",
       "\n",
       "[250 rows x 8 columns]"
      ]
     },
     "execution_count": 6,
     "metadata": {},
     "output_type": "execute_result"
    }
   ],
   "source": [
    "from sklearn.preprocessing import LabelEncoder\n",
    "le = LabelEncoder()\n",
    "data['Class Code'] = le.fit_transform(data['Class'])\n",
    "data"
   ]
  },
  {
   "cell_type": "code",
   "execution_count": 7,
   "id": "12caad76",
   "metadata": {
    "ExecuteTime": {
     "end_time": "2023-08-07T07:14:26.504566Z",
     "start_time": "2023-08-07T07:14:26.491595Z"
    }
   },
   "outputs": [],
   "source": [
    "data.to_csv('bankruptcy-prevention_encoded.csv')"
   ]
  },
  {
   "cell_type": "code",
   "execution_count": 14,
   "id": "42635582",
   "metadata": {
    "ExecuteTime": {
     "end_time": "2023-08-07T07:14:26.519519Z",
     "start_time": "2023-08-07T07:14:26.507552Z"
    },
    "scrolled": true
   },
   "outputs": [
    {
     "data": {
      "text/plain": [
       "Class Code\n",
       "0    107\n",
       "1    143\n",
       "dtype: int64"
      ]
     },
     "execution_count": 14,
     "metadata": {},
     "output_type": "execute_result"
    }
   ],
   "source": [
    "## Checking how many observations belong to either category\n",
    "data.groupby('Class Code').size()"
   ]
  },
  {
   "cell_type": "markdown",
   "id": "24d67b36",
   "metadata": {},
   "source": [
    "------------\n",
    "\n",
    "### Checking for the correlations"
   ]
  },
  {
   "cell_type": "code",
   "execution_count": 15,
   "id": "9b722844",
   "metadata": {
    "ExecuteTime": {
     "end_time": "2023-08-07T07:14:26.551433Z",
     "start_time": "2023-08-07T07:14:26.528497Z"
    },
    "scrolled": true
   },
   "outputs": [
    {
     "data": {
      "text/html": [
       "<div>\n",
       "<style scoped>\n",
       "    .dataframe tbody tr th:only-of-type {\n",
       "        vertical-align: middle;\n",
       "    }\n",
       "\n",
       "    .dataframe tbody tr th {\n",
       "        vertical-align: top;\n",
       "    }\n",
       "\n",
       "    .dataframe thead th {\n",
       "        text-align: right;\n",
       "    }\n",
       "</style>\n",
       "<table border=\"1\" class=\"dataframe\">\n",
       "  <thead>\n",
       "    <tr style=\"text-align: right;\">\n",
       "      <th></th>\n",
       "      <th>Industrial Risk</th>\n",
       "      <th>Management Risk</th>\n",
       "      <th>Financial Flexibility</th>\n",
       "      <th>Credibility</th>\n",
       "      <th>Competitiveness</th>\n",
       "      <th>Operating Risk</th>\n",
       "      <th>Class Code</th>\n",
       "    </tr>\n",
       "  </thead>\n",
       "  <tbody>\n",
       "    <tr>\n",
       "      <th>Industrial Risk</th>\n",
       "      <td>1.000000</td>\n",
       "      <td>0.255127</td>\n",
       "      <td>-0.162624</td>\n",
       "      <td>-0.014438</td>\n",
       "      <td>-0.257814</td>\n",
       "      <td>0.144507</td>\n",
       "      <td>-0.227823</td>\n",
       "    </tr>\n",
       "    <tr>\n",
       "      <th>Management Risk</th>\n",
       "      <td>0.255127</td>\n",
       "      <td>1.000000</td>\n",
       "      <td>-0.254845</td>\n",
       "      <td>-0.303341</td>\n",
       "      <td>-0.306568</td>\n",
       "      <td>0.213874</td>\n",
       "      <td>-0.370838</td>\n",
       "    </tr>\n",
       "    <tr>\n",
       "      <th>Financial Flexibility</th>\n",
       "      <td>-0.162624</td>\n",
       "      <td>-0.254845</td>\n",
       "      <td>1.000000</td>\n",
       "      <td>0.524951</td>\n",
       "      <td>0.686612</td>\n",
       "      <td>-0.116903</td>\n",
       "      <td>0.751020</td>\n",
       "    </tr>\n",
       "    <tr>\n",
       "      <th>Credibility</th>\n",
       "      <td>-0.014438</td>\n",
       "      <td>-0.303341</td>\n",
       "      <td>0.524951</td>\n",
       "      <td>1.000000</td>\n",
       "      <td>0.675689</td>\n",
       "      <td>-0.288458</td>\n",
       "      <td>0.755909</td>\n",
       "    </tr>\n",
       "    <tr>\n",
       "      <th>Competitiveness</th>\n",
       "      <td>-0.257814</td>\n",
       "      <td>-0.306568</td>\n",
       "      <td>0.686612</td>\n",
       "      <td>0.675689</td>\n",
       "      <td>1.000000</td>\n",
       "      <td>-0.211383</td>\n",
       "      <td>0.899452</td>\n",
       "    </tr>\n",
       "    <tr>\n",
       "      <th>Operating Risk</th>\n",
       "      <td>0.144507</td>\n",
       "      <td>0.213874</td>\n",
       "      <td>-0.116903</td>\n",
       "      <td>-0.288458</td>\n",
       "      <td>-0.211383</td>\n",
       "      <td>1.000000</td>\n",
       "      <td>-0.279786</td>\n",
       "    </tr>\n",
       "    <tr>\n",
       "      <th>Class Code</th>\n",
       "      <td>-0.227823</td>\n",
       "      <td>-0.370838</td>\n",
       "      <td>0.751020</td>\n",
       "      <td>0.755909</td>\n",
       "      <td>0.899452</td>\n",
       "      <td>-0.279786</td>\n",
       "      <td>1.000000</td>\n",
       "    </tr>\n",
       "  </tbody>\n",
       "</table>\n",
       "</div>"
      ],
      "text/plain": [
       "                       Industrial Risk  Management Risk  \\\n",
       "Industrial Risk               1.000000         0.255127   \n",
       "Management Risk               0.255127         1.000000   \n",
       "Financial Flexibility        -0.162624        -0.254845   \n",
       "Credibility                  -0.014438        -0.303341   \n",
       "Competitiveness              -0.257814        -0.306568   \n",
       "Operating Risk                0.144507         0.213874   \n",
       "Class Code                   -0.227823        -0.370838   \n",
       "\n",
       "                       Financial Flexibility  Credibility  Competitiveness  \\\n",
       "Industrial Risk                    -0.162624    -0.014438        -0.257814   \n",
       "Management Risk                    -0.254845    -0.303341        -0.306568   \n",
       "Financial Flexibility               1.000000     0.524951         0.686612   \n",
       "Credibility                         0.524951     1.000000         0.675689   \n",
       "Competitiveness                     0.686612     0.675689         1.000000   \n",
       "Operating Risk                     -0.116903    -0.288458        -0.211383   \n",
       "Class Code                          0.751020     0.755909         0.899452   \n",
       "\n",
       "                       Operating Risk  Class Code  \n",
       "Industrial Risk              0.144507   -0.227823  \n",
       "Management Risk              0.213874   -0.370838  \n",
       "Financial Flexibility       -0.116903    0.751020  \n",
       "Credibility                 -0.288458    0.755909  \n",
       "Competitiveness             -0.211383    0.899452  \n",
       "Operating Risk               1.000000   -0.279786  \n",
       "Class Code                  -0.279786    1.000000  "
      ]
     },
     "execution_count": 15,
     "metadata": {},
     "output_type": "execute_result"
    }
   ],
   "source": [
    "data.corr()"
   ]
  },
  {
   "cell_type": "markdown",
   "id": "66c8f807",
   "metadata": {},
   "source": [
    "-----------------\n",
    "\n",
    "The Class columns has some high correlations with Financial Flexibility, Credibility, and Competitiveness.\n",
    "\n",
    "------\n",
    "\n",
    "### Box plots of all the columns\n",
    "In the box plots we can find the presence of outliers in the data and also some information about the data distribution"
   ]
  },
  {
   "cell_type": "code",
   "execution_count": 16,
   "id": "0504fa6d",
   "metadata": {
    "ExecuteTime": {
     "end_time": "2023-08-07T07:14:27.546772Z",
     "start_time": "2023-08-07T07:14:26.556421Z"
    }
   },
   "outputs": [
    {
     "data": {
      "image/png": "[encoded data removed]",
      "text/plain": [
       "<Figure size 640x480 with 9 Axes>"
      ]
     },
     "metadata": {},
     "output_type": "display_data"
    }
   ],
   "source": [
    "# Box and Whisker Plots\n",
    "data.plot(kind='box', subplots=True, layout=(3,3), sharex=False, sharey=False)\n",
    "plt.show()"
   ]
  },
  {
   "cell_type": "code",
   "execution_count": 17,
   "id": "8031d044",
   "metadata": {
    "ExecuteTime": {
     "end_time": "2023-08-07T07:14:27.872899Z",
     "start_time": "2023-08-07T07:14:27.549764Z"
    }
   },
   "outputs": [
    {
     "data": {
      "text/plain": [
       "<AxesSubplot:>"
      ]
     },
     "execution_count": 17,
     "metadata": {},
     "output_type": "execute_result"
    },
    {
     "data": {
      "image/png": "[encoded data removed]",
      "text/plain": [
       "<Figure size 640x480 with 1 Axes>"
      ]
     },
     "metadata": {},
     "output_type": "display_data"
    }
   ],
   "source": [
    "sns.boxplot(data = data, orient='h')"
   ]
  },
  {
   "cell_type": "markdown",
   "id": "1953f272",
   "metadata": {},
   "source": [
    "------------------\n",
    "\n",
    "We can see that there are no outliers in the data.\n",
    "\n",
    "------------\n",
    "\n",
    "### Correlation heatmap\n",
    "This is a graphical representation of the correlation matrix."
   ]
  },
  {
   "cell_type": "code",
   "execution_count": null,
   "id": "64940baa",
   "metadata": {
    "ExecuteTime": {
     "end_time": "2023-08-07T07:14:28.383555Z",
     "start_time": "2023-08-07T07:14:27.874894Z"
    }
   },
   "outputs": [],
   "source": [
    "correlations = data.corr()\n",
    "# plot correlation matrix\n",
    "fig = plt.figure()\n",
    "ax = fig.add_subplot(111) #\"111\" means \"1x1 grid, first subplot\"\n",
    "cax = ax.matshow(correlations, vmin=-1, vmax=1)\n",
    "fig.colorbar(cax)\n",
    "plt.show()"
   ]
  },
  {
   "cell_type": "markdown",
   "id": "d29f4131",
   "metadata": {},
   "source": [
    "-------------------\n",
    "\n",
    "### Density plots\n",
    "These will give information about the distribution of the data."
   ]
  },
  {
   "cell_type": "code",
   "execution_count": null,
   "id": "eda75847",
   "metadata": {
    "ExecuteTime": {
     "end_time": "2023-08-07T07:14:29.773818Z",
     "start_time": "2023-08-07T07:14:28.386526Z"
    }
   },
   "outputs": [],
   "source": [
    "# Univariate Density Plots\n",
    "\n",
    "data.plot(kind='density', subplots=True, layout=(2,4), sharex=False, figsize = (16, 8))\n",
    "plt.show()"
   ]
  },
  {
   "cell_type": "markdown",
   "id": "918aab23",
   "metadata": {},
   "source": [
    "----------------------\n",
    "\n",
    "### Histograms\n",
    "These will give accurate information about the distribution of data."
   ]
  },
  {
   "cell_type": "code",
   "execution_count": null,
   "id": "3166dd9c",
   "metadata": {
    "ExecuteTime": {
     "end_time": "2023-08-07T07:14:31.423434Z",
     "start_time": "2023-08-07T07:14:29.776809Z"
    }
   },
   "outputs": [],
   "source": [
    "# Univariate Histograms\n",
    "\n",
    "data.hist(figsize=(12, 8))\n",
    "plt.show()"
   ]
  },
  {
   "cell_type": "markdown",
   "id": "014b6337",
   "metadata": {},
   "source": [
    "-----------------\n",
    "\n",
    "We can see that in all the columns, the data is distributed at 0, 0.5, and 1 values.\n",
    "\n",
    "------------\n",
    "### Scatter plots\n",
    "These plots are used to understand the correlations between different columns in a graphical manner."
   ]
  },
  {
   "cell_type": "code",
   "execution_count": null,
   "id": "1beef6d8",
   "metadata": {
    "ExecuteTime": {
     "end_time": "2023-08-07T07:14:34.306977Z",
     "start_time": "2023-08-07T07:14:31.426397Z"
    }
   },
   "outputs": [],
   "source": [
    "# Scatterplot Matrix\n",
    "from pandas.plotting import scatter_matrix\n",
    "\n",
    "scatter_matrix(data, figsize=(12, 12))\n",
    "plt.show()"
   ]
  },
  {
   "cell_type": "code",
   "execution_count": null,
   "id": "32f79516",
   "metadata": {
    "ExecuteTime": {
     "end_time": "2023-08-07T07:14:51.805092Z",
     "start_time": "2023-08-07T07:14:34.310874Z"
    }
   },
   "outputs": [],
   "source": [
    "sns.set_style(style='darkgrid')\n",
    "sns.pairplot(data)"
   ]
  },
  {
   "cell_type": "markdown",
   "id": "3721593c",
   "metadata": {},
   "source": [
    "--------------------\n",
    "\n",
    "Since the distribution of the data in all the columns is restricted to only 3 specific values, the graphical representation of these correlations is not that clear when compared to the correlation matrix above.\n",
    "\n",
    "### Checking count of each category in the independent variables\n",
    "Here the count of each category in the variables can be seen both in tabular and visual formats."
   ]
  },
  {
   "cell_type": "code",
   "execution_count": null,
   "id": "accc16ce",
   "metadata": {
    "ExecuteTime": {
     "end_time": "2023-08-07T07:14:51.837007Z",
     "start_time": "2023-08-07T07:14:51.808085Z"
    }
   },
   "outputs": [],
   "source": [
    "print(data['Industrial Risk'].value_counts())\n",
    "print('----------------------------------------------')\n",
    "print(data['Management Risk'].value_counts())\n",
    "print('----------------------------------------------')\n",
    "print(data['Financial Flexibility'].value_counts())\n",
    "print('----------------------------------------------')\n",
    "print(data['Credibility'].value_counts())\n",
    "print('----------------------------------------------')\n",
    "print(data['Competitiveness'].value_counts())\n",
    "print('----------------------------------------------')\n",
    "print(data['Operating Risk'].value_counts())"
   ]
  },
  {
   "cell_type": "code",
   "execution_count": null,
   "id": "67cd0db8",
   "metadata": {
    "ExecuteTime": {
     "end_time": "2023-08-07T07:14:53.453716Z",
     "start_time": "2023-08-07T07:14:51.839002Z"
    },
    "scrolled": false
   },
   "outputs": [],
   "source": [
    "fig, axes = plt.subplots(nrows=2, ncols=3, figsize=(20, 10))\n",
    "data['Industrial Risk'].value_counts().plot(kind='bar', ax = axes[0,0], title = 'Industrial Risk', color = ['orange', 'blue', 'green'])\n",
    "data['Management Risk'].value_counts().plot(kind='bar', ax = axes[0,1], title = 'Management Risk', color = ['orange', 'blue', 'green'])\n",
    "data['Financial Flexibility'].value_counts().plot(kind='bar', ax = axes[0,2], title = 'Financial Flexibility', color = ['orange', 'blue', 'green'])\n",
    "data['Credibility'].value_counts().plot(kind='bar', ax = axes[1,0], title = 'Credibility', color = ['orange', 'blue', 'green'])\n",
    "data['Competitiveness'].value_counts().plot(kind='bar', ax = axes[1,1], title = 'Competitiveness', color = ['orange', 'blue', 'green'])\n",
    "data['Operating Risk'].value_counts().plot(kind='bar', ax = axes[1,2], title = 'Operating Risk', color = ['orange', 'blue', 'green'])"
   ]
  },
  {
   "cell_type": "code",
   "execution_count": null,
   "id": "61672139",
   "metadata": {
    "ExecuteTime": {
     "end_time": "2023-08-07T07:14:54.202714Z",
     "start_time": "2023-08-07T07:14:53.455682Z"
    }
   },
   "outputs": [],
   "source": [
    "fig, axes = plt.subplots(nrows=2, ncols=3, figsize=(20, 10))\n",
    "data['Industrial Risk'].value_counts().plot(kind='pie', ax = axes[0,0], title = 'Industrial Risk')\n",
    "data['Management Risk'].value_counts().plot(kind='pie', ax = axes[0,1], title = 'Management Risk')\n",
    "data['Financial Flexibility'].value_counts().plot(kind='pie', ax = axes[0,2], title = 'Financial Flexibility')\n",
    "data['Credibility'].value_counts().plot(kind='pie', ax = axes[1,0], title = 'Credibility')\n",
    "data['Competitiveness'].value_counts().plot(kind='pie', ax = axes[1,1], title = 'Competitiveness')\n",
    "data['Operating Risk'].value_counts().plot(kind='pie', ax = axes[1,2], title = 'Operating Risk')"
   ]
  },
  {
   "cell_type": "markdown",
   "id": "4d9675c1",
   "metadata": {},
   "source": [
    "### Checking cross tables between independent and target variables\n",
    "Here we can see how many observations in each category of the independent variables belongs to each category of the target variable.\n",
    "\n",
    "Here we can see both the tabular and visual representations."
   ]
  },
  {
   "cell_type": "code",
   "execution_count": null,
   "id": "ab38f06b",
   "metadata": {
    "ExecuteTime": {
     "end_time": "2023-08-07T07:14:54.280472Z",
     "start_time": "2023-08-07T07:14:54.206674Z"
    }
   },
   "outputs": [],
   "source": [
    "print(pd.crosstab(data['Industrial Risk'], data.Class))\n",
    "print('----------------------------------------------')\n",
    "print(pd.crosstab(data['Management Risk'], data.Class))\n",
    "print('----------------------------------------------')\n",
    "print(pd.crosstab(data['Financial Flexibility'], data.Class))\n",
    "print('----------------------------------------------')\n",
    "print(pd.crosstab(data['Credibility'], data.Class))\n",
    "print('----------------------------------------------')\n",
    "print(pd.crosstab(data['Competitiveness'], data.Class))\n",
    "print('----------------------------------------------')\n",
    "print(pd.crosstab(data['Operating Risk'], data.Class))"
   ]
  },
  {
   "cell_type": "code",
   "execution_count": null,
   "id": "b3fe8749",
   "metadata": {
    "ExecuteTime": {
     "end_time": "2023-08-07T07:14:56.354925Z",
     "start_time": "2023-08-07T07:14:54.284464Z"
    }
   },
   "outputs": [],
   "source": [
    "fig, axes = plt.subplots(nrows=2, ncols=3, figsize=(20, 10))\n",
    "pd.crosstab(data['Industrial Risk'], data.Class).plot(kind = 'bar', ax = axes[0,0])\n",
    "pd.crosstab(data['Management Risk'], data.Class).plot(kind = 'bar', ax = axes[0,1])\n",
    "pd.crosstab(data['Financial Flexibility'], data.Class).plot(kind = 'bar', ax = axes[0,2])\n",
    "pd.crosstab(data['Credibility'], data.Class).plot(kind = 'bar', ax = axes[1,0])\n",
    "pd.crosstab(data['Competitiveness'], data.Class).plot(kind = 'bar', ax = axes[1,1])\n",
    "pd.crosstab(data['Operating Risk'], data.Class).plot(kind = 'bar', ax = axes[1,2])"
   ]
  },
  {
   "cell_type": "markdown",
   "id": "c8c451f9",
   "metadata": {},
   "source": [
    "------------------\n",
    "\n",
    "From the above illustrations we can understand that when the Industrial Risk, Management Risk, and Operating Risk are high, that is with values of 1, the chances of the company going bankrupt is very high.\n",
    "\n",
    "Similarly, the other traits like Financial Flexibility, Credibility, and Competitiveness when high will reduce the chances of a company going bankrupt.\n",
    "\n",
    "------------------"
   ]
  },
  {
   "cell_type": "markdown",
   "id": "e412cee9",
   "metadata": {},
   "source": [
    "## Feature Extraction Techniques\n",
    "To understand which features plays an important role in making the predictions.\n",
    "\n",
    "### Recursive Feature Elimination - RFE\n",
    "RFE is a feature selection technique that iteratively eliminates less important features based on an algorithm and importance-ranking metric to identify the most relevant subset of features."
   ]
  },
  {
   "cell_type": "code",
   "execution_count": null,
   "id": "35dfb7d7",
   "metadata": {
    "ExecuteTime": {
     "end_time": "2023-08-07T07:14:56.542450Z",
     "start_time": "2023-08-07T07:14:56.357918Z"
    }
   },
   "outputs": [],
   "source": [
    "# Feature Extraction with RFE\n",
    "from sklearn.feature_selection import RFE\n",
    "from sklearn.linear_model import LogisticRegression\n",
    "\n",
    "x = data.iloc[:,:-2]\n",
    "y = data.iloc[:,-1]\n",
    "\n",
    "# feature extraction\n",
    "model = LogisticRegression(max_iter=500)\n",
    "\n",
    "rfe = RFE(model, n_features_to_select=4)\n",
    "fit = rfe.fit(x, y)\n",
    "\n",
    "fit.n_features_\n",
    "fit.support_\n",
    "fit.ranking_"
   ]
  },
  {
   "cell_type": "markdown",
   "id": "c0ba9d60",
   "metadata": {},
   "source": [
    "### Extra Trees Classifier\n",
    "Extra Trees Classifier utilizes multiple decision trees and selects features based on their importance scores, making it less sensitive to noise and irrelevant features"
   ]
  },
  {
   "cell_type": "code",
   "execution_count": null,
   "id": "bff906f0",
   "metadata": {
    "ExecuteTime": {
     "end_time": "2023-08-07T07:14:56.728228Z",
     "start_time": "2023-08-07T07:14:56.545417Z"
    }
   },
   "outputs": [],
   "source": [
    "# Feature Importance with Extra Trees Classifier\n",
    "from sklearn.ensemble import ExtraTreesClassifier\n",
    "\n",
    "# feature extraction\n",
    "model = ExtraTreesClassifier()\n",
    "model.fit(x, y)\n",
    "\n",
    "print(model.feature_importances_)"
   ]
  },
  {
   "cell_type": "markdown",
   "id": "cf51fb2e",
   "metadata": {},
   "source": [
    "--------------\n",
    "\n",
    "Even though these techniques told us that few features are more important than the rest, here all the variables will definitely contribute something in telling whether a company will go bankrupt or not. So, all the variables will be used for model building."
   ]
  },
  {
   "cell_type": "code",
   "execution_count": null,
   "id": "1bd95dc8",
   "metadata": {},
   "outputs": [],
   "source": []
  }
 ],
 "metadata": {
  "kernelspec": {
   "display_name": "Python 3 (ipykernel)",
   "language": "python",
   "name": "python3"
  },
  "language_info": {
   "codemirror_mode": {
    "name": "ipython",
    "version": 3
   },
   "file_extension": ".py",
   "mimetype": "text/x-python",
   "name": "python",
   "nbconvert_exporter": "python",
   "pygments_lexer": "ipython3",
   "version": "3.9.13"
  },
  "varInspector": {
   "cols": {
    "lenName": 16,
    "lenType": 16,
    "lenVar": 40
   },
   "kernels_config": {
    "python": {
     "delete_cmd_postfix": "",
     "delete_cmd_prefix": "del ",
     "library": "var_list.py",
     "varRefreshCmd": "print(var_dic_list())"
    },
    "r": {
     "delete_cmd_postfix": ") ",
     "delete_cmd_prefix": "rm(",
     "library": "var_list.r",
     "varRefreshCmd": "cat(var_dic_list()) "
    }
   },
   "types_to_exclude": [
    "module",
    "function",
    "builtin_function_or_method",
    "instance",
    "_Feature"
   ],
   "window_display": false
  }
 },
 "nbformat": 4,
 "nbformat_minor": 5
}
